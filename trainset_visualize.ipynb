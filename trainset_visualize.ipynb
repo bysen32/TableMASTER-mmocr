{
 "cells": [
  {
   "attachments": {},
   "cell_type": "markdown",
   "metadata": {},
   "source": [
    "训练集标注可视化"
   ]
  },
  {
   "cell_type": "code",
   "execution_count": 2,
   "metadata": {},
   "outputs": [],
   "source": [
    "import cv2\n",
    "import os\n",
    "import matplotlib.pyplot as plt\n",
    "import matplotlib.patches as patches\n",
    "from PIL import Image\n",
    "from glob import glob\n",
    "import json\n",
    "import numpy as np\n",
    "from pathlib import Path\n",
    "\n",
    "\n",
    "def table_img_visualize(src_img_path, pred_json_path, dst_img_path):\n",
    "    # 按行生成彩色标注框\n",
    "    row2color = []\n",
    "    for i in range(3):\n",
    "        for j in range(3):\n",
    "            for k in range(3):\n",
    "                row2color.append((i*100, j*100, k*100))\n",
    "    row2color = np.array(row2color)\n",
    "\n",
    "    # 加载图像\n",
    "    src_img = cv2.imread(src_img_path)\n",
    "    json_data = json.load(open(pred_json_path, 'r'))\n",
    "    # 遍历坐标列表\n",
    "    for i, cell in enumerate(json_data[\"cells\"]):\n",
    "        x1, y1, x2, y2 = np.array(cell['bbox']).astype(dtype=int).tolist()\n",
    "        row_start, row_end = cell[\"row_start_idx\"], cell[\"row_end_idx\"]\n",
    "        col_start, col_end = cell[\"col_start_idx\"], cell[\"col_end_idx\"]\n",
    "        text = f\"{row_start}-{row_end}, {col_start}-{col_end}\"\n",
    "\n",
    "        if row_end >= row2color.shape[0]:\n",
    "            color = np.array((0, 0, 255))\n",
    "        else:\n",
    "            color = (row2color[row_start] + row2color[row_end])//2\n",
    "        cv2.rectangle(src_img, (x1, y1, x2-x1, y2-y1), color.tolist(), 2)\n",
    "        cv2.putText(src_img, text, (x1, y1+2), cv2.FONT_HERSHEY_SIMPLEX, 0.5, color.tolist(), 2)\n",
    "\n",
    "    cv2.imwrite(dst_img_path, src_img)\n",
    "\n",
    "# 数据集名称\n",
    "dataset = \"train\"\n",
    "# 输入数据目录\n",
    "img_data_dir    = f\"/media/ubuntu/Date12/TableStruct/data/{dataset}/\"\n",
    "json_data_dir    = f\"/media/ubuntu/Date12/TableStruct/data/{dataset}_gt_json/\"\n",
    "# 输出目录\n",
    "pred_visual_dir = f\"./output/structure_result/{dataset}-visualize/\"\n",
    "Path(pred_visual_dir).mkdir(parents=True, exist_ok=True)\n",
    "\n",
    "for src_img_path in glob(img_data_dir+\"*.png\"):\n",
    "    src_img_file = os.path.basename(src_img_path)\n",
    "    pred_json_path = os.path.join(json_data_dir, src_img_file.replace(\".png\", \"-gt.json\"))\n",
    "    dst_img_path = os.path.join(pred_visual_dir, src_img_file.replace(\".png\", \".jpg\"))\n",
    "    table_img_visualize(src_img_path, pred_json_path, dst_img_path)\n"
   ]
  }
 ],
 "metadata": {
  "kernelspec": {
   "display_name": "py3.9_torch1.9",
   "language": "python",
   "name": "python3"
  },
  "language_info": {
   "codemirror_mode": {
    "name": "ipython",
    "version": 3
   },
   "file_extension": ".py",
   "mimetype": "text/x-python",
   "name": "python",
   "nbconvert_exporter": "python",
   "pygments_lexer": "ipython3",
   "version": "3.9.16"
  },
  "orig_nbformat": 4
 },
 "nbformat": 4,
 "nbformat_minor": 2
}
