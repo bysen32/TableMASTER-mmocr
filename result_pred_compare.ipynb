{
 "cells": [
  {
   "cell_type": "code",
   "execution_count": 1,
   "metadata": {},
   "outputs": [
    {
     "name": "stderr",
     "output_type": "stream",
     "text": [
      "100%|██████████| 5187/5187 [11:41<00:00,  7.39it/s]\n"
     ]
    }
   ],
   "source": [
    "from glob import glob\n",
    "from tqdm import tqdm\n",
    "import os\n",
    "import json\n",
    "import cv2\n",
    "import numpy as np\n",
    "from pathlib import Path\n",
    "from prettyprinter import cpprint, set_default_style\n",
    "\n",
    "# pred_json_dirA = \"./output/structure_result/test_A-pred.json_0702_91.130\"\n",
    "pred_json_dirA = \"./output/structure_result/test_A-pred.json_0704_91.935\"\n",
    "pred_json_dirB = \"./output/structure_result/test_A-pred.json\"\n",
    "visualize_dirA = f\"{pred_json_dirA}_visualize\"\n",
    "visualize_dirB = f\"{pred_json_dirB}_visualize\"\n",
    "diff_save_dir = \"./output/structure_result/diff_map\"\n",
    "\n",
    "Path(diff_save_dir).mkdir(parents=True, exist_ok=True)\n",
    "\n",
    "for pred_json_path_A in tqdm(glob(os.path.join(pred_json_dirA, \"*-pred.json\"))):\n",
    "    json_file = os.path.basename(pred_json_path_A)\n",
    "    img_file = json_file.replace(\"-pred.json\", \".jpg\")\n",
    "    img_id = img_file.split(\".\")[0]\n",
    "    dataA = json.load(open(pred_json_path_A, \"r\"))\n",
    "    dataB = json.load(open(os.path.join(pred_json_dirB, json_file), \"r\"))\n",
    "\n",
    "    img_path_A = os.path.join(visualize_dirA, f\"{img_id}.jpg\")\n",
    "    img_path_B = os.path.join(visualize_dirB, f\"{img_id}.jpg\")\n",
    "\n",
    "    # 比较layout排布\n",
    "    if dataA['layout'] != dataB['layout']:\n",
    "        row = max(len(dataA['layout']), len(dataB['layout']))\n",
    "        col = max(len(dataA['layout'][0]), len(dataB['layout'][0]))\n",
    "        diff_map = [[0 for i in range(col)] for j in range(row)]\n",
    "        for i in range(row):\n",
    "            for j in range(col):\n",
    "                if i >= len(dataA['layout']) or j >= len(dataA['layout'][0]):\n",
    "                    diff_map[i][j] = 1\n",
    "                elif i >= len(dataB['layout']) or j >= len(dataB['layout'][0]):\n",
    "                    diff_map[i][j] = 1\n",
    "                else:\n",
    "                    if dataA['layout'][i][j] != dataB['layout'][i][j]:\n",
    "                        diff_map[i][j] = 1\n",
    "        imgA = cv2.imread(img_path_A)\n",
    "        imgB = cv2.imread(img_path_B)\n",
    "        widthA, heightA = imgA.shape[1], imgA.shape[0]\n",
    "        widthB, heightB = imgB.shape[1], imgB.shape[0]\n",
    "        if widthA != widthB:\n",
    "            imgB = cv2.resize(imgA, (widthB, heightB))\n",
    "        image = np.concatenate([imgA, imgB], axis=1)\n",
    "        cv2.imwrite(os.path.join(diff_save_dir, f\"{img_id}.jpg\"), image)\n",
    "        # cpprint(diff_map)\n"
   ]
  },
  {
   "cell_type": "code",
   "execution_count": null,
   "metadata": {},
   "outputs": [],
   "source": []
  }
 ],
 "metadata": {
  "kernelspec": {
   "display_name": "py3.9_torch1.9",
   "language": "python",
   "name": "python3"
  },
  "language_info": {
   "codemirror_mode": {
    "name": "ipython",
    "version": 3
   },
   "file_extension": ".py",
   "mimetype": "text/x-python",
   "name": "python",
   "nbconvert_exporter": "python",
   "pygments_lexer": "ipython3",
   "version": "3.9.16"
  },
  "orig_nbformat": 4
 },
 "nbformat": 4,
 "nbformat_minor": 2
}
