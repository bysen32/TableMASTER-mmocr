{
 "cells": [
  {
   "cell_type": "code",
   "execution_count": 1,
   "metadata": {},
   "outputs": [
    {
     "name": "stderr",
     "output_type": "stream",
     "text": [
      "100%|██████████| 5187/5187 [00:05<00:00, 880.44it/s] \n"
     ]
    }
   ],
   "source": [
    "import os\n",
    "import shutil\n",
    "import json\n",
    "import numpy as np\n",
    "from pathlib import Path\n",
    "from tqdm import tqdm\n",
    "from glob import glob\n",
    "from sklearn.model_selection import KFold\n",
    "\n",
    "\n",
    "\n",
    "DATASET = \"test_A_jpg480max\"\n",
    "DATASET_ROOT = '/media/ubuntu/Date12/TableStruct/new_data'\n",
    "\n",
    "DATASET_DIR = os.path.join(DATASET_ROOT, DATASET)\n",
    "WIRE_DATASET_DIR = os.path.join(DATASET_ROOT, f\"{DATASET}_wire\")\n",
    "WIRELESS_DATASET_DIR = os.path.join(DATASET_ROOT, f\"{DATASET}_wireless\")\n",
    "\n",
    "if os.path.exists(WIRE_DATASET_DIR):\n",
    "    shutil.rmtree(WIRE_DATASET_DIR)\n",
    "if os.path.exists(WIRELESS_DATASET_DIR):\n",
    "    shutil.rmtree(WIRELESS_DATASET_DIR)\n",
    "Path.mkdir(Path(WIRE_DATASET_DIR), parents=True)\n",
    "Path.mkdir(Path(WIRELESS_DATASET_DIR), parents=True)\n",
    "\n",
    "WIRE_OR_NOT_JOSN_PATH = os.path.join(DATASET_ROOT, f\"{DATASET}_wireornot.json\")\n",
    "\n",
    "\n",
    "img_paths = sorted(glob(os.path.join(DATASET_DIR, \"*.jpg\")))\n",
    "wireornot = json.load(open(WIRE_OR_NOT_JOSN_PATH))\n",
    "for img_path in tqdm(img_paths):\n",
    "    img_name = os.path.basename(img_path)\n",
    "    if wireornot[img_name]['index'] == 0:\n",
    "        dst_path = os.path.join(WIRE_DATASET_DIR, img_name)\n",
    "    else:\n",
    "        dst_path = os.path.join(WIRELESS_DATASET_DIR, img_name)\n",
    "    shutil.copy2(img_path, dst_path)\n"
   ]
  },
  {
   "cell_type": "code",
   "execution_count": null,
   "metadata": {},
   "outputs": [],
   "source": []
  },
  {
   "cell_type": "code",
   "execution_count": null,
   "metadata": {},
   "outputs": [],
   "source": []
  }
 ],
 "metadata": {
  "kernelspec": {
   "display_name": "py3.9_torch1.9",
   "language": "python",
   "name": "python3"
  },
  "language_info": {
   "codemirror_mode": {
    "name": "ipython",
    "version": 3
   },
   "file_extension": ".py",
   "mimetype": "text/x-python",
   "name": "python",
   "nbconvert_exporter": "python",
   "pygments_lexer": "ipython3",
   "version": "3.9.16"
  },
  "orig_nbformat": 4
 },
 "nbformat": 4,
 "nbformat_minor": 2
}
