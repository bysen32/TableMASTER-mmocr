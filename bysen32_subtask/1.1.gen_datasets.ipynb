{
 "cells": [
  {
   "cell_type": "code",
   "execution_count": 17,
   "metadata": {},
   "outputs": [
    {
     "name": "stderr",
     "output_type": "stream",
     "text": [
      "100%|██████████| 10893/10893 [00:06<00:00, 1757.35it/s]\n",
      "100%|██████████| 1211/1211 [00:00<00:00, 1648.52it/s]\n"
     ]
    }
   ],
   "source": [
    "import os\n",
    "import shutil\n",
    "import json\n",
    "import numpy as np\n",
    "from pathlib import Path\n",
    "from tqdm import tqdm\n",
    "from glob import glob\n",
    "from sklearn.model_selection import KFold\n",
    "\n",
    "\n",
    "\n",
    "TABLE_DATASET = \"train_jpg480max\"\n",
    "DATASET_ROOT = '/media/ubuntu/Date12/TableStruct/new_data'\n",
    "TABLE_DATASET_DIR = os.path.join(DATASET_ROOT, TABLE_DATASET)\n",
    "WIRE_OR_NOT_DATASET_DIR = os.path.join(DATASET_ROOT, \"wire_or_not\")\n",
    "\n",
    "\n",
    "if os.path.exists(WIRE_OR_NOT_DATASET_DIR):\n",
    "    shutil.rmtree(WIRE_OR_NOT_DATASET_DIR)\n",
    "# Path.mkdir(Path(WIRE_OR_NOT_DATASET_DIR), parents=True)\n",
    "Path.mkdir(Path(os.path.join(WIRE_OR_NOT_DATASET_DIR, \"train\", \"wire\")), parents=True)\n",
    "Path.mkdir(Path(os.path.join(WIRE_OR_NOT_DATASET_DIR, \"train\", \"wireless\")), parents=True)\n",
    "Path.mkdir(Path(os.path.join(WIRE_OR_NOT_DATASET_DIR, \"validation\", \"wire\")), parents=True)\n",
    "Path.mkdir(Path(os.path.join(WIRE_OR_NOT_DATASET_DIR, \"validation\", \"wireless\")), parents=True)\n",
    "\n",
    "\n",
    "kf = KFold(n_splits=10, shuffle=True, random_state=42)\n",
    "table_paths = sorted(glob(os.path.join(TABLE_DATASET_DIR, \"*.json\")))\n",
    "# img_files = list(map(lambda x: os.path.basename(x), img_files))\n",
    "table_paths = np.array(table_paths)\n",
    "\n",
    "for train_set, valid_set in kf.split(table_paths):\n",
    "    train_set = table_paths[train_set]\n",
    "    for table_path in tqdm(train_set.tolist()):\n",
    "        data = json.load(open(table_path))\n",
    "        src_path = table_path.replace(\".json\", \".jpg\")\n",
    "        img_name = os.path.basename(src_path)\n",
    "        if data['is_wireless']:\n",
    "            dst_path = os.path.join(WIRE_OR_NOT_DATASET_DIR, \"train\", \"wireless\", img_name)\n",
    "        else:\n",
    "            dst_path = os.path.join(WIRE_OR_NOT_DATASET_DIR, \"train\", \"wire\", img_name)\n",
    "        shutil.copy2(src_path, dst_path)\n",
    "\n",
    "    valid_set = table_paths[valid_set]\n",
    "    for table_path in tqdm(valid_set.tolist()):\n",
    "        data = json.load(open(table_path))\n",
    "        src_path = table_path.replace(\".json\", \".jpg\")\n",
    "        img_name = os.path.basename(src_path)\n",
    "        if data['is_wireless']:\n",
    "            dst_path = os.path.join(WIRE_OR_NOT_DATASET_DIR, \"validation\", \"wireless\", img_name)\n",
    "        else:\n",
    "            dst_path = os.path.join(WIRE_OR_NOT_DATASET_DIR, \"validation\", \"wire\", img_name)\n",
    "        shutil.copy2(src_path, dst_path)\n",
    "    break\n",
    "\n"
   ]
  },
  {
   "cell_type": "code",
   "execution_count": null,
   "metadata": {},
   "outputs": [],
   "source": []
  },
  {
   "cell_type": "code",
   "execution_count": null,
   "metadata": {},
   "outputs": [],
   "source": []
  }
 ],
 "metadata": {
  "kernelspec": {
   "display_name": "py3.9_torch1.9",
   "language": "python",
   "name": "python3"
  },
  "language_info": {
   "codemirror_mode": {
    "name": "ipython",
    "version": 3
   },
   "file_extension": ".py",
   "mimetype": "text/x-python",
   "name": "python",
   "nbconvert_exporter": "python",
   "pygments_lexer": "ipython3",
   "version": "3.9.16"
  },
  "orig_nbformat": 4
 },
 "nbformat": 4,
 "nbformat_minor": 2
}
