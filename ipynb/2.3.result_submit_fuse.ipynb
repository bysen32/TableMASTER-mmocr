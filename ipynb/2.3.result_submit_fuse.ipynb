{
 "cells": [
  {
   "attachments": {},
   "cell_type": "markdown",
   "metadata": {},
   "source": [
    "1. 将\"*-pred.json\"文件进行后处理\n",
    "2. 将submit文件压缩打包"
   ]
  },
  {
   "cell_type": "code",
   "execution_count": 4,
   "metadata": {},
   "outputs": [],
   "source": [
    "from glob import glob\n",
    "from tqdm import tqdm\n",
    "import os\n",
    "import json\n",
    "import cv2\n",
    "import numpy as np\n",
    "from pathlib import Path\n",
    "import shutil\n",
    "# from prettyprinter import cpprint, set_default_style\n"
   ]
  },
  {
   "cell_type": "code",
   "execution_count": 5,
   "metadata": {},
   "outputs": [
    {
     "name": "stderr",
     "output_type": "stream",
     "text": [
      "  0%|          | 14/5187 [00:00<00:37, 137.87it/s]"
     ]
    },
    {
     "name": "stderr",
     "output_type": "stream",
     "text": [
      "100%|██████████| 5187/5187 [00:32<00:00, 158.11it/s]\n"
     ]
    }
   ],
   "source": [
    "def check_table_format(table):\n",
    "    if 'layout' not in table or 'cells' not in table:\n",
    "        return False\n",
    "    \n",
    "    for cell in table['cells']:\n",
    "        if 'col_start_idx' not in cell or 'col_end_idx' not in cell or 'row_start_idx' not in cell or 'row_end_idx' not in cell:\n",
    "            return False\n",
    "        if 'bbox' not in cell or 'segmentation' not in cell:\n",
    "            return False\n",
    "        if 'transcript' not in cell:\n",
    "            return False\n",
    "\n",
    "    return True\n",
    "\n",
    "\n",
    "\n",
    "dataset = \"test_A_jpg480max\"\n",
    "pred_json_dir = f\"./output/structure_result/{dataset}-pred.json\"\n",
    "jpg_json_path = f\"/media/ubuntu/Date12/TableStruct/new_data/{dataset}.json\"\n",
    "jpg_info = json.load(open(jpg_json_path, 'r'))\n",
    "\n",
    "submit_dir = \"./output/structure_result/submit\"\n",
    "if os.path.exists(submit_dir):\n",
    "    shutil.rmtree(submit_dir)\n",
    "Path(submit_dir).mkdir(parents=True, exist_ok=True)\n",
    "\n",
    "for pred_json_path in tqdm(glob(os.path.join(pred_json_dir, \"*-pred.json\"))):\n",
    "    pred_json_name = os.path.basename(pred_json_path)\n",
    "    save_json_path = os.path.join(submit_dir, pred_json_name)\n",
    "\n",
    "    table = json.load(open(pred_json_path, \"r\"))\n",
    "    table = post_process(table)\n",
    "\n",
    "    img_id = pred_json_name.split(\".\")[0].replace(\"-pred\", \"\")\n",
    "    for idx, cell in enumerate(table['cells']):\n",
    "        cell[\"bbox\"] = np.array(cell[\"bbox\"]) / jpg_info[img_id][\"scale\"]\n",
    "        cell[\"bbox\"] = cell[\"bbox\"].astype(np.int32).tolist()\n",
    "        segmentation = []\n",
    "        for seg in cell[\"segmentation\"]:\n",
    "            seg = np.array(seg) / jpg_info[img_id][\"scale\"]\n",
    "            seg = seg.astype(np.int32).tolist()\n",
    "            segmentation.append(seg)\n",
    "        cell[\"segmentation\"] =segmentation \n",
    "        table['cells'][idx] = cell\n",
    "\n",
    "    if check_table_format(table) == False:\n",
    "        print(f\"check_table_format error: {pred_json_path}\")\n",
    "        break\n",
    "    json.dump(table, open(save_json_path, \"w\"), indent=4, ensure_ascii=False)\n",
    "\n",
    "# Q.用这个好像有问题？ A.少了一层submit.zip/submit\n",
    "# shutil.make_archive(submit_dir, 'zip', submit_dir)"
   ]
  },
  {
   "cell_type": "code",
   "execution_count": null,
   "metadata": {},
   "outputs": [],
   "source": []
  }
 ],
 "metadata": {
  "kernelspec": {
   "display_name": "py3.9_torch1.9",
   "language": "python",
   "name": "python3"
  },
  "language_info": {
   "codemirror_mode": {
    "name": "ipython",
    "version": 3
   },
   "file_extension": ".py",
   "mimetype": "text/x-python",
   "name": "python",
   "nbconvert_exporter": "python",
   "pygments_lexer": "ipython3",
   "version": "3.9.16"
  },
  "orig_nbformat": 4
 },
 "nbformat": 4,
 "nbformat_minor": 2
}
