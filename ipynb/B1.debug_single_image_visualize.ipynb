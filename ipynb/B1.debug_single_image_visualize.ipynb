{
 "cells": [
  {
   "attachments": {},
   "cell_type": "markdown",
   "metadata": {},
   "source": [
    "训练集标注可视化"
   ]
  },
  {
   "cell_type": "code",
   "execution_count": 1,
   "metadata": {},
   "outputs": [],
   "source": [
    "%config InlineBackend.figure_format = 'retina'"
   ]
  },
  {
   "cell_type": "code",
   "execution_count": 2,
   "metadata": {},
   "outputs": [],
   "source": [
    "import cv2\n",
    "import os\n",
    "import matplotlib.pyplot as plt\n",
    "import matplotlib.patches as patches\n",
    "from PIL import Image\n",
    "from glob import glob\n",
    "import json\n",
    "import numpy as np\n",
    "from pathlib import Path\n",
    "from tqdm import tqdm\n",
    "\n",
    "\n",
    "\n",
    "# 按行生成彩色标注框\n",
    "idx2color = []\n",
    "for i in range(3):\n",
    "    for j in range(3):\n",
    "        for k in range(3):\n",
    "            idx2color.append((i*100, j*100, k*100))\n",
    "idx2color = np.array(idx2color)\n",
    "\n",
    "\n",
    "def table_visualize(src_img, table, key='row'):\n",
    "    for idx, row in enumerate(table[key]):\n",
    "        color = idx2color[idx] if idx < len(idx2color) else idx2color[-1]\n",
    "        pts = np.array(row, dtype=np.int32)\n",
    "        temp_img = src_img.copy()\n",
    "        cv2.polylines(temp_img, [pts], True, color.tolist(), 2)\n",
    "\n",
    "        cx, cy = pts.mean(axis=0)\n",
    "        twidth, theight = cv2.getTextSize(str(idx), cv2.FONT_HERSHEY_SIMPLEX, 1, 2)[0]\n",
    "        cv2.putText(temp_img, str(idx), (int(cx-twidth/2), int(cy-theight/2)), cv2.FONT_HERSHEY_SIMPLEX, 1, color.tolist(), 2)\n",
    "        temp_img = cv2.cvtColor(temp_img, cv2.COLOR_BGR2RGB)\n",
    "        plt.imshow(temp_img)\n",
    "        plt.show()\n",
    "\n",
    "def label_visualize(src_img, label):\n",
    "    for cell in label['cells']:\n",
    "        start_row_idx = cell['row_start_idx']\n",
    "        end_row_idx   = cell['row_end_idx']\n",
    "        start_col_idx = cell['col_start_idx']\n",
    "        end_col_idx   = cell['col_end_idx']\n",
    "        color = idx2color[start_row_idx] if start_row_idx < len(idx2color) else idx2color[-1]\n",
    "        x0, y0, x1, y1 = cell['bbox']\n",
    "\n",
    "        pts = np.array(cell['segmentation'], dtype=np.int32)\n",
    "        cv2.rectangle(src_img, (int(x0), int(y0)), (int(x1), int(y1)), color.tolist(), 1)\n",
    "\n",
    "        theight = cv2.getTextSize(str(start_row_idx), cv2.FONT_HERSHEY_SIMPLEX, 1, 2)[0][1]\n",
    "        show_text = f'{start_row_idx}-{end_row_idx},{start_col_idx}-{end_col_idx}'\n",
    "        cv2.putText(src_img, show_text, (int(x0), int(y0)), cv2.FONT_HERSHEY_SIMPLEX, 0.5, color.tolist(), 1)\n",
    "        plt.imshow(src_img)\n",
    "    plt.show()\n",
    "\n"
   ]
  },
  {
   "cell_type": "code",
   "execution_count": 5,
   "metadata": {},
   "outputs": [
    {
     "ename": "ValueError",
     "evalue": "min() arg is an empty sequence",
     "output_type": "error",
     "traceback": [
      "\u001b[0;31m---------------------------------------------------------------------------\u001b[0m",
      "\u001b[0;31mValueError\u001b[0m                                Traceback (most recent call last)",
      "Cell \u001b[0;32mIn[5], line 17\u001b[0m\n\u001b[1;32m     10\u001b[0m table \u001b[39m=\u001b[39m json\u001b[39m.\u001b[39mload(\u001b[39mopen\u001b[39m(json_path, \u001b[39m'\u001b[39m\u001b[39mr\u001b[39m\u001b[39m'\u001b[39m))\n\u001b[1;32m     12\u001b[0m \u001b[39m# if not table2label.table_valid(table):\u001b[39;00m\n\u001b[1;32m     13\u001b[0m \u001b[39m#     print(\"table_valid error!\", img_id)\u001b[39;00m\n\u001b[1;32m     14\u001b[0m \u001b[39m# # table = table2label.fix_table_error(table)\u001b[39;00m\n\u001b[1;32m     15\u001b[0m \n\u001b[1;32m     16\u001b[0m \u001b[39m# table_visualize(src_img, table, 'row')\u001b[39;00m\n\u001b[0;32m---> 17\u001b[0m label \u001b[39m=\u001b[39m table2label\u001b[39m.\u001b[39;49mtable2label(table)\n\u001b[1;32m     18\u001b[0m \u001b[39mif\u001b[39;00m \u001b[39mnot\u001b[39;00m table2label\u001b[39m.\u001b[39mtable2label_valid(table, label):\n\u001b[1;32m     19\u001b[0m     num_row \u001b[39m=\u001b[39m \u001b[39mlen\u001b[39m(table[\u001b[39m'\u001b[39m\u001b[39mrow\u001b[39m\u001b[39m'\u001b[39m])\n",
      "File \u001b[0;32m/media/ubuntu/软件/WORKSPACE/Competitions/TableStruct/scripts/TableMASTER-mmocr/ipynb/utils/table2label.py:89\u001b[0m, in \u001b[0;36mtable2label\u001b[0;34m(table)\u001b[0m\n\u001b[1;32m     85\u001b[0m shared_col_line_ids \u001b[39m=\u001b[39m get_shared_line_id(table[\u001b[39m'\u001b[39m\u001b[39mcol_adj\u001b[39m\u001b[39m'\u001b[39m], table[\u001b[39m'\u001b[39m\u001b[39mcell_adj\u001b[39m\u001b[39m'\u001b[39m], col_span_indice)\n\u001b[1;32m     87\u001b[0m shared_row_line_ids, shared_row_lines, shared_col_line_ids, shared_col_lines \u001b[39m=\u001b[39m \\\n\u001b[1;32m     88\u001b[0m         sort_shared_line(shared_row_line_ids, shared_row_lines, shared_col_line_ids, shared_col_lines)\n\u001b[0;32m---> 89\u001b[0m gt_label \u001b[39m=\u001b[39m parse_gt_label(table[\u001b[39m'\u001b[39;49m\u001b[39mcell_adj\u001b[39;49m\u001b[39m'\u001b[39;49m], table[\u001b[39m'\u001b[39;49m\u001b[39mrow_adj\u001b[39;49m\u001b[39m'\u001b[39;49m], table[\u001b[39m'\u001b[39;49m\u001b[39mcol_adj\u001b[39;49m\u001b[39m'\u001b[39;49m], shared_row_line_ids, shared_col_line_ids)\n\u001b[1;32m     91\u001b[0m gt_label \u001b[39m=\u001b[39m fuse_gt_info(gt_label, table)\n\u001b[1;32m     92\u001b[0m \u001b[39mreturn\u001b[39;00m gt_label\n",
      "File \u001b[0;32m/media/ubuntu/软件/WORKSPACE/Competitions/TableStruct/scripts/TableMASTER-mmocr/ipynb/utils/utils.py:234\u001b[0m, in \u001b[0;36mparse_gt_label\u001b[0;34m(cell_adj, row_adj, col_adj, shared_row_line_ids, shared_col_line_ids)\u001b[0m\n\u001b[1;32m    232\u001b[0m start_row \u001b[39m=\u001b[39m \u001b[39mmin\u001b[39m(span_row_ids)\n\u001b[1;32m    233\u001b[0m end_row \u001b[39m=\u001b[39m \u001b[39mmax\u001b[39m(span_row_ids)\n\u001b[0;32m--> 234\u001b[0m start_col \u001b[39m=\u001b[39m \u001b[39mmin\u001b[39;49m(span_col_ids)\n\u001b[1;32m    235\u001b[0m end_col \u001b[39m=\u001b[39m \u001b[39mmax\u001b[39m(span_col_ids)\n\u001b[1;32m    236\u001b[0m layout[start_row:end_row\u001b[39m+\u001b[39m\u001b[39m1\u001b[39m, start_col:end_col\u001b[39m+\u001b[39m\u001b[39m1\u001b[39m] \u001b[39m=\u001b[39m start_id \u001b[39m+\u001b[39m index\n",
      "\u001b[0;31mValueError\u001b[0m: min() arg is an empty sequence"
     ]
    }
   ],
   "source": [
    "import utils.table2label as table2label\n",
    "'''\n",
    "可视化单一图像\n",
    "'''\n",
    "img_id = '10450'\n",
    "jpg_path  = f\"/media/ubuntu/Date12/TableStruct/data/train_jpg/{img_id}.jpg\"\n",
    "json_path = f\"/media/ubuntu/Date12/TableStruct/data/train_jpg/{img_id}.json\"\n",
    "\n",
    "src_img = cv2.imread(jpg_path)\n",
    "table = json.load(open(json_path, 'r'))\n",
    "\n",
    "# if not table2label.table_valid(table):\n",
    "#     print(\"table_valid error!\", img_id)\n",
    "# # table = table2label.fix_table_error(table)\n",
    "\n",
    "# table_visualize(src_img, table, 'row')\n",
    "label = table2label.table2label(table)\n",
    "if not table2label.table2label_valid(table, label):\n",
    "    num_row = len(table['row'])\n",
    "    num_col = len(table['col'])\n",
    "    num_row_layout = len(label['layout'])\n",
    "    num_col_layout = len(label['layout'][-1])\n",
    "    if num_row != num_row_layout:\n",
    "        print(\"table row: \", num_row, \"label row:\", num_row_layout)\n",
    "    if num_col != num_col_layout:\n",
    "        print(\"table col: \", num_col, \"label col:\", num_col_layout)\n",
    "    print(\"not valid!!!\")\n",
    "# label_visualize(src_img, label)\n",
    "\n",
    "for i in range(100):\n",
    "    break\n",
    "    img_id = f'{i:05d}'\n",
    "    jpg_path  = f\"/media/ubuntu/Date12/TableStruct/data/train_jpg/{img_id}.jpg\"\n",
    "    json_path = f\"/media/ubuntu/Date12/TableStruct/data/train_jpg/{img_id}.json\"\n",
    "\n",
    "    src_img = cv2.imread(jpg_path)\n",
    "    table = json.load(open(json_path, 'r'))\n",
    "\n",
    "    table = table2label.fix_table_error(table)\n",
    "\n",
    "    if  not table2label.table_valid(table):\n",
    "        print(\"table_valid error!\", img_id)\n",
    "        continue\n",
    "\n",
    "    # table_visualize(src_img, table, 'row')\n",
    "    label = table2label.table2label(table)\n",
    "    if not table2label.table2label_valid(table, label):\n",
    "        num_row = len(table['row'])\n",
    "        num_col = len(table['col'])\n",
    "        num_row_layout = len(label['layout'])\n",
    "        num_col_layout = len(label['layout'][-1])\n",
    "        if num_row != num_row_layout:\n",
    "            print(f\"{img_id}:\", \"table row: \", num_row, \"label row:\", num_row_layout)\n",
    "        if num_col != num_col_layout:\n",
    "            print(f\"{img_id}\", \"table col: \", num_col, \"label col:\", num_col_layout)\n",
    "        # print(\"not valid!!!\", img_id)\n",
    "    # label_visualize(src_img, label)\n",
    "\n"
   ]
  },
  {
   "cell_type": "code",
   "execution_count": null,
   "metadata": {},
   "outputs": [],
   "source": []
  },
  {
   "cell_type": "code",
   "execution_count": null,
   "metadata": {},
   "outputs": [],
   "source": []
  }
 ],
 "metadata": {
  "kernelspec": {
   "display_name": "py3.9_torch1.9",
   "language": "python",
   "name": "python3"
  },
  "language_info": {
   "codemirror_mode": {
    "name": "ipython",
    "version": 3
   },
   "file_extension": ".py",
   "mimetype": "text/x-python",
   "name": "python",
   "nbconvert_exporter": "python",
   "pygments_lexer": "ipython3",
   "version": "3.9.16"
  },
  "orig_nbformat": 4
 },
 "nbformat": 4,
 "nbformat_minor": 2
}
