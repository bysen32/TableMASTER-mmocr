{
 "cells": [
  {
   "attachments": {},
   "cell_type": "markdown",
   "metadata": {},
   "source": [
    "### Step2. 测试集PNG转JPG，长边缩放至512"
   ]
  },
  {
   "cell_type": "code",
   "execution_count": 3,
   "metadata": {},
   "outputs": [],
   "source": [
    "import cv2\n",
    "import os\n",
    "import matplotlib.pyplot as plt\n",
    "import matplotlib.patches as patches\n",
    "from PIL import Image\n",
    "from glob import glob\n",
    "import json\n",
    "import numpy as np\n",
    "from pathlib import Path\n",
    "from tqdm import tqdm\n",
    "from utils.table_helper import resize_image_long, resize_image_short\n"
   ]
  },
  {
   "cell_type": "code",
   "execution_count": 4,
   "metadata": {},
   "outputs": [
    {
     "name": "stderr",
     "output_type": "stream",
     "text": [
      "100%|██████████| 5187/5187 [24:19<00:00,  3.55it/s]  \n"
     ]
    }
   ],
   "source": [
    "# 数据集名称\n",
    "DATASET = \"test_A\"\n",
    "DATASET_ROOT = \"/media/ubuntu/Date12/TableStruct/data/\"\n",
    "DATASET_ROOT_NEW = \"/media/ubuntu/Date12/TableStruct/new_data/\"\n",
    "# 输入数据目录\n",
    "TEST_PNG_DIR  = os.path.join(DATASET_ROOT, DATASET)\n",
    "# 输出\n",
    "TEST_JPG_DIR  = os.path.join(DATASET_ROOT_NEW, f\"{DATASET}_jpg480max\")\n",
    "jpg_json_path  = os.path.join(DATASET_ROOT_NEW, f\"{DATASET}_jpg480max.json\")\n",
    "Path(TEST_JPG_DIR).mkdir(parents=True, exist_ok=True)\n",
    "\n",
    "\n",
    "\n",
    "jpg_infos = dict()\n",
    "for img_path in tqdm(sorted(glob(os.path.join(TEST_PNG_DIR, \"*.png\")))):\n",
    "    img_file = os.path.basename(img_path)\n",
    "    img_id = img_file.split(\".\")[0]\n",
    "    jpg_img_path = os.path.join(TEST_JPG_DIR, img_file.replace(\".png\", \".jpg\"))\n",
    "    img = cv2.imread(img_path)\n",
    "\n",
    "    oriwidth, oriheight = img.shape[1], img.shape[0]\n",
    "    img = resize_image_long(img, long_side=480)\n",
    "    width, height = img.shape[1], img.shape[0]\n",
    "    scale = width / oriwidth\n",
    "\n",
    "    jpg_infos[img_id] = dict(oriwidth=oriwidth, oriheight=oriheight, width=width, height=height, scale=scale)\n",
    "    cv2.imwrite(jpg_img_path, img)\n",
    "\n",
    "json.dump(jpg_infos, open(jpg_json_path, \"w\"), indent=4)\n"
   ]
  }
 ],
 "metadata": {
  "kernelspec": {
   "display_name": "py3.9_torch1.9",
   "language": "python",
   "name": "python3"
  },
  "language_info": {
   "codemirror_mode": {
    "name": "ipython",
    "version": 3
   },
   "file_extension": ".py",
   "mimetype": "text/x-python",
   "name": "python",
   "nbconvert_exporter": "python",
   "pygments_lexer": "ipython3",
   "version": "3.9.16"
  },
  "orig_nbformat": 4
 },
 "nbformat": 4,
 "nbformat_minor": 2
}
