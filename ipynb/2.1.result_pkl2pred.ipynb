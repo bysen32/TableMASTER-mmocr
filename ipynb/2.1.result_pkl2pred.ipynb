{
 "cells": [
  {
   "cell_type": "code",
   "execution_count": 1,
   "metadata": {},
   "outputs": [],
   "source": [
    "import os\n",
    "import sys\n",
    "import pickle\n",
    "import numpy as np\n",
    "import matplotlib.pyplot as plt\n",
    "import matplotlib.patches as patches\n",
    "from PIL import Image\n",
    "from tqdm import tqdm\n",
    "from utils.teds_utils import html_to_table, format_table, format_tokens, format_layout, \\\n",
    "    remove_empty_bboxes, get_html\n",
    "\n",
    "def format_table_1(table): \n",
    "    layout = table['layout']\n",
    "    num = layout.max() + 1\n",
    "    idx = 0\n",
    "    new_cells = []\n",
    "    cell_cord = set()\n",
    "    for i, row in enumerate(layout):\n",
    "        for j, cell_id in enumerate(row):\n",
    "            if cell_id == -1:\n",
    "                layout[i, j] = num + idx\n",
    "                idx += 1\n",
    "                empty_cell = dict(\n",
    "                    col_start_idx=j,\n",
    "                    row_start_idx=i,\n",
    "                    col_end_idx=j,\n",
    "                    row_end_idx=i,\n",
    "                    transcript = '',\n",
    "                    bbox = [0, 0, 0, 0],\n",
    "                    segmentation = [[[0, 0], [0, 0], [0, 0], [0, 0]]]\n",
    "                )\n",
    "                new_cells.append(empty_cell)\n",
    "            else:\n",
    "                if cell_id not in cell_cord:\n",
    "                    cell_cord.add(cell_id)\n",
    "                    new_cells.append(table['cells'][cell_id])\n",
    "\n",
    "    new_layout = format_layout(layout)\n",
    "    assert len(new_cells) == new_layout.max() + 1\n",
    "\n",
    "    table = dict(\n",
    "        layout=new_layout,\n",
    "        cells=new_cells\n",
    "    )\n",
    "\n",
    "    return table\n"
   ]
  },
  {
   "cell_type": "code",
   "execution_count": 2,
   "metadata": {},
   "outputs": [
    {
     "name": "stderr",
     "output_type": "stream",
     "text": [
      " 50%|████▉     | 1295/2593 [00:09<00:07, 170.40it/s]"
     ]
    },
    {
     "name": "stdout",
     "output_type": "stream",
     "text": [
      "format_table error 04882.jpg\n",
      "<thead>,</thead>,<tbody>,<tr>,<td, rowspan=\"3\",>,</td>,<td></td>,<td, colspan=\"2\",>,</td>,<td, colspan=\"2\",>,</td>,<td, colspan=\"2\",>,</td>,<td, colspan=\"3\",>,</td>,</tr>,<tr>,<td></td>,<eb></eb>,<eb></eb>,<eb></eb>,<eb></eb>,<eb></eb>,<eb></eb>,<eb></eb>, colspan=\"3\",>,</td>,</tr>,<tr>,<td></td>,<eb></eb>,<eb></eb>,<eb></eb>,<eb></eb>,<eb></eb>,<eb></eb>,<eb></eb>, colspan=\"3\",>,</td>,</tr>,<tr>,<td, rowspan=\"4\",>,</td>,<td, rowspan=\"2\",>,</td>,<td, rowspan=\"2\", colspan=\"4\",>,</td>,<td, rowspan=\"2\", colspan=\"2\",>,</td>,<td, rowspan=\"2\",>,</td>,<td, colspan=\"2\",>,</td>,<td, rowspan=\"2\",>,</td>,</tr>,<tr>,<td, colspan=\"4\",>,</td>,<td></td>,<td></td>,</tr>,<tr>,<td></td>,<td, colspan=\"4\",>,</td>,<td, colspan=\"3\",>,</td>,<td></td>,</tr>,<tr>,<td></td>,<td, colspan=\"8\",>,</td>,<td></td>,</tr>,<tr>,<td,</thead>,<tbody>,<tr>,<td, rowspan=\"3\",>,</td>,<td, rowspan=\"2\",>,</td>,<td, colspan=\"4\",>,</td>,<td, colspan=\"6\",>,</td>,<td, rowspan=\"2\",>,</td>,<td, rowspan=\"2\",>,</td>,</tr>,<tr>,<td></td>,<td></td>,<td></td>,<td></td>,<td></td>,<td></td>,<td></td>,</tr>,<tr>,<td, rowspan=\"6\",>,</td>,<td, rowspan=\"6\",>,</td>,<td></td>,<td></td>,<td, rowspan=\"6\",>,</td>,<td, rowspan=\"6\",>,</td>,<td, rowspan=\"6\",>,</td>,<td, rowspan=\"6\",>,</td>,<td></td>,<td, rowspan=\"6\",>,</td>,<eb></eb>, rowspan=\"6\",>,</td>,</tr>,<tr>,<td></td>,<td></td>,<td></td>,</tr>,<tr>,<td></td>,<td></td>,<td></td>,</tr>,<tr>,<td></td>,<td></td>,<td></td>,</tr>,<tr>,<td></td>,<td></td>,<td></td>,</tr>,<tr>,<td, rowspan=\"5\",>,</td>,<td, rowspan=\"5\",>,</td>,<td></td>,<td></td>,<td, rowspan=\"5\",>,</td>,<td, rowspan=\"5\",>,</td>,<td, rowspan=\"5\",>,</td>,<eb></eb>, rowspan=\"5\",>,</td>,<td></td>,<td, rowspan=\"5\",>,</td>,<eb></eb>, rowspan=\"5\",>,</td>,</tr>,<tr>,<td></td>,<td></td>,<td></td>,</tr>,<tr>,<td></td>,<td></td>,<td></td>,</tr>,<tr>,<td></td>,<td></td>,<td></td>,</tr>,<tr>,<td></td>,<td></td>,<td></td>,</tr>,</tbody>\n"
     ]
    },
    {
     "name": "stderr",
     "output_type": "stream",
     "text": [
      " 98%|█████████▊| 2548/2593 [00:18<00:00, 131.74it/s]"
     ]
    },
    {
     "name": "stdout",
     "output_type": "stream",
     "text": [
      "format_table error 03669.jpg\n",
      "<thead>,</thead>,<tbody>,<tr>,<td></td>,<td></td>,<td></td>,<td></td>,<td></td>,<td></td>,</tr>,<tr>,<eb></eb>, rowspan=\"3\",>,</td>,<td, rowspan=\"3\",>,</td>,<td, rowspan=\"3\",>,</td>,<td, rowspan=\"3\",>,</td>,<td></td>,<td></td>,</tr>,<tr>,<td></td>,<td></td>,</tr>,<tr>,<td></td>,<td></td>,</tr>,<tr>,<td, rowspan=\"6\",>,</td>,<td\n"
     ]
    },
    {
     "name": "stderr",
     "output_type": "stream",
     "text": [
      "100%|██████████| 2593/2593 [00:18<00:00, 138.39it/s]\n",
      " 15%|█▌        | 394/2594 [00:03<00:21, 104.18it/s]"
     ]
    },
    {
     "name": "stdout",
     "output_type": "stream",
     "text": [
      "format_table error 01657.jpg\n",
      "<thead>,</thead>,<tbody>,<tr>,<td, colspan=\"6\",>,</td>,</tr>,<tr>,<td, colspan=\"6\",>,</td>,</tr>,<tr>,<td></td>,<td></td>,<td></td>,<td></td>,<td></td>,<td></td>,</tr>,<tr>,<eb></eb>,<eb></eb>,<eb></eb>,<td></td>,<eb></eb>,<eb></eb>,</tr>,<tr>,<eb></eb>,<td></td>,<td></td>,<td></td>,<eb></eb>,<eb></eb>,</tr>,<tr>,<eb></eb>,<td></td>,<td></td>,<td></td>,<eb></eb>,<eb></eb>,</tr>,<tr>,<eb></eb>,<td></td>,<td></td>,<td></td>,<eb></eb>,<eb></eb>,</tr>,<tr>,<eb></eb>,<td></td>,<td></td>,<td></td>,<eb></eb>,<eb></eb>,</tr>,<tr>,<eb></eb>,<td></td>,<td></td>,<td></td>,<eb></eb>,<eb></eb>,</tr>,<tr>,<eb></eb>,<td></td>,<td></td>,<td></td>,<eb></eb>,<eb></eb>,</tr>,<tr>,<eb></eb>,<td></td>,<td></td>,<td></td>,<eb></eb>,<eb></eb>,</tr>,<tr>,<eb></eb>,<td></td>,<td></td>,<td></td>,<eb></eb>,<eb></eb>,</tr>,<tr>,<eb></eb>,<td></td>,<td></td>,<td></td>,<eb></eb>,<eb></eb>,</tr>,<tr>,<eb></eb>,<td></td>,<td></td>,<td></td>,<eb></eb>,<eb></eb>,</tr>,<tr>,<eb></eb>,<td></td>,<td></td>,<td></td>,<eb></eb>,<eb></eb>,</tr>,<tr>,<eb></eb>,<td></td>,<td></td>,<td></td>,<eb></eb>,<eb></eb>,</tr>,<tr>,<eb></eb>,<td></td>,<td></td>,<td></td>,<eb></eb>,<eb></eb>,</tr>,<tr>,<eb></eb>,<td></td>,<td></td>,<td></td>,<eb></eb>,<eb></eb>,</tr>,<tr>,<eb></eb>,<eb></eb>,<eb></eb>,<eb></eb>,<eb></eb>,<eb></eb>,</tr>,<tr>,<eb></eb>,<eb></eb>,<eb></eb>,<eb></eb>,<eb></eb>,<eb></eb>,</tr>,<tr>,<td,<eb></eb>,<eb></eb>,<td></td>,<eb></eb>,<eb></eb>,</tr>,<tr>,<td></td>,<td></td>,<eb></eb>,<eb></eb>,<eb></eb>,<eb></eb>,</tr>,</tbody>\n"
     ]
    },
    {
     "name": "stderr",
     "output_type": "stream",
     "text": [
      "100%|██████████| 2594/2594 [00:19<00:00, 136.53it/s]"
     ]
    },
    {
     "name": "stdout",
     "output_type": "stream",
     "text": [
      "format_table error 03289.jpg\n",
      "<thead>,</thead>,<tbody>,<tr>,<td></td>,<td></td>,<td></td>,<td></td>,<td></td>,<td></td>,</tr>,<tr>,<td, rowspan=\"5\",>,</td>,<td></td>,<td></td>,<td, rowspan=\"2\",>,</td>,<td></td>,<td></td>,</tr>,<tr>,<td></td>,<td></td>,<td></td>,<td></td>,</tr>,<tr>,<td></td>,<td></td>,<td, rowspan=\"2\",>,</td>,<td></td>,<td></td>,</tr>,<tr>,<td></td>,<td></td>,<td></td>,<td></td>,</tr>,<tr>,<td></td>,<td></td>,<td, rowspan=\"2\",>,</td>,<td></td>,<td></td>,<td></td>,</tr>,<tr>,<td, rowspan=\"3\",>,</td>,<td></td>,<td></td>,<td></td>,<td></td>,<td></td>,</tr>,<tr>,<td></td>,<td></td>,<td, rowspan=\"2\",>,</td>,<td></td>,<td></td>,</tr>,<tr>,<td></td>,<td></td>,<td></td>,<td></td>,</tr>,<tr>,<td, rowspan=\"4\",>,</td>,<td></td>,<td></td>,<td, rowspan=\"2\",>,</td>,<td></td>,<td></td>,</tr>,<tr>,<td></td>,<td></td>,<td></td>,<td></td>,</tr>,<tr>,<td></td>,<td></td>,<td, rowspan=\"2\",>,</td>,<td></td>,<td></td>,</tr>,<tr>,<td></td>,<td></td>,<td></td>,<td></td>,</tr>,<tr>,<td, rowspan=\"2\",>,</td>,<td></td>,<td></td>,<td, rowspan=\"2\",>,</td>,<td></td>,<td></td>,</tr>,<tr>,<td></td>,<td></td>,<td></td>,<td></td>,</tr>,<tr>,<td, rowspan=\"4\",>,</td>,<td></td>,<td></td>,<td, rowspan=\"2\",>,</td>,<td></td>,<td></td>,</tr>,<tr>,<td></td>,<td></td>,<td></td>,<td></td>,</tr>,<tr>,<td></td>,<td></td>,<td, rowspan=\"2\",>,</td>,<td></td>,<td></td>,</tr>,<tr>,<td></td>,<td></td>,<td></td>,<td></td>,</tr>,<tr>,<td, rowspan=\"2\",>,</td>,<td></td>,<td></td>,<td\n"
     ]
    },
    {
     "name": "stderr",
     "output_type": "stream",
     "text": [
      "\n"
     ]
    }
   ],
   "source": [
    "import pickle\n",
    "import os\n",
    "import numpy as np\n",
    "import json\n",
    "from pathlib import Path\n",
    "from glob import glob\n",
    "import shutil\n",
    "\n",
    "# result_file = \"./output/structure_result/test_A/structure_master_results_0.pkl\"\n",
    "# result_file_dir = os.path.dirname(result_file)\n",
    "\n",
    "DATASET = \"test_A_jpg480max\"\n",
    "JPG_JSON_PATH = f\"/media/ubuntu/Date12/TableStruct/new_data/{DATASET}.json\"\n",
    "JPG_INFO = json.load(open(JPG_JSON_PATH, 'r'))\n",
    "PRED_PKL_DIR = f\"../output/structure_result/{DATASET}\"\n",
    "\n",
    "# 输出路径\n",
    "PRED_SAVE_DIR = f\"./output/structure_result/{DATASET}-pred.json\"\n",
    "if os.path.exists(PRED_SAVE_DIR):\n",
    "    shutil.rmtree(PRED_SAVE_DIR)\n",
    "Path(PRED_SAVE_DIR).mkdir(parents=True, exist_ok=True)\n",
    "\n",
    "\n",
    "def check_1(table):\n",
    "    layout = table['layout']\n",
    "    num = layout.max() + 1\n",
    "    if num > 16:\n",
    "        return\n",
    "    assert np.all(layout != -1)\n",
    "\n",
    "pkls = sorted(glob(os.path.join(PRED_PKL_DIR, \"structure_master_results_*.pkl\")))\n",
    "for result_file in pkls:\n",
    "    with open(result_file, 'rb') as f:\n",
    "        result_data = pickle.load(f)\n",
    "\n",
    "    for imgname, result in tqdm(result_data.items()):\n",
    "        # if imgname in ['02859.jpg', '04485.jpg', '03669.jpg']:\n",
    "        #     print(imgname)\n",
    "        # if imgname in ['00022.jpg']:\n",
    "        #     print(imgname)\n",
    "        # if imgname in ['03187.jpg', '04219.jpg']:\n",
    "        #     print(imgname)\n",
    "        bboxes = remove_empty_bboxes(result['bbox'])\n",
    "        # 不能删 占bbox空间！！\n",
    "        # result['text'] = result['text'].replace(\"<eb></eb>, rowspan\", \"<td, rowspan\")\n",
    "        # result['text'] = result['text'].replace(\"<eb></eb>, colspan\", \"<td, colspan\")\n",
    "        tokens_list = format_tokens(result['text'])\n",
    "\n",
    "        try:\n",
    "            html = get_html(tokens_list, bboxes)\n",
    "        except:\n",
    "            print(\"get_html error\", imgname)\n",
    "            continue\n",
    "        \n",
    "        try:\n",
    "            table = html_to_table(html)\n",
    "        except:\n",
    "            print(\"html_to_table error\", imgname)\n",
    "            # print(html)\n",
    "            continue\n",
    "        \n",
    "        try:\n",
    "            table_new = format_table(table)\n",
    "        except:\n",
    "            print(\"format_table error\", imgname)\n",
    "            print(result['text'])\n",
    "            ### 去除layout中的-1\n",
    "            table = format_table_1(table)\n",
    "            table_new = format_table(table)\n",
    "        \n",
    "        img_id = imgname.split(\".\")[0]\n",
    "        save_path = os.path.join(PRED_SAVE_DIR, f'{img_id}-pred.json')\n",
    "\n",
    "        json.dump(table_new, open(save_path, 'w'), indent=4, ensure_ascii=False)\n",
    "\n"
   ]
  },
  {
   "cell_type": "code",
   "execution_count": null,
   "metadata": {},
   "outputs": [],
   "source": []
  }
 ],
 "metadata": {
  "kernelspec": {
   "display_name": "py3.9_torch1.9",
   "language": "python",
   "name": "python3"
  },
  "language_info": {
   "codemirror_mode": {
    "name": "ipython",
    "version": 3
   },
   "file_extension": ".py",
   "mimetype": "text/x-python",
   "name": "python",
   "nbconvert_exporter": "python",
   "pygments_lexer": "ipython3",
   "version": "3.9.16"
  },
  "orig_nbformat": 4
 },
 "nbformat": 4,
 "nbformat_minor": 2
}
