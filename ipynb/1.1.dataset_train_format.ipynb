{
 "cells": [
  {
   "attachments": {},
   "cell_type": "markdown",
   "metadata": {},
   "source": [
    "### Step1. 训练集PNG转JPG，长边缩放至512"
   ]
  },
  {
   "cell_type": "code",
   "execution_count": 1,
   "metadata": {},
   "outputs": [],
   "source": [
    "import cv2\n",
    "import os\n",
    "import matplotlib.pyplot as plt\n",
    "import matplotlib.patches as patches\n",
    "from PIL import Image\n",
    "from glob import glob\n",
    "import json\n",
    "import numpy as np\n",
    "from pathlib import Path\n",
    "from tqdm import tqdm\n",
    "from utils.table_helper import resize_image_long, resize_image_short\n",
    "\n"
   ]
  },
  {
   "cell_type": "code",
   "execution_count": 2,
   "metadata": {},
   "outputs": [
    {
     "name": "stderr",
     "output_type": "stream",
     "text": [
      "100%|██████████| 12104/12104 [38:50<00:00,  5.19it/s] \n"
     ]
    }
   ],
   "source": [
    "# 数据集名称\n",
    "DATASET = \"train\"\n",
    "DATASET_ROOT = \"/media/ubuntu/Date12/TableStruct/data/\"\n",
    "DATASET_ROOT_NEW = \"/media/ubuntu/Date12/TableStruct/new_data/\"\n",
    "# 输入数据目录\n",
    "TRAIN_PNG_DIR  = os.path.join(DATASET_ROOT, DATASET)\n",
    "# 输出\n",
    "TRAIN_JPG_DIR  = os.path.join(DATASET_ROOT_NEW, f\"{DATASET}_jpg480max\")\n",
    "JPG_JSON_PATH  = os.path.join(DATASET_ROOT_NEW, f\"{DATASET}_jpg480max.json\")\n",
    "\n",
    "Path(TRAIN_JPG_DIR).mkdir(parents=True, exist_ok=True)\n",
    "\n",
    "\n",
    "\n",
    "jpg_infos = dict()\n",
    "for img_path in tqdm(sorted(glob(os.path.join(TRAIN_PNG_DIR, \"*.png\")))):\n",
    "    img_file = os.path.basename(img_path)\n",
    "    img_id = img_file.split(\".\")[0]\n",
    "    jpg_img_path = os.path.join(TRAIN_JPG_DIR, img_file.replace(\".png\", \".jpg\"))\n",
    "    img = cv2.imread(img_path)\n",
    "\n",
    "    oriwidth, oriheight = img.shape[1], img.shape[0]\n",
    "    img = resize_image_long(img, long_side=480)\n",
    "    width, height = img.shape[1], img.shape[0]\n",
    "    scale = width / oriwidth\n",
    "\n",
    "    jpg_infos[img_id] = dict(oriwidth=oriwidth, oriheight=oriheight, width=width, height=height, scale=scale)\n",
    "    cv2.imwrite(jpg_img_path, img)\n",
    "\n",
    "json.dump(jpg_infos, open(JPG_JSON_PATH, \"w\"), indent=4)\n"
   ]
  },
  {
   "attachments": {},
   "cell_type": "markdown",
   "metadata": {},
   "source": [
    "### Step2. 训练集JSON坐标标注按比例缩放"
   ]
  },
  {
   "cell_type": "code",
   "execution_count": 3,
   "metadata": {},
   "outputs": [
    {
     "name": "stderr",
     "output_type": "stream",
     "text": [
      "100%|██████████| 12104/12104 [00:41<00:00, 291.57it/s]\n"
     ]
    }
   ],
   "source": [
    "def segmentation_scale(segmentations, scale):\n",
    "    ret = []\n",
    "    for seg in segmentations:\n",
    "        seg = np.array(seg) * scale\n",
    "        seg = seg.tolist()\n",
    "        ret.append(seg)\n",
    "    return ret\n",
    "\n",
    "\n",
    "# 数据集名称\n",
    "DATASET = \"train\"\n",
    "DATASET_ROOT = \"/media/ubuntu/Date12/TableStruct/data/\"\n",
    "DATASET_ROOT_NEW = \"/media/ubuntu/Date12/TableStruct/new_data/\"\n",
    "# 输入数据目录\n",
    "TRAIN_JSON_DIR  = os.path.join(DATASET_ROOT, DATASET)\n",
    "# 输出\n",
    "TRAIN_JPG_DIR  = os.path.join(DATASET_ROOT_NEW, f\"{DATASET}_jpg480max\")\n",
    "JPG_JSON_PATH  = os.path.join(DATASET_ROOT_NEW, f\"{DATASET}_jpg480max.json\")\n",
    "Path(TRAIN_JPG_DIR).mkdir(parents=True, exist_ok=True)\n",
    "\n",
    "\n",
    "img_infos = json.load(open(JPG_JSON_PATH, \"r\"))\n",
    "for json_path in tqdm(sorted(glob(os.path.join(TRAIN_JSON_DIR, \"*.json\")))):\n",
    "    json_file = os.path.basename(json_path)\n",
    "    img_id = json_file.split(\".\")[0]\n",
    "    jpg_json_path = os.path.join(TRAIN_JPG_DIR, json_file)\n",
    "\n",
    "    info = json.load(open(json_path, \"r\"))\n",
    "    scale = img_infos[img_id][\"scale\"]\n",
    "\n",
    "    info[\"row\"]  = segmentation_scale(info[\"row\"], scale)\n",
    "    info[\"col\"]  = segmentation_scale(info[\"col\"], scale)\n",
    "    info[\"line\"] = segmentation_scale(info[\"line\"], scale)\n",
    "    info[\"cell\"] = segmentation_scale(info[\"cell\"], scale)\n",
    "\n",
    "    json.dump(info, open(jpg_json_path, \"w\"))"
   ]
  },
  {
   "cell_type": "code",
   "execution_count": null,
   "metadata": {},
   "outputs": [],
   "source": []
  },
  {
   "cell_type": "code",
   "execution_count": null,
   "metadata": {},
   "outputs": [],
   "source": []
  },
  {
   "cell_type": "code",
   "execution_count": null,
   "metadata": {},
   "outputs": [],
   "source": []
  }
 ],
 "metadata": {
  "kernelspec": {
   "display_name": "py3.9_torch1.9",
   "language": "python",
   "name": "python3"
  },
  "language_info": {
   "codemirror_mode": {
    "name": "ipython",
    "version": 3
   },
   "file_extension": ".py",
   "mimetype": "text/x-python",
   "name": "python",
   "nbconvert_exporter": "python",
   "pygments_lexer": "ipython3",
   "version": "3.9.16"
  },
  "orig_nbformat": 4
 },
 "nbformat": 4,
 "nbformat_minor": 2
}
