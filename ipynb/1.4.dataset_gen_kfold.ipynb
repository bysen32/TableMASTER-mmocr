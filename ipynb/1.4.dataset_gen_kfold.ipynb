{
 "cells": [
  {
   "cell_type": "code",
   "execution_count": 12,
   "metadata": {},
   "outputs": [],
   "source": [
    "from sklearn.model_selection import KFold\n",
    "import numpy as np\n",
    "import os\n",
    "import json\n",
    "import shutil\n",
    "from glob import glob\n",
    "from tqdm import tqdm\n",
    "from pathlib import Path\n",
    "\n",
    "# from ipynb.utils.utils import parse_relation_from_table, get_span_cells, \\\n",
    "#     get_shared_line, get_shared_line_id, sort_shared_line, parse_gt_label, extend_text_lines\n",
    "\n",
    "from utils.utils import parse_relation_from_table, get_span_cells\n"
   ]
  },
  {
   "cell_type": "code",
   "execution_count": 13,
   "metadata": {},
   "outputs": [],
   "source": [
    "DATASET = \"train_jpg480max\"\n",
    "DATASET_ROOT = '/media/ubuntu/Date12/TableStruct/new_data'\n",
    "LABEL_DATA_DIR = os.path.join(DATASET_ROOT, f\"{DATASET}_gt_json\")\n",
    "FOLD_K = 10\n",
    "\n",
    "label_files = sorted(glob(os.path.join(LABEL_DATA_DIR, '*-gt.json')))\n",
    "img_files = list(map(lambda x: os.path.basename(x).replace(\"-gt.json\", \".jpg\"), label_files))\n",
    "img_files = np.array(img_files)\n",
    "\n",
    "kf = KFold(n_splits=FOLD_K, shuffle=True, random_state=42)\n",
    "for i, (train_idx, test_idx) in enumerate(kf.split(img_files)):\n",
    "    train_set = img_files[train_idx]\n",
    "    valid_set = img_files[test_idx]\n",
    "    fold_data = dict(train=train_set.tolist(), valid=valid_set.tolist())\n",
    "\n",
    "    fold_json_path = os.path.join(DATASET_ROOT, f'{DATASET}_{FOLD_K}fold{i}.json')\n",
    "    json.dump(fold_data, open(fold_json_path, 'w'), indent=4)\n"
   ]
  },
  {
   "cell_type": "code",
   "execution_count": null,
   "metadata": {},
   "outputs": [],
   "source": []
  }
 ],
 "metadata": {
  "kernelspec": {
   "display_name": "py3.9_torch1.9",
   "language": "python",
   "name": "python3"
  },
  "language_info": {
   "codemirror_mode": {
    "name": "ipython",
    "version": 3
   },
   "file_extension": ".py",
   "mimetype": "text/x-python",
   "name": "python",
   "nbconvert_exporter": "python",
   "pygments_lexer": "ipython3",
   "version": "3.9.16"
  },
  "orig_nbformat": 4
 },
 "nbformat": 4,
 "nbformat_minor": 2
}
