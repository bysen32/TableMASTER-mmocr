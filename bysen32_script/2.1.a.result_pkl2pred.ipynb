{
 "cells": [
  {
   "cell_type": "code",
   "execution_count": 4,
   "metadata": {},
   "outputs": [],
   "source": [
    "import os\n",
    "import sys\n",
    "import pickle\n",
    "import numpy as np\n",
    "import matplotlib.pyplot as plt\n",
    "import matplotlib.patches as patches\n",
    "from PIL import Image\n",
    "from tqdm import tqdm\n",
    "from utils.format_translate import html_to_table\n",
    "from utils.utils import format_table, format_table_1, format_layout, format_tokens, remove_empty_bboxes, get_html\n",
    "import json\n",
    "from pathlib import Path\n",
    "from glob import glob\n",
    "import shutil\n",
    "\n",
    "\n",
    "def format_layout(layout):\n",
    "    new_layout = np.full_like(layout, -1)\n",
    "    row_nums, col_nums = layout.shape\n",
    "    cell_id = 0\n",
    "    for row_id in range(row_nums):\n",
    "        for col_id in range(col_nums):\n",
    "            if layout[row_id, col_id] == -1: # 没办法，先这样\n",
    "                continue\n",
    "            if new_layout[row_id, col_id] == -1:\n",
    "                y, x = np.where(layout==layout[row_id, col_id])\n",
    "                new_layout[y, x] = cell_id\n",
    "                cell_id += 1\n",
    "    # assert new_layout.min() >= 0\n",
    "    return new_layout\n",
    "\n",
    "def fill_first_row_minus1(table):\n",
    "    layout = table['layout']\n",
    "    layout_row, layout_col = layout.shape\n",
    "    pre_cell_idx = -1\n",
    "    for idx in range(layout_col): #from left to right\n",
    "        if layout[0, idx] == -1 and pre_cell_idx != -1:\n",
    "            layout[0, idx] = pre_cell_idx\n",
    "        else:\n",
    "            pre_cell_idx = layout[0, idx]\n",
    "    \n",
    "    pre_cell_idx = -1\n",
    "    for idx in range(layout_col): # from right to left\n",
    "        if layout[0, -idx-1] == -1 and pre_cell_idx != -1:\n",
    "            layout[0, -idx-1] = pre_cell_idx\n",
    "        else:\n",
    "            pre_cell_idx = layout[0, -idx-1]\n",
    "    table['layout'] = layout\n",
    "    \n",
    "    return table\n",
    "\n",
    "def fill_last_row_minus1(table):\n",
    "    layout = table['layout']\n",
    "    layout_row, layout_col = layout.shape\n",
    "    pre_cell_idx = -1\n",
    "    for idx in range(layout_col):\n",
    "        if layout[-1, idx] == -1 and pre_cell_idx != -1:\n",
    "            layout[-1, idx] = pre_cell_idx\n",
    "        else:\n",
    "            pre_cell_idx = layout[-1, idx]\n",
    "    \n",
    "    pre_cell_idx = -1\n",
    "    for idx in range(layout_col):\n",
    "        if layout[-1, -idx-1] == -1 and pre_cell_idx != -1:\n",
    "            layout[-1, -idx-1] = pre_cell_idx\n",
    "        else:\n",
    "            pre_cell_idx = layout[-1, -idx-1]\n",
    "    table['layout'] = layout\n",
    "    return table\n",
    "\n",
    "def fill_first_col_minus1(table):\n",
    "    layout = table['layout']\n",
    "    layout_row, layout_col = layout.shape\n",
    "    pre_cell_idx = -1\n",
    "    for idx in range(layout_row):\n",
    "        if layout[idx, 0] == -1 and pre_cell_idx != -1:\n",
    "            layout[idx, 0] = pre_cell_idx\n",
    "        else:\n",
    "            pre_cell_idx = layout[idx, 0]\n",
    "    pre_cell_idx = -1\n",
    "    for idx in range(layout_col):\n",
    "        if layout[-1, -idx-1] == -1 and pre_cell_idx != -1:\n",
    "            layout[-1, -idx-1] = pre_cell_idx\n",
    "        else:\n",
    "            pre_cell_idx = layout[-1, -idx-1]\n",
    "    table['layout'] = layout\n",
    "    return table\n",
    "    \n"
   ]
  },
  {
   "cell_type": "code",
   "execution_count": 5,
   "metadata": {},
   "outputs": [
    {
     "name": "stderr",
     "output_type": "stream",
     "text": [
      "  4%|▍         | 110/2593 [00:00<00:04, 540.75it/s]"
     ]
    },
    {
     "name": "stdout",
     "output_type": "stream",
     "text": [
      "html_to_table error 02495.jpg\n",
      "html_to_table error 01780.jpg\n",
      "html_to_table error 01599.jpg\n"
     ]
    },
    {
     "name": "stderr",
     "output_type": "stream",
     "text": [
      " 12%|█▏        | 308/2593 [00:00<00:07, 286.82it/s]"
     ]
    },
    {
     "name": "stdout",
     "output_type": "stream",
     "text": [
      "html_to_table error 01079.jpg\n",
      "html_to_table error 00778.jpg\n"
     ]
    },
    {
     "name": "stderr",
     "output_type": "stream",
     "text": [
      " 15%|█▍        | 388/2593 [00:01<00:06, 338.95it/s]"
     ]
    },
    {
     "name": "stdout",
     "output_type": "stream",
     "text": [
      "html_to_table error 01837.jpg\n",
      "html_to_table error 01042.jpg\n",
      "html_to_table error 02800.jpg\n",
      "html_to_table error 00215.jpg\n"
     ]
    },
    {
     "name": "stderr",
     "output_type": "stream",
     "text": [
      " 23%|██▎       | 599/2593 [00:01<00:05, 346.48it/s]"
     ]
    },
    {
     "name": "stdout",
     "output_type": "stream",
     "text": [
      "html_to_table error 01976.jpg\n"
     ]
    },
    {
     "name": "stderr",
     "output_type": "stream",
     "text": [
      " 27%|██▋       | 705/2593 [00:02<00:06, 305.75it/s]"
     ]
    },
    {
     "name": "stdout",
     "output_type": "stream",
     "text": [
      "html_to_table error 02507.jpg\n",
      "html_to_table error 01781.jpg\n"
     ]
    },
    {
     "name": "stderr",
     "output_type": "stream",
     "text": [
      " 30%|███       | 781/2593 [00:02<00:05, 336.17it/s]"
     ]
    },
    {
     "name": "stdout",
     "output_type": "stream",
     "text": [
      "html_to_table error 00212.jpg\n",
      "html_to_table error 01481.jpg\n",
      "html_to_table error 02297.jpg\n",
      "html_to_table error 02744.jpg\n"
     ]
    },
    {
     "name": "stderr",
     "output_type": "stream",
     "text": [
      " 36%|███▌      | 924/2593 [00:02<00:05, 314.25it/s]"
     ]
    },
    {
     "name": "stdout",
     "output_type": "stream",
     "text": [
      "html_to_table error 02082.jpg\n",
      "html_to_table error 00871.jpg\n"
     ]
    },
    {
     "name": "stderr",
     "output_type": "stream",
     "text": [
      " 39%|███▉      | 1013/2593 [00:03<00:04, 374.31it/s]"
     ]
    },
    {
     "name": "stdout",
     "output_type": "stream",
     "text": [
      "html_to_table error 01115.jpg\n"
     ]
    },
    {
     "name": "stderr",
     "output_type": "stream",
     "text": [
      " 45%|████▍     | 1163/2593 [00:03<00:04, 327.69it/s]"
     ]
    },
    {
     "name": "stdout",
     "output_type": "stream",
     "text": [
      "html_to_table error 02765.jpg\n",
      "html_to_table error 00597.jpg\n"
     ]
    },
    {
     "name": "stderr",
     "output_type": "stream",
     "text": [
      " 50%|█████     | 1302/2593 [00:03<00:03, 327.80it/s]"
     ]
    },
    {
     "name": "stdout",
     "output_type": "stream",
     "text": [
      "html_to_table error 01266.jpg\n",
      "html_to_table error 02008.jpg\n",
      "html_to_table error 02404.jpg\n"
     ]
    },
    {
     "name": "stderr",
     "output_type": "stream",
     "text": [
      " 56%|█████▌    | 1446/2593 [00:04<00:03, 290.23it/s]"
     ]
    },
    {
     "name": "stdout",
     "output_type": "stream",
     "text": [
      "html_to_table error 02407.jpg\n"
     ]
    },
    {
     "name": "stderr",
     "output_type": "stream",
     "text": [
      " 59%|█████▉    | 1536/2593 [00:04<00:04, 262.66it/s]"
     ]
    },
    {
     "name": "stdout",
     "output_type": "stream",
     "text": [
      "html_to_table error 00991.jpg\n",
      "html_to_table error 02607.jpg\n"
     ]
    },
    {
     "name": "stderr",
     "output_type": "stream",
     "text": [
      " 70%|███████   | 1827/2593 [00:05<00:02, 288.54it/s]"
     ]
    },
    {
     "name": "stdout",
     "output_type": "stream",
     "text": [
      "html_to_table error 01100.jpg\n",
      "html_to_table error 02106.jpg\n"
     ]
    },
    {
     "name": "stderr",
     "output_type": "stream",
     "text": [
      " 74%|███████▍  | 1919/2593 [00:06<00:02, 272.90it/s]"
     ]
    },
    {
     "name": "stdout",
     "output_type": "stream",
     "text": [
      "html_to_table error 00389.jpg\n"
     ]
    },
    {
     "name": "stderr",
     "output_type": "stream",
     "text": [
      " 76%|███████▌  | 1975/2593 [00:06<00:02, 253.62it/s]"
     ]
    },
    {
     "name": "stdout",
     "output_type": "stream",
     "text": [
      "html_to_table error 00207.jpg\n",
      "html_to_table error 00660.jpg\n",
      "html_to_table error 02307.jpg\n"
     ]
    },
    {
     "name": "stderr",
     "output_type": "stream",
     "text": [
      " 83%|████████▎ | 2146/2593 [00:06<00:01, 312.31it/s]"
     ]
    },
    {
     "name": "stdout",
     "output_type": "stream",
     "text": [
      "html_to_table error 02092.jpg\n"
     ]
    },
    {
     "name": "stderr",
     "output_type": "stream",
     "text": [
      " 86%|████████▌ | 2234/2593 [00:07<00:00, 378.13it/s]"
     ]
    },
    {
     "name": "stdout",
     "output_type": "stream",
     "text": [
      "html_to_table error 01305.jpg\n",
      "html_to_table error 00602.jpg\n"
     ]
    },
    {
     "name": "stderr",
     "output_type": "stream",
     "text": [
      " 88%|████████▊ | 2272/2593 [00:07<00:01, 318.69it/s]"
     ]
    },
    {
     "name": "stdout",
     "output_type": "stream",
     "text": [
      "html_to_table error 02708.jpg\n",
      "html_to_table error 02406.jpg\n"
     ]
    },
    {
     "name": "stderr",
     "output_type": "stream",
     "text": [
      " 91%|█████████▏| 2370/2593 [00:07<00:00, 240.06it/s]"
     ]
    },
    {
     "name": "stdout",
     "output_type": "stream",
     "text": [
      "html_to_table error 01514.jpg\n",
      "html_to_table error 00112.jpg\n"
     ]
    },
    {
     "name": "stderr",
     "output_type": "stream",
     "text": [
      " 96%|█████████▌| 2483/2593 [00:08<00:00, 262.01it/s]"
     ]
    },
    {
     "name": "stdout",
     "output_type": "stream",
     "text": [
      "html_to_table error 01556.jpg\n",
      "html_to_table error 01663.jpg\n",
      "html_to_table error 01653.jpg\n",
      "html_to_table error 01466.jpg\n",
      "html_to_table error 00311.jpg\n"
     ]
    },
    {
     "name": "stderr",
     "output_type": "stream",
     "text": [
      "100%|██████████| 2593/2593 [00:08<00:00, 302.12it/s]\n",
      "  3%|▎         | 83/2594 [00:00<00:05, 422.59it/s]"
     ]
    },
    {
     "name": "stdout",
     "output_type": "stream",
     "text": [
      "html_to_table error 01157.jpg\n",
      "html_to_table error 00592.jpg\n",
      "html_to_table error 01304.jpg\n"
     ]
    },
    {
     "name": "stderr",
     "output_type": "stream",
     "text": [
      "  8%|▊         | 217/2594 [00:00<00:09, 250.06it/s]"
     ]
    },
    {
     "name": "stdout",
     "output_type": "stream",
     "text": [
      "html_to_table error 01654.jpg\n"
     ]
    },
    {
     "name": "stderr",
     "output_type": "stream",
     "text": [
      " 11%|█         | 282/2594 [00:01<00:08, 277.77it/s]"
     ]
    },
    {
     "name": "stdout",
     "output_type": "stream",
     "text": [
      "html_to_table error 01646.jpg\n",
      "html_to_table error 00591.jpg\n"
     ]
    },
    {
     "name": "stderr",
     "output_type": "stream",
     "text": [
      " 13%|█▎        | 350/2594 [00:01<00:08, 272.28it/s]"
     ]
    },
    {
     "name": "stdout",
     "output_type": "stream",
     "text": [
      "html_to_table error 01302.jpg\n"
     ]
    },
    {
     "name": "stderr",
     "output_type": "stream",
     "text": [
      " 18%|█▊        | 457/2594 [00:01<00:09, 235.26it/s]"
     ]
    },
    {
     "name": "stdout",
     "output_type": "stream",
     "text": [
      "html_to_table error 00533.jpg\n"
     ]
    },
    {
     "name": "stderr",
     "output_type": "stream",
     "text": [
      " 21%|██        | 538/2594 [00:02<00:08, 238.11it/s]"
     ]
    },
    {
     "name": "stdout",
     "output_type": "stream",
     "text": [
      "html_to_table error 00531.jpg\n"
     ]
    },
    {
     "name": "stderr",
     "output_type": "stream",
     "text": [
      " 25%|██▍       | 640/2594 [00:02<00:06, 287.28it/s]"
     ]
    },
    {
     "name": "stdout",
     "output_type": "stream",
     "text": [
      "html_to_table error 01102.jpg\n",
      "html_to_table error 01662.jpg\n"
     ]
    },
    {
     "name": "stderr",
     "output_type": "stream",
     "text": [
      " 27%|██▋       | 707/2594 [00:02<00:06, 271.38it/s]"
     ]
    },
    {
     "name": "stdout",
     "output_type": "stream",
     "text": [
      "html_to_table error 00400.jpg\n"
     ]
    },
    {
     "name": "stderr",
     "output_type": "stream",
     "text": [
      " 30%|███       | 785/2594 [00:02<00:05, 317.59it/s]"
     ]
    },
    {
     "name": "stdout",
     "output_type": "stream",
     "text": [
      "html_to_table error 01180.jpg\n",
      "html_to_table error 02608.jpg\n",
      "html_to_table error 00435.jpg\n"
     ]
    },
    {
     "name": "stderr",
     "output_type": "stream",
     "text": [
      " 35%|███▌      | 919/2594 [00:03<00:06, 275.80it/s]"
     ]
    },
    {
     "name": "stdout",
     "output_type": "stream",
     "text": [
      "html_to_table error 02177.jpg\n",
      "html_to_table error 00603.jpg\n"
     ]
    },
    {
     "name": "stderr",
     "output_type": "stream",
     "text": [
      " 39%|███▉      | 1007/2594 [00:03<00:04, 332.92it/s]"
     ]
    },
    {
     "name": "stdout",
     "output_type": "stream",
     "text": [
      "html_to_table error 00411.jpg\n"
     ]
    },
    {
     "name": "stderr",
     "output_type": "stream",
     "text": [
      " 41%|████▏     | 1074/2594 [00:03<00:04, 308.51it/s]"
     ]
    },
    {
     "name": "stdout",
     "output_type": "stream",
     "text": [
      "html_to_table error 00262.jpg\n",
      "html_to_table error 02081.jpg\n"
     ]
    },
    {
     "name": "stderr",
     "output_type": "stream",
     "text": [
      " 48%|████▊     | 1239/2594 [00:04<00:04, 281.87it/s]"
     ]
    },
    {
     "name": "stdout",
     "output_type": "stream",
     "text": [
      "html_to_table error 02086.jpg\n",
      "html_to_table error 00025.jpg\n"
     ]
    },
    {
     "name": "stderr",
     "output_type": "stream",
     "text": [
      " 50%|████▉     | 1296/2594 [00:04<00:05, 258.54it/s]"
     ]
    },
    {
     "name": "stdout",
     "output_type": "stream",
     "text": [
      "html_to_table error 00208.jpg\n"
     ]
    },
    {
     "name": "stderr",
     "output_type": "stream",
     "text": [
      " 53%|█████▎    | 1369/2594 [00:04<00:03, 310.36it/s]"
     ]
    },
    {
     "name": "stdout",
     "output_type": "stream",
     "text": [
      "html_to_table error 00028.jpg\n",
      "html_to_table error 00862.jpg\n"
     ]
    },
    {
     "name": "stderr",
     "output_type": "stream",
     "text": [
      " 55%|█████▌    | 1429/2594 [00:05<00:04, 266.13it/s]"
     ]
    },
    {
     "name": "stdout",
     "output_type": "stream",
     "text": [
      "html_to_table error 00221.jpg\n",
      "html_to_table error 01106.jpg\n"
     ]
    },
    {
     "name": "stderr",
     "output_type": "stream",
     "text": [
      " 60%|█████▉    | 1556/2594 [00:05<00:03, 286.09it/s]"
     ]
    },
    {
     "name": "stdout",
     "output_type": "stream",
     "text": [
      "html_to_table error 00582.jpg\n"
     ]
    },
    {
     "name": "stderr",
     "output_type": "stream",
     "text": [
      " 63%|██████▎   | 1624/2594 [00:05<00:03, 266.33it/s]"
     ]
    },
    {
     "name": "stdout",
     "output_type": "stream",
     "text": [
      "html_to_table error 02137.jpg\n",
      "html_to_table error 01623.jpg\n",
      "html_to_table error 02321.jpg\n",
      "html_to_table error 01992.jpg\n"
     ]
    },
    {
     "name": "stderr",
     "output_type": "stream",
     "text": [
      " 66%|██████▌   | 1702/2594 [00:06<00:02, 314.28it/s]"
     ]
    },
    {
     "name": "stdout",
     "output_type": "stream",
     "text": [
      "html_to_table error 01939.jpg\n",
      "html_to_table error 02794.jpg\n",
      "html_to_table error 01158.jpg\n"
     ]
    },
    {
     "name": "stderr",
     "output_type": "stream",
     "text": [
      " 69%|██████▊   | 1781/2594 [00:06<00:02, 323.29it/s]"
     ]
    },
    {
     "name": "stdout",
     "output_type": "stream",
     "text": [
      "html_to_table error 00150.jpg\n",
      "html_to_table error 00022.jpg\n",
      "html_to_table error 00783.jpg\n"
     ]
    },
    {
     "name": "stderr",
     "output_type": "stream",
     "text": [
      " 71%|███████▏  | 1849/2594 [00:06<00:02, 262.11it/s]"
     ]
    },
    {
     "name": "stdout",
     "output_type": "stream",
     "text": [
      "html_to_table error 00189.jpg\n"
     ]
    },
    {
     "name": "stderr",
     "output_type": "stream",
     "text": [
      " 81%|████████  | 2105/2594 [00:07<00:01, 278.04it/s]"
     ]
    },
    {
     "name": "stdout",
     "output_type": "stream",
     "text": [
      "html_to_table error 00605.jpg\n",
      "html_to_table error 01012.jpg\n"
     ]
    },
    {
     "name": "stderr",
     "output_type": "stream",
     "text": [
      " 82%|████████▏ | 2134/2594 [00:07<00:01, 272.57it/s]"
     ]
    },
    {
     "name": "stdout",
     "output_type": "stream",
     "text": [
      "html_to_table error 00598.jpg\n",
      "html_to_table error 02327.jpg\n"
     ]
    },
    {
     "name": "stderr",
     "output_type": "stream",
     "text": [
      " 84%|████████▍ | 2191/2594 [00:07<00:01, 247.30it/s]"
     ]
    },
    {
     "name": "stdout",
     "output_type": "stream",
     "text": [
      "html_to_table error 00649.jpg\n",
      "html_to_table error 00179.jpg\n"
     ]
    },
    {
     "name": "stderr",
     "output_type": "stream",
     "text": [
      " 87%|████████▋ | 2259/2594 [00:08<00:01, 276.81it/s]"
     ]
    },
    {
     "name": "stdout",
     "output_type": "stream",
     "text": [
      "html_to_table error 02085.jpg\n"
     ]
    },
    {
     "name": "stderr",
     "output_type": "stream",
     "text": [
      " 92%|█████████▏| 2378/2594 [00:08<00:00, 264.12it/s]"
     ]
    },
    {
     "name": "stdout",
     "output_type": "stream",
     "text": [
      "html_to_table error 00614.jpg\n",
      "html_to_table error 00611.jpg\n"
     ]
    },
    {
     "name": "stderr",
     "output_type": "stream",
     "text": [
      " 95%|█████████▍| 2464/2594 [00:08<00:00, 344.60it/s]"
     ]
    },
    {
     "name": "stdout",
     "output_type": "stream",
     "text": [
      "html_to_table error 01220.jpg\n",
      "html_to_table error 01402.jpg\n"
     ]
    },
    {
     "name": "stderr",
     "output_type": "stream",
     "text": [
      "100%|█████████▉| 2587/2594 [00:09<00:00, 368.15it/s]"
     ]
    },
    {
     "name": "stdout",
     "output_type": "stream",
     "text": [
      "html_to_table error 01169.jpg\n",
      "html_to_table error 01956.jpg\n"
     ]
    },
    {
     "name": "stderr",
     "output_type": "stream",
     "text": [
      "100%|██████████| 2594/2594 [00:09<00:00, 283.41it/s]"
     ]
    },
    {
     "name": "stdout",
     "output_type": "stream",
     "text": [
      "html_to_table_error_cnt 97\n",
      "format_table_error_cnt 0\n"
     ]
    },
    {
     "name": "stderr",
     "output_type": "stream",
     "text": [
      "\n"
     ]
    }
   ],
   "source": [
    "# result_file = \"./output/structure_result/test_A/structure_master_results_0.pkl\"\n",
    "# result_file_dir = os.path.dirname(result_file)\n",
    "\n",
    "DATASET = \"test_A_jpg480max\"\n",
    "PRED_PKL_DIR = f\"../output/structure_result/test_A_jpg480max_wireless_10fold0_valid94.01\"\n",
    "\n",
    "# 输出路径\n",
    "pred_save_dir = f\"./output/structure_result/{DATASET}-pred.json\"\n",
    "if os.path.exists(pred_save_dir):\n",
    "    shutil.rmtree(pred_save_dir)\n",
    "Path(pred_save_dir).mkdir(parents=True, exist_ok=True)\n",
    "\n",
    "\n",
    "def check_1(table):\n",
    "    layout = table['layout']\n",
    "    num = layout.max() + 1\n",
    "    if num > 16:\n",
    "        return\n",
    "    assert np.all(layout != -1)\n",
    "\n",
    "pkls = sorted(glob(os.path.join(PRED_PKL_DIR, \"structure_master_results_*.pkl\")))\n",
    "html_to_table_error_cnt = 0\n",
    "format_table_error_cnt = 0\n",
    "for result_file in pkls:\n",
    "    with open(result_file, 'rb') as f:\n",
    "        result_data = pickle.load(f)\n",
    "\n",
    "    for imgname, result in tqdm(result_data.items()):\n",
    "        img_id = imgname.split(\".\")[0]\n",
    "\n",
    "        bboxes = remove_empty_bboxes(result['bbox'])\n",
    "        tokens_list = format_tokens(result['text'])\n",
    "\n",
    "        html = get_html(tokens_list, bboxes) # use pred data -> html format\n",
    "        \n",
    "        try:\n",
    "            table = html_to_table(html, check=False)\n",
    "        except:\n",
    "            html_to_table_error_cnt += 1\n",
    "            print(\"html_to_table error\", imgname)\n",
    "            continue\n",
    "            \n",
    "        # fill_first_row_minus1(table)\n",
    "        # fill_last_row_minus1(table)\n",
    "        # fill_first_col_minus1(table)\n",
    "\n",
    "        try:\n",
    "            table_new = format_table(table)\n",
    "        except:\n",
    "            format_table_error_cnt += 1\n",
    "            print(\"format_table error\", imgname)\n",
    "            print(result['text'])\n",
    "            ### 去除layout中的-1\n",
    "            table = format_table_1(table)\n",
    "            table_new = format_table(table)\n",
    "\n",
    "        save_path = os.path.join(pred_save_dir, f'{img_id}-pred.json')\n",
    "\n",
    "        json.dump(table_new, open(save_path, 'w'), indent=4, ensure_ascii=False)\n",
    "\n",
    "print(\"html_to_table_error_cnt\", html_to_table_error_cnt)\n",
    "print(\"format_table_error_cnt\", format_table_error_cnt)"
   ]
  },
  {
   "cell_type": "code",
   "execution_count": null,
   "metadata": {},
   "outputs": [],
   "source": []
  }
 ],
 "metadata": {
  "kernelspec": {
   "display_name": "py3.9_torch1.9",
   "language": "python",
   "name": "python3"
  },
  "language_info": {
   "codemirror_mode": {
    "name": "ipython",
    "version": 3
   },
   "file_extension": ".py",
   "mimetype": "text/x-python",
   "name": "python",
   "nbconvert_exporter": "python",
   "pygments_lexer": "ipython3",
   "version": "3.9.16"
  },
  "orig_nbformat": 4
 },
 "nbformat": 4,
 "nbformat_minor": 2
}
