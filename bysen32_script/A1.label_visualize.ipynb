{
 "cells": [
  {
   "attachments": {},
   "cell_type": "markdown",
   "metadata": {},
   "source": [
    "训练集标注可视化"
   ]
  },
  {
   "cell_type": "code",
   "execution_count": null,
   "metadata": {},
   "outputs": [],
   "source": [
    "import cv2\n",
    "import os\n",
    "import matplotlib.pyplot as plt\n",
    "import matplotlib.patches as patches\n",
    "from PIL import Image\n",
    "from glob import glob\n",
    "import json\n",
    "import numpy as np\n",
    "import shutil\n",
    "from pathlib import Path\n",
    "from tqdm import tqdm\n",
    "\n",
    "\n",
    "def img_label_visualize(src_img_path, pred_json_path, dst_img_path):\n",
    "    # 按行生成彩色标注框\n",
    "    col2color = []\n",
    "    for i in range(3):\n",
    "        for j in range(3):\n",
    "            for k in range(3):\n",
    "                col2color.append((i*100, j*100, k*100))\n",
    "    col2color.append((255, 0, 0))\n",
    "    col2color = np.array(col2color)\n",
    "\n",
    "    # 加载图像\n",
    "    src_img = cv2.imread(src_img_path)\n",
    "    json_data = json.load(open(pred_json_path, 'r'))\n",
    "    # 遍历坐标列表\n",
    "    for i, cell in enumerate(json_data[\"cells\"]):\n",
    "        x1, y1, x2, y2 = np.array(cell['bbox']).astype(dtype=int).tolist()\n",
    "        row_start, row_end = cell[\"row_start_idx\"], cell[\"row_end_idx\"]\n",
    "        col_start, col_end = cell[\"col_start_idx\"], cell[\"col_end_idx\"]\n",
    "        text = f\"{row_start}\" if row_start == row_end else f\"{row_start}-{row_end}\"\n",
    "        text += f\",{col_start}\" if col_start == col_end else f\",{col_start}-{col_end}\"\n",
    "\n",
    "        \n",
    "        color = col2color[col_start] if col_start < col2color.shape[0] else col2color[-1]\n",
    "        cv2.rectangle(src_img, (x1, y1, x2-x1, y2-y1), color.tolist(), 1)\n",
    "        width, height = src_img.shape[1], src_img.shape[0]\n",
    "        font_scale = min(width, height)//1024\n",
    "        font_scale = max(font_scale, 0.5)\n",
    "        font_thickness = int(font_scale * 2)\n",
    "        font_height = int(font_scale * 20)\n",
    "        cv2.putText(src_img, text, (x1, y1), cv2.FONT_HERSHEY_SIMPLEX, font_scale, color.tolist(), font_thickness)\n",
    "        \n",
    "    cv2.imwrite(dst_img_path, src_img)\n",
    "\n",
    "# 数据集名称\n",
    "DATASET = \"train_jpg480max_wireless\"\n",
    "# 输入数据目录\n",
    "img_data_dir    = f\"/media/ubuntu/Date12/TableStruct/new_data/{DATASET}\"\n",
    "json_data_dir    = f\"/media/ubuntu/Date12/TableStruct/new_data/{DATASET}_gt_json\"\n",
    "# 输出目录\n",
    "pred_visual_dir = f\"./output/structure_result/{DATASET}-visualize/\"\n",
    "if os.path.exists(pred_visual_dir):\n",
    "    shutil.rmtree(pred_visual_dir)\n",
    "Path(pred_visual_dir).mkdir(parents=True, exist_ok=True)\n",
    "\n",
    "imgs = sorted(glob(os.path.join(img_data_dir, \"*.jpg\")))\n",
    "for src_img_path in tqdm(imgs):\n",
    "    src_img_file = os.path.basename(src_img_path)\n",
    "    pred_json_path = os.path.join(json_data_dir, src_img_file.replace(\".jpg\", \"-gt.json\"))\n",
    "    dst_img_path = os.path.join(pred_visual_dir, src_img_file.replace(\".jpg\", \".jpg\"))\n",
    "    if os.path.exists(pred_json_path):\n",
    "        img_label_visualize(src_img_path, pred_json_path, dst_img_path)\n"
   ]
  },
  {
   "cell_type": "code",
   "execution_count": null,
   "metadata": {},
   "outputs": [],
   "source": []
  }
 ],
 "metadata": {
  "kernelspec": {
   "display_name": "py3.9_torch1.9",
   "language": "python",
   "name": "python3"
  },
  "language_info": {
   "codemirror_mode": {
    "name": "ipython",
    "version": 3
   },
   "file_extension": ".py",
   "mimetype": "text/x-python",
   "name": "python",
   "nbconvert_exporter": "python",
   "pygments_lexer": "ipython3",
   "version": "3.9.16"
  },
  "orig_nbformat": 4
 },
 "nbformat": 4,
 "nbformat_minor": 2
}
