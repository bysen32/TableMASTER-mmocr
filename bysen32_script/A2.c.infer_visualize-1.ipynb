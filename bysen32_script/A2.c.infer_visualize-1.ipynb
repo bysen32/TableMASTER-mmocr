{
 "cells": [
  {
   "attachments": {},
   "cell_type": "markdown",
   "metadata": {},
   "source": [
    "预测结果可视化"
   ]
  },
  {
   "cell_type": "code",
   "execution_count": 1,
   "metadata": {},
   "outputs": [
    {
     "name": "stderr",
     "output_type": "stream",
     "text": [
      "100%|██████████| 2367/2367 [02:32<00:00, 15.53it/s]\n"
     ]
    }
   ],
   "source": [
    "import cv2\n",
    "import os\n",
    "import matplotlib.pyplot as plt\n",
    "import matplotlib.patches as patches\n",
    "from PIL import Image\n",
    "from glob import glob\n",
    "import json\n",
    "import numpy as np\n",
    "import shutil\n",
    "from pathlib import Path\n",
    "from tqdm import tqdm\n",
    "\n",
    "# jpg_json_path = \"/media/ubuntu/Date12/TableStruct/data/test_A_jpg.json\"\n",
    "# jpg_info = json.load(open(jpg_json_path, 'r'))\n",
    "\n",
    "def table_img_visualize(src_img_path, pred_json_path, dst_img_path):\n",
    "    # 彩色检测框\n",
    "    col2color = []\n",
    "    for i in range(3):\n",
    "        for j in range(3):\n",
    "            for k in range(3):\n",
    "                col2color.append((i*100, j*100, k*100))\n",
    "    col2color = np.array(col2color)\n",
    "\n",
    "    src_img = cv2.imread(src_img_path)\n",
    "    json_data = json.load(open(pred_json_path, 'r'))\n",
    "    img_id = os.path.basename(src_img_path).split(\".\")[0]\n",
    "    layout = np.array(json_data['layout'])\n",
    "    if np.any(layout == -1):\n",
    "        print(\"yes!!!\")\n",
    "    # 遍历坐标列表\n",
    "    for i, cell in enumerate(json_data[\"cells\"]):\n",
    "        x1, y1, x2, y2 = np.array(cell['bbox']).astype(np.int32).tolist()\n",
    "        row_start, row_end = cell[\"row_start_idx\"], cell[\"row_end_idx\"]\n",
    "        col_start, col_end = cell[\"col_start_idx\"], cell[\"col_end_idx\"]\n",
    "        row_text = f\"{row_start}\" if row_start == row_end else f\"{row_start}-{row_end}\"\n",
    "        col_text = f\"{col_start}\" if col_start == col_end else f\"{col_start}-{col_end}\"\n",
    "        text = f\"{row_text},{col_text}\"\n",
    "\n",
    "        color = col2color[row_start % col2color.shape[0]]\n",
    "        cv2.rectangle(src_img, (x1, y1, x2-x1, y2-y1), color.tolist(), 1)\n",
    "\n",
    "        width, height = src_img.shape[1], src_img.shape[0]\n",
    "        font_scale = min(width, height)//1024\n",
    "        font_scale = max(font_scale, 0.5)\n",
    "        font_thickness = int(font_scale * 2)\n",
    "        cv2.putText(src_img, text, (x1, y1), cv2.FONT_HERSHEY_SIMPLEX, font_scale, color.tolist(), font_thickness)\n",
    "\n",
    "    cv2.imwrite(dst_img_path, src_img)\n",
    "\n",
    "# 参数：数据集名称\n",
    "DATASET = \"test_A_jpg480max_wire\"\n",
    "EXT_NAME = \"_10fold1_valid97.58\"\n",
    "# 输入数据目录\n",
    "img_data_dir    = f\"/media/ubuntu/Date12/TableStruct/new_data/{DATASET}\"\n",
    "pred_json_dir   = f\"./output/structure_result/{DATASET}-pred.json/\"\n",
    "# 输出目录\n",
    "pred_visual_dir = f\"./output/structure_result/{DATASET}-pred.json_visualize{EXT_NAME}/\"\n",
    "if os.path.exists(pred_visual_dir):\n",
    "    shutil.rmtree(pred_visual_dir)\n",
    "Path(pred_visual_dir).mkdir(parents=True, exist_ok=True)\n",
    "\n",
    "file_ext = \"jpg\" if \"jpg\" in DATASET else \"png\"\n",
    "img_paths = sorted(glob(os.path.join(img_data_dir, f\"*.{file_ext}\")))[:]\n",
    "for src_img_path in tqdm(img_paths):\n",
    "    src_img_file = os.path.basename(src_img_path)\n",
    "    pred_json_path = os.path.join(pred_json_dir, src_img_file.replace(f\".{file_ext}\", \"-pred.json\"))\n",
    "    dst_img_path = os.path.join(pred_visual_dir, src_img_file.replace(f\".{file_ext}\", \".jpg\"))\n",
    "    if os.path.exists(pred_json_path):\n",
    "        table_img_visualize(src_img_path, pred_json_path, dst_img_path)\n"
   ]
  }
 ],
 "metadata": {
  "kernelspec": {
   "display_name": "py3.9_torch1.9",
   "language": "python",
   "name": "python3"
  },
  "language_info": {
   "codemirror_mode": {
    "name": "ipython",
    "version": 3
   },
   "file_extension": ".py",
   "mimetype": "text/x-python",
   "name": "python",
   "nbconvert_exporter": "python",
   "pygments_lexer": "ipython3",
   "version": "3.9.16"
  },
  "orig_nbformat": 4
 },
 "nbformat": 4,
 "nbformat_minor": 2
}
