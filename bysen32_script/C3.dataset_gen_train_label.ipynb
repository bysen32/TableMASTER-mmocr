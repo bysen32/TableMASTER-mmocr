{
 "cells": [
  {
   "cell_type": "code",
   "execution_count": 2,
   "metadata": {},
   "outputs": [
    {
     "name": "stdout",
     "output_type": "stream",
     "text": [
      "file count: 7200\n"
     ]
    },
    {
     "name": "stderr",
     "output_type": "stream",
     "text": [
      "100%|██████████| 7200/7200 [00:08<00:00, 817.03it/s]  \n",
      "100%|██████████| 7200/7200 [00:09<00:00, 795.25it/s]\n",
      "100%|██████████| 7200/7200 [00:09<00:00, 783.80it/s] \n",
      "100%|██████████| 7200/7200 [00:09<00:00, 738.54it/s]\n",
      "100%|██████████| 7200/7200 [00:09<00:00, 726.42it/s] \n",
      "100%|██████████| 7200/7200 [00:10<00:00, 671.50it/s] \n",
      "100%|██████████| 7200/7200 [00:11<00:00, 637.27it/s]\n",
      "100%|██████████| 7200/7200 [00:13<00:00, 529.77it/s]  \n",
      "100%|██████████| 7200/7200 [00:19<00:00, 360.61it/s]  \n",
      "100%|██████████| 7200/7200 [00:22<00:00, 315.41it/s]  \n",
      "100%|██████████| 7200/7200 [00:23<00:00, 304.89it/s]\n",
      "100%|██████████| 7200/7200 [00:23<00:00, 300.09it/s]\n",
      "100%|██████████| 7200/7200 [00:24<00:00, 296.00it/s]\n",
      "100%|██████████| 7200/7200 [00:24<00:00, 294.74it/s]\n",
      "100%|██████████| 7200/7200 [00:26<00:00, 268.64it/s]\n",
      "100%|██████████| 7200/7200 [00:27<00:00, 261.65it/s]\n"
     ]
    },
    {
     "name": "stdout",
     "output_type": "stream",
     "text": [
      "parse images cost 27.677061796188354 seconds.\n"
     ]
    },
    {
     "name": "stderr",
     "output_type": "stream",
     "text": [
      "100%|██████████| 800/800 [00:01<00:00, 499.03it/s] \n",
      "100%|██████████| 800/800 [00:01<00:00, 439.18it/s] \n",
      "100%|██████████| 800/800 [00:01<00:00, 428.05it/s]\n",
      "100%|██████████| 800/800 [00:01<00:00, 423.10it/s] \n",
      "100%|██████████| 800/800 [00:01<00:00, 417.59it/s]\n",
      "100%|██████████| 800/800 [00:02<00:00, 357.82it/s]\n",
      "100%|██████████| 800/800 [00:02<00:00, 327.19it/s]\n",
      "100%|██████████| 800/800 [00:02<00:00, 294.42it/s] \n",
      "100%|██████████| 800/800 [00:02<00:00, 293.68it/s]\n",
      "100%|██████████| 800/800 [00:03<00:00, 257.86it/s] \n",
      "100%|██████████| 800/800 [00:03<00:00, 253.36it/s] \n",
      "100%|██████████| 800/800 [00:03<00:00, 236.50it/s] \n",
      "100%|██████████| 800/800 [00:03<00:00, 236.11it/s] \n",
      "100%|██████████| 800/800 [00:03<00:00, 226.38it/s] \n",
      "100%|██████████| 800/800 [00:03<00:00, 219.73it/s] \n",
      "100%|██████████| 800/800 [00:03<00:00, 215.84it/s]\n"
     ]
    },
    {
     "name": "stdout",
     "output_type": "stream",
     "text": [
      "parse images cost 3.819504499435425 seconds.\n",
      "/media/ubuntu/Date12/TableStruct/ext_data/tablemaster/10fold0/cell_box_label\n",
      "done.\n"
     ]
    }
   ],
   "source": [
    "import time\n",
    "from preprocess_ext_utils import PubtabnetParser\n",
    "\n",
    "\n",
    "\n",
    "FOLDK = 10\n",
    "\n",
    "for k in range(10):\n",
    "    # parse train\n",
    "    nproc = 16\n",
    "    parser = PubtabnetParser(is_toy=False, split='train', foldk=f\"{FOLDK}fold{k}\", chunks_nums=nproc)\n",
    "    # multiprocessing\n",
    "    start_time = time.time()\n",
    "    filenames, count = parser.get_filenames()\n",
    "    print(\"file count: {}\".format(count))\n",
    "    img_chunks = parser.divide_img(filenames)\n",
    "    parser.parse_images_mp(img_chunks, nproc) # - a.multi process\n",
    "    # parser.parse_images(img_chunks)             # - b.single process\n",
    "    print(\"parse images cost {} seconds.\".format(time.time()-start_time))\n",
    "\n",
    "    # single process\n",
    "    # start_time = time.time()\n",
    "    # filenames, count = parser.get_filenames()\n",
    "    # img_chunks = parser.divide_img(filenames)\n",
    "    # parser.parse_images(img_chunks)\n",
    "    # print(\"parse images cost {} seconds.\".format(time.time()-start_time))\n",
    "\n",
    "    parser = PubtabnetParser(is_toy=False, split='valid', foldk=f\"{FOLDK}fold{k}\", chunks_nums=nproc)\n",
    "    # multiprocessing\n",
    "    start_time = time.time()\n",
    "    filenames, count = parser.get_filenames()\n",
    "    img_chunks = parser.divide_img(filenames)\n",
    "    parser.parse_images_mp(img_chunks, nproc)\n",
    "    # parser.parse_images(img_chunks) # - single process\n",
    "    print(\"parse images cost {} seconds.\".format(time.time()-start_time))\n",
    "\n",
    "    # get structure recognition alphabet.\n",
    "    # parser.get_structure_alphabet()\n",
    "    print(parser.save_root)\n",
    "    break\n",
    "\n",
    "print(\"done.\")\n"
   ]
  },
  {
   "cell_type": "code",
   "execution_count": null,
   "metadata": {},
   "outputs": [],
   "source": []
  }
 ],
 "metadata": {
  "kernelspec": {
   "display_name": "py3.9_torch1.9",
   "language": "python",
   "name": "python3"
  },
  "language_info": {
   "codemirror_mode": {
    "name": "ipython",
    "version": 3
   },
   "file_extension": ".py",
   "mimetype": "text/x-python",
   "name": "python",
   "nbconvert_exporter": "python",
   "pygments_lexer": "ipython3",
   "version": "3.9.16"
  },
  "orig_nbformat": 4
 },
 "nbformat": 4,
 "nbformat_minor": 2
}
