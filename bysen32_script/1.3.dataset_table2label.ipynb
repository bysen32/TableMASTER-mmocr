{
 "cells": [
  {
   "cell_type": "code",
   "execution_count": 1,
   "metadata": {},
   "outputs": [],
   "source": [
    "import os\n",
    "import sys\n",
    "import cv2\n",
    "import json\n",
    "import shutil\n",
    "from glob import glob\n",
    "from tqdm import tqdm\n",
    "from pathlib import Path\n",
    "\n",
    "from utils.table2label import table2layout, fuse_gt_info, judge_error\n",
    "from utils.table_helper import correct_table\n",
    "\n",
    "\n",
    "\n",
    "def table2label(table_dir, label_dir, error_file_path):\n",
    "    table_error = {}\n",
    "    json_files = sorted(glob(os.path.join(table_dir, '*.json')))\n",
    "    # json_files = sorted(glob(os.path.join(table_dir, '*.json')))[7087:]\n",
    "    for idx, json_path in tqdm(enumerate(json_files), total=len(json_files)):\n",
    "        json_name = os.path.basename(json_path)\n",
    "        json_id = json_name.split('.')[0]\n",
    "        table = json.load(open(json_path, 'r'))\n",
    "\n",
    "        # table = correct_table(table)\n",
    "        gt_label = table2layout(table)\n",
    "\n",
    "        if judge_error(table, gt_label):\n",
    "            table_error[json_name] = 'table json error'\n",
    "            continue\n",
    "\n",
    "        ## 有线表格得到的bbox还是cell框，不是text框\n",
    "        gt_label = fuse_gt_info(gt_label, table)\n",
    "\n",
    "        gt_json_path = os.path.join(label_dir, f'{json_id}-gt.json')\n",
    "        json.dump(gt_label, open(gt_json_path, 'w'), indent=4)\n",
    "    json.dump(table_error, open(error_file_path, 'w'), indent=4)\n",
    "\n",
    "    print('table error: {}'.format(len(table_error)))"
   ]
  },
  {
   "attachments": {},
   "cell_type": "markdown",
   "metadata": {},
   "source": [
    "## STEP.1 gen_gt_labels"
   ]
  },
  {
   "cell_type": "code",
   "execution_count": 2,
   "metadata": {},
   "outputs": [
    {
     "name": "stderr",
     "output_type": "stream",
     "text": [
      "100%|██████████| 12104/12104 [04:48<00:00, 41.94it/s] "
     ]
    },
    {
     "name": "stdout",
     "output_type": "stream",
     "text": [
      "table error: 688\n"
     ]
    },
    {
     "name": "stderr",
     "output_type": "stream",
     "text": [
      "\n"
     ]
    }
   ],
   "source": [
    "'''\n",
    "输入\n",
    "    训练集目录: {dataset_root}/train\n",
    "输出\n",
    "    训练集标注目录: {dataset_root}/train_gt_json/\n",
    "    {dataset_root}/train_error.json\n",
    "\n",
    "使用 fix_gt_table 前 报错的：684\n",
    "使用 fix_gt_table 后 报错的：665\n",
    "    + 清除area==0的数据：664\n",
    "'''\n",
    "DATASET = \"train_jpg480max\"\n",
    "DATASET_ROOT = '/media/ubuntu/Date12/TableStruct/new_data'\n",
    "TABLE_DIR = os.path.join(DATASET_ROOT, DATASET)\n",
    "LABEL_DIR = os.path.join(DATASET_ROOT, f'{DATASET}_gt_json')\n",
    "TABLE_ERROR_PATH = os.path.join(DATASET_ROOT, f'{DATASET}_error.json')\n",
    "\n",
    "if os.path.exists(LABEL_DIR):\n",
    "    shutil.rmtree(LABEL_DIR)\n",
    "Path.mkdir(Path(LABEL_DIR), parents=True)\n",
    "\n",
    "table2label(TABLE_DIR, LABEL_DIR, TABLE_ERROR_PATH)\n"
   ]
  },
  {
   "cell_type": "code",
   "execution_count": null,
   "metadata": {},
   "outputs": [],
   "source": []
  }
 ],
 "metadata": {
  "kernelspec": {
   "display_name": "py3.9_torch1.9",
   "language": "python",
   "name": "python3"
  },
  "language_info": {
   "codemirror_mode": {
    "name": "ipython",
    "version": 3
   },
   "file_extension": ".py",
   "mimetype": "text/x-python",
   "name": "python",
   "nbconvert_exporter": "python",
   "pygments_lexer": "ipython3",
   "version": "3.9.16"
  },
  "orig_nbformat": 4
 },
 "nbformat": 4,
 "nbformat_minor": 2
}
