{
 "cells": [
  {
   "cell_type": "code",
   "execution_count": 1,
   "metadata": {},
   "outputs": [],
   "source": [
    "import os\n",
    "import sys\n",
    "import cv2\n",
    "import json\n",
    "import shutil\n",
    "from glob import glob\n",
    "from tqdm import tqdm\n",
    "from pathlib import Path\n",
    "\n",
    "from utils.table2label import table2layout, fuse_gt_info, judge_error\n",
    "from utils.table_helper import correct_table\n",
    "\n",
    "\n",
    "\n",
    "def table2label(table_dir, label_dir, error_file_path):\n",
    "    table_error = {}\n",
    "    json_files = sorted(glob(os.path.join(table_dir, '*.json')))\n",
    "    for idx, json_path in tqdm(enumerate(json_files), total=len(json_files)):\n",
    "        json_dir = os.path.dirname(json_path)\n",
    "        json_name = os.path.basename(json_path)\n",
    "        # json_name = \"06615.json\"\n",
    "        # json_path = os.path.join(json_dir, json_name)\n",
    "\n",
    "        json_id = json_name.split('.')[0]\n",
    "        table = json.load(open(json_path, 'r'))\n",
    "        \n",
    "        # table['is_wireless'] = True\n",
    "\n",
    "        # table = correct_table(table)\n",
    "        try:\n",
    "            gt_label = table2layout(table)\n",
    "        except:\n",
    "            table_error[json_id] = 'table2layout error'\n",
    "            continue\n",
    "\n",
    "        ## 有线表格得到的bbox还是cell框，不是text框\n",
    "        try:\n",
    "            gt_label = fuse_gt_info(gt_label, table)\n",
    "        except:\n",
    "            table_error[json_id] = \"fuse_gt_info error\" # 仅有1cell的有线表格 滤过\n",
    "            continue\n",
    "\n",
    "        valid, msg = judge_error(table, gt_label)\n",
    "        if not valid:\n",
    "            print(json_name, msg)\n",
    "            table_error[json_id] = msg\n",
    "            continue\n",
    "\n",
    "        gt_json_path = os.path.join(label_dir, f'{json_id}-gt.json')\n",
    "        json.dump(gt_label, open(gt_json_path, 'w'), indent=4)\n",
    "    json.dump(table_error, open(error_file_path, 'w'), indent=4)\n",
    "\n",
    "    print('table error: {}'.format(len(table_error)))"
   ]
  },
  {
   "attachments": {},
   "cell_type": "markdown",
   "metadata": {},
   "source": [
    "## STEP.1 gen_gt_labels"
   ]
  },
  {
   "cell_type": "code",
   "execution_count": 2,
   "metadata": {},
   "outputs": [
    {
     "name": "stderr",
     "output_type": "stream",
     "text": [
      "  0%|          | 35/12104 [00:01<09:17, 21.65it/s]"
     ]
    },
    {
     "name": "stdout",
     "output_type": "stream",
     "text": [
      "00029.json line idx:[[6], [12], [113]] not find\n"
     ]
    },
    {
     "name": "stderr",
     "output_type": "stream",
     "text": [
      "  1%|          | 61/12104 [00:02<10:29, 19.12it/s]"
     ]
    },
    {
     "name": "stdout",
     "output_type": "stream",
     "text": [
      "00057.json line idx:[[34]] not find\n"
     ]
    },
    {
     "name": "stderr",
     "output_type": "stream",
     "text": [
      "  1%|          | 93/12104 [00:04<05:53, 33.97it/s]"
     ]
    },
    {
     "name": "stdout",
     "output_type": "stream",
     "text": [
      "00084.json line idx:[[20], [61], [62], [103], [104]] not find\n"
     ]
    },
    {
     "name": "stderr",
     "output_type": "stream",
     "text": [
      "  1%|▏         | 172/12104 [00:05<02:47, 71.22it/s]"
     ]
    },
    {
     "name": "stdout",
     "output_type": "stream",
     "text": [
      "00169.json line idx:[[0], [2], [9], [10], [16], [17]] not find\n"
     ]
    },
    {
     "name": "stderr",
     "output_type": "stream",
     "text": [
      "  2%|▏         | 264/12104 [00:07<03:21, 58.65it/s]"
     ]
    },
    {
     "name": "stdout",
     "output_type": "stream",
     "text": [
      "00250.json line idx:[[6]] not find\n"
     ]
    },
    {
     "name": "stderr",
     "output_type": "stream",
     "text": [
      "  2%|▏         | 278/12104 [00:07<03:28, 56.69it/s]"
     ]
    },
    {
     "name": "stdout",
     "output_type": "stream",
     "text": [
      "00273.json line idx:[[2], [8]] not find\n",
      "00280.json line idx:[[35]] not find\n"
     ]
    },
    {
     "name": "stderr",
     "output_type": "stream",
     "text": [
      "  3%|▎         | 317/12104 [00:08<02:58, 66.02it/s]"
     ]
    },
    {
     "name": "stdout",
     "output_type": "stream",
     "text": [
      "00301.json line idx:[[17], [18], [20]] not find\n",
      "00303.json line idx:[[9], [17], [18]] not find\n",
      "00307.json line idx:[[4], [18], [20]] not find\n",
      "00314.json line idx:[[32], [35]] not find\n"
     ]
    },
    {
     "name": "stderr",
     "output_type": "stream",
     "text": [
      "  3%|▎         | 331/12104 [00:08<03:36, 54.38it/s]"
     ]
    },
    {
     "name": "stdout",
     "output_type": "stream",
     "text": [
      "00325.json line idx:[[19], [20]] not find\n"
     ]
    },
    {
     "name": "stderr",
     "output_type": "stream",
     "text": [
      "  3%|▎         | 337/12104 [00:08<04:12, 46.64it/s]"
     ]
    },
    {
     "name": "stdout",
     "output_type": "stream",
     "text": [
      "00334.json line idx:[[0], [1], [2], [3]] not find\n"
     ]
    },
    {
     "name": "stderr",
     "output_type": "stream",
     "text": [
      "  3%|▎         | 356/12104 [00:09<07:12, 27.18it/s]"
     ]
    },
    {
     "name": "stdout",
     "output_type": "stream",
     "text": [
      "00353.json line idx:[[13], [23], [47], [48], [49], [50], [72], [73], [74], [75]] not find\n"
     ]
    },
    {
     "name": "stderr",
     "output_type": "stream",
     "text": [
      "  3%|▎         | 368/12104 [00:09<05:21, 36.46it/s]"
     ]
    },
    {
     "name": "stdout",
     "output_type": "stream",
     "text": [
      "00358.json line idx:[[0], [13], [18], [23]] not find\n"
     ]
    },
    {
     "name": "stderr",
     "output_type": "stream",
     "text": [
      "  3%|▎         | 401/12104 [00:09<02:20, 83.05it/s]"
     ]
    },
    {
     "name": "stdout",
     "output_type": "stream",
     "text": [
      "00374.json line idx:[[18]] not find\n"
     ]
    },
    {
     "name": "stderr",
     "output_type": "stream",
     "text": [
      "  4%|▍         | 491/12104 [00:13<17:41, 10.94it/s] "
     ]
    },
    {
     "name": "stdout",
     "output_type": "stream",
     "text": [
      "00489.json line idx:[[26], [27], [36], [37]] not find\n"
     ]
    },
    {
     "name": "stderr",
     "output_type": "stream",
     "text": [
      "  5%|▍         | 590/12104 [00:15<02:29, 77.03it/s]"
     ]
    },
    {
     "name": "stdout",
     "output_type": "stream",
     "text": [
      "00573.json line idx:[[0], [2]] not find\n"
     ]
    },
    {
     "name": "stderr",
     "output_type": "stream",
     "text": [
      "  5%|▍         | 599/12104 [00:15<02:54, 65.82it/s]"
     ]
    },
    {
     "name": "stdout",
     "output_type": "stream",
     "text": [
      "00600.json line idx:[[0], [1], [35], [36]] not find\n",
      "00602.json line idx:[[4], [11], [12]] not find\n"
     ]
    },
    {
     "name": "stderr",
     "output_type": "stream",
     "text": [
      "  5%|▌         | 624/12104 [00:16<03:28, 55.04it/s]"
     ]
    },
    {
     "name": "stdout",
     "output_type": "stream",
     "text": [
      "00611.json line idx:[[3]] not find\n"
     ]
    },
    {
     "name": "stderr",
     "output_type": "stream",
     "text": [
      "  5%|▌         | 646/12104 [00:16<04:21, 43.76it/s]"
     ]
    },
    {
     "name": "stdout",
     "output_type": "stream",
     "text": [
      "00641.json line idx:[[13], [14], [15], [16]] not find\n"
     ]
    },
    {
     "name": "stderr",
     "output_type": "stream",
     "text": [
      "  6%|▌         | 683/12104 [00:17<03:34, 53.24it/s]"
     ]
    },
    {
     "name": "stdout",
     "output_type": "stream",
     "text": [
      "00668.json line idx:[[4], [6]] not find\n",
      "00674.json line idx:[[34]] not find\n"
     ]
    },
    {
     "name": "stderr",
     "output_type": "stream",
     "text": [
      "  6%|▌         | 741/12104 [00:18<03:59, 47.52it/s]"
     ]
    },
    {
     "name": "stdout",
     "output_type": "stream",
     "text": [
      "00731.json line idx:[[0], [1], [2], [3]] not find\n",
      "00741.json line idx:[[14], [33], [34], [49]] not find\n"
     ]
    },
    {
     "name": "stderr",
     "output_type": "stream",
     "text": [
      "  6%|▌         | 747/12104 [00:19<04:14, 44.68it/s]"
     ]
    },
    {
     "name": "stdout",
     "output_type": "stream",
     "text": [
      "00745.json line idx:[[24]] not find\n"
     ]
    },
    {
     "name": "stderr",
     "output_type": "stream",
     "text": [
      "  6%|▋         | 766/12104 [00:19<05:12, 36.23it/s]"
     ]
    },
    {
     "name": "stdout",
     "output_type": "stream",
     "text": [
      "00759.json line idx:[[102]] not find\n"
     ]
    },
    {
     "name": "stderr",
     "output_type": "stream",
     "text": [
      "  6%|▋         | 779/12104 [00:20<06:00, 31.40it/s]"
     ]
    },
    {
     "name": "stdout",
     "output_type": "stream",
     "text": [
      "00773.json line idx:[[39]] not find\n"
     ]
    },
    {
     "name": "stderr",
     "output_type": "stream",
     "text": [
      "  7%|▋         | 788/12104 [00:20<06:18, 29.90it/s]"
     ]
    },
    {
     "name": "stdout",
     "output_type": "stream",
     "text": [
      "00782.json line idx:[[111], [127]] not find\n"
     ]
    },
    {
     "name": "stderr",
     "output_type": "stream",
     "text": [
      "  7%|▋         | 907/12104 [00:22<05:07, 36.40it/s] "
     ]
    },
    {
     "name": "stdout",
     "output_type": "stream",
     "text": [
      "00902.json line idx:[[0], [1], [2], [3], [7], [8], [9], [10], [11], [12], [13], [14]] not find\n"
     ]
    },
    {
     "name": "stderr",
     "output_type": "stream",
     "text": [
      "  9%|▉         | 1126/12104 [00:28<02:51, 64.18it/s]"
     ]
    },
    {
     "name": "stdout",
     "output_type": "stream",
     "text": [
      "01119.json line idx:[[5], [40]] not find\n"
     ]
    },
    {
     "name": "stderr",
     "output_type": "stream",
     "text": [
      "  9%|▉         | 1139/12104 [00:28<03:42, 49.36it/s]"
     ]
    },
    {
     "name": "stdout",
     "output_type": "stream",
     "text": [
      "01131.json line idx:[[11], [61]] not find\n",
      "01136.json line idx:[[87]] not find\n",
      "01138.json line idx:[[16], [19], [40], [41]] not find\n"
     ]
    },
    {
     "name": "stderr",
     "output_type": "stream",
     "text": [
      " 10%|▉         | 1202/12104 [00:29<03:09, 57.67it/s]"
     ]
    },
    {
     "name": "stdout",
     "output_type": "stream",
     "text": [
      "01203.json line idx:[[28], [31]] not find\n"
     ]
    },
    {
     "name": "stderr",
     "output_type": "stream",
     "text": [
      " 11%|█▏        | 1365/12104 [00:33<07:02, 25.40it/s]"
     ]
    },
    {
     "name": "stdout",
     "output_type": "stream",
     "text": [
      "01361.json line idx:[[0], [4], [5], [6]] not find\n"
     ]
    },
    {
     "name": "stderr",
     "output_type": "stream",
     "text": [
      " 11%|█▏        | 1383/12104 [00:34<06:02, 29.55it/s]"
     ]
    },
    {
     "name": "stdout",
     "output_type": "stream",
     "text": [
      "01378.json line idx:[[63], [64]] not find\n"
     ]
    },
    {
     "name": "stderr",
     "output_type": "stream",
     "text": [
      " 12%|█▏        | 1480/12104 [00:36<02:32, 69.82it/s]"
     ]
    },
    {
     "name": "stdout",
     "output_type": "stream",
     "text": [
      "01475.json line idx:[[9]] not find\n"
     ]
    },
    {
     "name": "stderr",
     "output_type": "stream",
     "text": [
      " 12%|█▏        | 1505/12104 [00:36<03:08, 56.26it/s]"
     ]
    },
    {
     "name": "stdout",
     "output_type": "stream",
     "text": [
      "01498.json line idx:[[0]] not find\n",
      "01499.json line idx:[[37]] not find\n"
     ]
    },
    {
     "name": "stderr",
     "output_type": "stream",
     "text": [
      " 13%|█▎        | 1597/12104 [00:38<02:54, 60.18it/s]"
     ]
    },
    {
     "name": "stdout",
     "output_type": "stream",
     "text": [
      "01586.json line idx:[[6], [7], [8], [9], [10], [14], [15], [16], [17], [18], [21], [22], [23], [24], [25], [26], [31], [32]] not find\n"
     ]
    },
    {
     "name": "stderr",
     "output_type": "stream",
     "text": [
      " 14%|█▍        | 1675/12104 [00:40<04:37, 37.61it/s]"
     ]
    },
    {
     "name": "stdout",
     "output_type": "stream",
     "text": [
      "01668.json line idx:[[57], [73], [114]] not find\n"
     ]
    },
    {
     "name": "stderr",
     "output_type": "stream",
     "text": [
      " 15%|█▍        | 1772/12104 [00:41<02:52, 60.03it/s] "
     ]
    },
    {
     "name": "stdout",
     "output_type": "stream",
     "text": [
      "01768.json line idx:[[84], [88]] not find\n"
     ]
    },
    {
     "name": "stderr",
     "output_type": "stream",
     "text": [
      " 15%|█▍        | 1800/12104 [00:43<10:23, 16.52it/s]"
     ]
    },
    {
     "name": "stdout",
     "output_type": "stream",
     "text": [
      "01797.json line idx:[[137], [198]] not find\n"
     ]
    },
    {
     "name": "stderr",
     "output_type": "stream",
     "text": [
      " 16%|█▌        | 1960/12104 [00:47<02:41, 62.72it/s]"
     ]
    },
    {
     "name": "stdout",
     "output_type": "stream",
     "text": [
      "01947.json line idx:[[83], [84], [85], [86], [87], [88], [89], [90], [91], [92], [93], [94], [95]] not find\n",
      "01948.json line idx:[[12]] not find\n"
     ]
    },
    {
     "name": "stderr",
     "output_type": "stream",
     "text": [
      " 16%|█▋        | 1994/12104 [00:48<03:03, 55.10it/s]"
     ]
    },
    {
     "name": "stdout",
     "output_type": "stream",
     "text": [
      "01990.json line idx:[[0]] not find\n"
     ]
    },
    {
     "name": "stderr",
     "output_type": "stream",
     "text": [
      " 17%|█▋        | 2000/12104 [00:49<05:46, 29.18it/s]"
     ]
    },
    {
     "name": "stdout",
     "output_type": "stream",
     "text": [
      "01997.json line idx:[[0], [1], [2], [3]] not find\n"
     ]
    },
    {
     "name": "stderr",
     "output_type": "stream",
     "text": [
      " 17%|█▋        | 2076/12104 [00:50<02:55, 57.26it/s]"
     ]
    },
    {
     "name": "stdout",
     "output_type": "stream",
     "text": [
      "02065.json line idx:[[25], [26], [27], [29], [30], [31], [32], [33], [38]] not find\n",
      "02077.json line idx:[[0]] not find\n"
     ]
    },
    {
     "name": "stderr",
     "output_type": "stream",
     "text": [
      " 18%|█▊        | 2146/12104 [00:52<02:42, 61.21it/s]"
     ]
    },
    {
     "name": "stdout",
     "output_type": "stream",
     "text": [
      "02125.json line idx:[[16], [18], [19]] not find\n"
     ]
    },
    {
     "name": "stderr",
     "output_type": "stream",
     "text": [
      " 18%|█▊        | 2216/12104 [00:53<03:59, 41.24it/s] "
     ]
    },
    {
     "name": "stdout",
     "output_type": "stream",
     "text": [
      "02209.json line idx:[[2], [3]] not find\n"
     ]
    },
    {
     "name": "stderr",
     "output_type": "stream",
     "text": [
      " 18%|█▊        | 2229/12104 [00:54<03:56, 41.74it/s]"
     ]
    },
    {
     "name": "stdout",
     "output_type": "stream",
     "text": [
      "02223.json line idx:[[1]] not find\n"
     ]
    },
    {
     "name": "stderr",
     "output_type": "stream",
     "text": [
      " 19%|█▉        | 2295/12104 [00:55<02:57, 55.36it/s]"
     ]
    },
    {
     "name": "stdout",
     "output_type": "stream",
     "text": [
      "02284.json line idx:[[26]] not find\n"
     ]
    },
    {
     "name": "stderr",
     "output_type": "stream",
     "text": [
      " 19%|█▉        | 2318/12104 [00:56<05:53, 27.72it/s]"
     ]
    },
    {
     "name": "stdout",
     "output_type": "stream",
     "text": [
      "02315.json line idx:[[67], [68], [69], [70], [127], [128]] not find\n"
     ]
    },
    {
     "name": "stderr",
     "output_type": "stream",
     "text": [
      " 20%|██        | 2469/12104 [00:58<02:20, 68.66it/s]"
     ]
    },
    {
     "name": "stdout",
     "output_type": "stream",
     "text": [
      "02465.json line idx:[[101]] not find\n"
     ]
    },
    {
     "name": "stderr",
     "output_type": "stream",
     "text": [
      " 21%|██        | 2489/12104 [00:59<02:20, 68.34it/s]"
     ]
    },
    {
     "name": "stdout",
     "output_type": "stream",
     "text": [
      "02478.json line idx:[[16]] not find\n",
      "02489.json line idx:[[6], [32]] not find\n"
     ]
    },
    {
     "name": "stderr",
     "output_type": "stream",
     "text": [
      " 21%|██        | 2568/12104 [01:00<04:15, 37.29it/s]"
     ]
    },
    {
     "name": "stdout",
     "output_type": "stream",
     "text": [
      "02561.json line idx:[[224], [225], [226], [227], [228]] not find\n",
      "02565.json line idx:[[1], [2], [3], [5], [7], [9]] not find\n",
      "02569.json line idx:[[0], [1]] not find\n"
     ]
    },
    {
     "name": "stderr",
     "output_type": "stream",
     "text": [
      " 21%|██▏       | 2575/12104 [01:01<07:04, 22.46it/s]"
     ]
    },
    {
     "name": "stdout",
     "output_type": "stream",
     "text": [
      "02572.json line idx:[[0], [1], [2], [3], [4], [20], [21], [22], [23], [24], [25], [26], [27], [28], [29], [30]] not find\n",
      "02575.json line idx:[[6], [8]] not find\n"
     ]
    },
    {
     "name": "stderr",
     "output_type": "stream",
     "text": [
      " 21%|██▏       | 2589/12104 [01:01<05:26, 29.18it/s]"
     ]
    },
    {
     "name": "stdout",
     "output_type": "stream",
     "text": [
      "02584.json line idx:[[19]] not find\n"
     ]
    },
    {
     "name": "stderr",
     "output_type": "stream",
     "text": [
      " 22%|██▏       | 2626/12104 [01:02<03:06, 50.72it/s]"
     ]
    },
    {
     "name": "stdout",
     "output_type": "stream",
     "text": [
      "02619.json line idx:[[56], [57]] not find\n"
     ]
    },
    {
     "name": "stderr",
     "output_type": "stream",
     "text": [
      " 22%|██▏       | 2658/12104 [01:03<04:05, 38.44it/s]"
     ]
    },
    {
     "name": "stdout",
     "output_type": "stream",
     "text": [
      "02655.json line idx:[[41], [42]] not find\n"
     ]
    },
    {
     "name": "stderr",
     "output_type": "stream",
     "text": [
      " 22%|██▏       | 2667/12104 [01:03<04:29, 35.05it/s]"
     ]
    },
    {
     "name": "stdout",
     "output_type": "stream",
     "text": [
      "02663.json line idx:[[18], [19], [20], [22], [23], [24], [25]] not find\n"
     ]
    },
    {
     "name": "stderr",
     "output_type": "stream",
     "text": [
      " 25%|██▍       | 2979/12104 [01:07<03:17, 46.16it/s] "
     ]
    },
    {
     "name": "stdout",
     "output_type": "stream",
     "text": [
      "02967.json line idx:[[2], [6]] not find\n"
     ]
    },
    {
     "name": "stderr",
     "output_type": "stream",
     "text": [
      " 25%|██▍       | 3012/12104 [01:08<02:57, 51.21it/s]"
     ]
    },
    {
     "name": "stdout",
     "output_type": "stream",
     "text": [
      "03007.json line idx:[[5], [6], [7], [8]] not find\n"
     ]
    },
    {
     "name": "stderr",
     "output_type": "stream",
     "text": [
      " 25%|██▌       | 3053/12104 [01:09<05:37, 26.80it/s]"
     ]
    },
    {
     "name": "stdout",
     "output_type": "stream",
     "text": [
      "03051.json line idx:[[56], [62], [68]] not find\n"
     ]
    },
    {
     "name": "stderr",
     "output_type": "stream",
     "text": [
      " 25%|██▌       | 3061/12104 [01:10<05:45, 26.21it/s]"
     ]
    },
    {
     "name": "stdout",
     "output_type": "stream",
     "text": [
      "03056.json layout error: cell_idx: 0, row_span: [0, 12], col_span: [0, 9]\n"
     ]
    },
    {
     "name": "stderr",
     "output_type": "stream",
     "text": [
      " 25%|██▌       | 3074/12104 [01:10<05:20, 28.14it/s]"
     ]
    },
    {
     "name": "stdout",
     "output_type": "stream",
     "text": [
      "03068.json line idx:[[2], [3], [4]] not find\n"
     ]
    },
    {
     "name": "stderr",
     "output_type": "stream",
     "text": [
      " 26%|██▌       | 3147/12104 [01:11<02:07, 70.47it/s]"
     ]
    },
    {
     "name": "stdout",
     "output_type": "stream",
     "text": [
      "03141.json line idx:[[5], [9], [10]] not find\n"
     ]
    },
    {
     "name": "stderr",
     "output_type": "stream",
     "text": [
      " 27%|██▋       | 3302/12104 [01:14<04:45, 30.80it/s]"
     ]
    },
    {
     "name": "stdout",
     "output_type": "stream",
     "text": [
      "03296.json line idx:[[87]] not find\n"
     ]
    },
    {
     "name": "stderr",
     "output_type": "stream",
     "text": [
      " 28%|██▊       | 3408/12104 [01:16<02:07, 68.12it/s]"
     ]
    },
    {
     "name": "stdout",
     "output_type": "stream",
     "text": [
      "03395.json line idx:[[24], [25], [26], [27], [28], [29], [30], [31], [32], [33], [34], [35], [36], [37], [40], [41]] not find\n"
     ]
    },
    {
     "name": "stderr",
     "output_type": "stream",
     "text": [
      " 31%|███       | 3772/12104 [01:22<02:19, 59.88it/s] "
     ]
    },
    {
     "name": "stdout",
     "output_type": "stream",
     "text": [
      "03766.json line idx:[[32], [33], [34]] not find\n"
     ]
    },
    {
     "name": "stderr",
     "output_type": "stream",
     "text": [
      " 33%|███▎      | 3964/12104 [01:26<03:00, 45.16it/s]"
     ]
    },
    {
     "name": "stdout",
     "output_type": "stream",
     "text": [
      "03952.json line idx:[[38], [40], [41], [47], [55], [73], [166], [180], [184]] not find\n",
      "03956.json line idx:[[67], [68], [69]] not find\n"
     ]
    },
    {
     "name": "stderr",
     "output_type": "stream",
     "text": [
      " 33%|███▎      | 4026/12104 [01:28<03:44, 36.01it/s]"
     ]
    },
    {
     "name": "stdout",
     "output_type": "stream",
     "text": [
      "04023.json line idx:[[0], [1], [2], [3], [4], [5], [6], [7]] not find\n",
      "04024.json line idx:[[37]] not find\n"
     ]
    },
    {
     "name": "stderr",
     "output_type": "stream",
     "text": [
      " 33%|███▎      | 4045/12104 [01:28<03:29, 38.41it/s]"
     ]
    },
    {
     "name": "stdout",
     "output_type": "stream",
     "text": [
      "04037.json line idx:[[24], [48], [49]] not find\n",
      "04043.json line idx:[[30], [32], [39], [40]] not find\n"
     ]
    },
    {
     "name": "stderr",
     "output_type": "stream",
     "text": [
      " 34%|███▎      | 4073/12104 [01:29<03:01, 44.21it/s]"
     ]
    },
    {
     "name": "stdout",
     "output_type": "stream",
     "text": [
      "04067.json line idx:[[3]] not find\n"
     ]
    },
    {
     "name": "stderr",
     "output_type": "stream",
     "text": [
      " 34%|███▍      | 4090/12104 [01:29<03:14, 41.29it/s]"
     ]
    },
    {
     "name": "stdout",
     "output_type": "stream",
     "text": [
      "04081.json line idx:[[14]] not find\n"
     ]
    },
    {
     "name": "stderr",
     "output_type": "stream",
     "text": [
      " 36%|███▋      | 4405/12104 [01:34<02:02, 62.79it/s]"
     ]
    },
    {
     "name": "stdout",
     "output_type": "stream",
     "text": [
      "04399.json line idx:[[5], [18]] not find\n",
      "04400.json line idx:[[21], [24], [25], [26], [27], [28], [29], [30], [35]] not find\n"
     ]
    },
    {
     "name": "stderr",
     "output_type": "stream",
     "text": [
      " 37%|███▋      | 4503/12104 [01:36<02:07, 59.42it/s]"
     ]
    },
    {
     "name": "stdout",
     "output_type": "stream",
     "text": [
      "04493.json line idx:[[0]] not find\n",
      "04503.json layout error: cell_idx: 5, row_span: [1, 6], col_span: [0, 5]\n"
     ]
    },
    {
     "name": "stderr",
     "output_type": "stream",
     "text": [
      " 37%|███▋      | 4538/12104 [01:37<03:12, 39.22it/s]"
     ]
    },
    {
     "name": "stdout",
     "output_type": "stream",
     "text": [
      "04533.json line idx:[[70], [90]] not find\n"
     ]
    },
    {
     "name": "stderr",
     "output_type": "stream",
     "text": [
      " 39%|███▊      | 4670/12104 [01:39<03:14, 38.21it/s]"
     ]
    },
    {
     "name": "stdout",
     "output_type": "stream",
     "text": [
      "04668.json layout error: cell_idx: 2, row_span: [0, 2], col_span: [6, 9]\n"
     ]
    },
    {
     "name": "stderr",
     "output_type": "stream",
     "text": [
      " 39%|███▉      | 4703/12104 [01:40<02:28, 49.96it/s]"
     ]
    },
    {
     "name": "stdout",
     "output_type": "stream",
     "text": [
      "04701.json line idx:[[9], [10]] not find\n",
      "04705.json line idx:[[0], [1]] not find\n"
     ]
    },
    {
     "name": "stderr",
     "output_type": "stream",
     "text": [
      " 39%|███▉      | 4750/12104 [01:41<01:32, 79.13it/s]"
     ]
    },
    {
     "name": "stdout",
     "output_type": "stream",
     "text": [
      "04753.json line idx:[[14]] not find\n",
      "04755.json line idx:[[51], [52], [53], [54], [55], [56], [57], [58], [59]] not find\n"
     ]
    },
    {
     "name": "stderr",
     "output_type": "stream",
     "text": [
      " 40%|███▉      | 4782/12104 [01:42<02:09, 56.36it/s]"
     ]
    },
    {
     "name": "stdout",
     "output_type": "stream",
     "text": [
      "04778.json line idx:[[6], [8]] not find\n"
     ]
    },
    {
     "name": "stderr",
     "output_type": "stream",
     "text": [
      " 40%|███▉      | 4802/12104 [01:42<02:23, 51.02it/s]"
     ]
    },
    {
     "name": "stdout",
     "output_type": "stream",
     "text": [
      "04789.json layout error: cell_idx: 9, row_span: [0, 1], col_span: [9, 12]\n"
     ]
    },
    {
     "name": "stderr",
     "output_type": "stream",
     "text": [
      " 40%|███▉      | 4830/12104 [01:43<03:01, 40.03it/s]"
     ]
    },
    {
     "name": "stdout",
     "output_type": "stream",
     "text": [
      "04822.json line idx:[[0]] not find\n",
      "04826.json line idx:[[47]] not find\n",
      "04828.json line idx:[[0], [1]] not find\n"
     ]
    },
    {
     "name": "stderr",
     "output_type": "stream",
     "text": [
      " 40%|███▉      | 4840/12104 [01:43<03:05, 39.24it/s]"
     ]
    },
    {
     "name": "stdout",
     "output_type": "stream",
     "text": [
      "04835.json line idx:[[12]] not find\n"
     ]
    },
    {
     "name": "stderr",
     "output_type": "stream",
     "text": [
      " 40%|████      | 4853/12104 [01:44<03:48, 31.73it/s]"
     ]
    },
    {
     "name": "stdout",
     "output_type": "stream",
     "text": [
      "04849.json line idx:[[185]] not find\n"
     ]
    },
    {
     "name": "stderr",
     "output_type": "stream",
     "text": [
      " 42%|████▏     | 5048/12104 [01:46<01:37, 72.20it/s]"
     ]
    },
    {
     "name": "stdout",
     "output_type": "stream",
     "text": [
      "05027.json line idx:[[4], [9], [10], [11], [25], [26], [27], [28], [40], [41], [42], [43], [63], [64], [65], [66], [67], [68], [69], [72]] not find\n"
     ]
    },
    {
     "name": "stderr",
     "output_type": "stream",
     "text": [
      " 43%|████▎     | 5253/12104 [01:50<03:53, 29.29it/s]"
     ]
    },
    {
     "name": "stdout",
     "output_type": "stream",
     "text": [
      "05250.json line idx:[[5]] not find\n"
     ]
    },
    {
     "name": "stderr",
     "output_type": "stream",
     "text": [
      " 45%|████▌     | 5465/12104 [01:54<02:02, 54.27it/s]"
     ]
    },
    {
     "name": "stdout",
     "output_type": "stream",
     "text": [
      "05456.json line idx:[[23]] not find\n"
     ]
    },
    {
     "name": "stderr",
     "output_type": "stream",
     "text": [
      " 45%|████▌     | 5492/12104 [01:55<01:26, 76.77it/s]"
     ]
    },
    {
     "name": "stdout",
     "output_type": "stream",
     "text": [
      "05491.json line idx:[[1], [4]] not find\n",
      "05494.json line idx:[[1], [2], [3], [4], [5], [6], [7], [11], [12], [16], [17], [18], [22], [23], [24], [25], [26], [27], [28], [29], [30], [31], [32], [39]] not find\n",
      "05495.json line idx:[[1]] not find\n"
     ]
    },
    {
     "name": "stderr",
     "output_type": "stream",
     "text": [
      " 46%|████▌     | 5508/12104 [01:55<02:11, 50.01it/s]"
     ]
    },
    {
     "name": "stdout",
     "output_type": "stream",
     "text": [
      "05500.json line idx:[[1], [4], [5], [6], [7], [8], [9], [10], [44], [46], [47], [48], [49]] not find\n"
     ]
    },
    {
     "name": "stderr",
     "output_type": "stream",
     "text": [
      " 46%|████▌     | 5550/12104 [01:56<02:03, 53.13it/s]"
     ]
    },
    {
     "name": "stdout",
     "output_type": "stream",
     "text": [
      "05539.json line idx:[[2], [36], [37], [38], [61], [105], [106], [107], [108], [127], [128], [129]] not find\n",
      "05540.json line idx:[[2], [133], [134]] not find\n",
      "05547.json line idx:[[2], [3]] not find\n"
     ]
    },
    {
     "name": "stderr",
     "output_type": "stream",
     "text": [
      " 46%|████▌     | 5573/12104 [01:57<02:49, 38.46it/s]"
     ]
    },
    {
     "name": "stdout",
     "output_type": "stream",
     "text": [
      "05568.json line idx:[[24]] not find\n"
     ]
    },
    {
     "name": "stderr",
     "output_type": "stream",
     "text": [
      " 46%|████▋     | 5611/12104 [01:57<02:23, 45.14it/s]"
     ]
    },
    {
     "name": "stdout",
     "output_type": "stream",
     "text": [
      "05600.json line idx:[[45]] not find\n"
     ]
    },
    {
     "name": "stderr",
     "output_type": "stream",
     "text": [
      " 48%|████▊     | 5786/12104 [02:00<01:01, 102.49it/s]"
     ]
    },
    {
     "name": "stdout",
     "output_type": "stream",
     "text": [
      "05769.json line idx:[[5], [8], [10], [19], [24], [27]] not find\n"
     ]
    },
    {
     "name": "stderr",
     "output_type": "stream",
     "text": [
      " 50%|████▉     | 5993/12104 [02:03<02:04, 49.13it/s] "
     ]
    },
    {
     "name": "stdout",
     "output_type": "stream",
     "text": [
      "05993.json line idx:[[1]] not find\n"
     ]
    },
    {
     "name": "stderr",
     "output_type": "stream",
     "text": [
      " 50%|████▉     | 6029/12104 [02:04<02:02, 49.64it/s]"
     ]
    },
    {
     "name": "stdout",
     "output_type": "stream",
     "text": [
      "06020.json line idx:[[0], [1], [6], [9], [10], [104]] not find\n"
     ]
    },
    {
     "name": "stderr",
     "output_type": "stream",
     "text": [
      " 50%|████▉     | 6044/12104 [02:04<01:56, 51.83it/s]"
     ]
    },
    {
     "name": "stdout",
     "output_type": "stream",
     "text": [
      "06035.json line idx:[[40], [42], [43], [44], [57]] not find\n"
     ]
    },
    {
     "name": "stderr",
     "output_type": "stream",
     "text": [
      " 50%|█████     | 6056/12104 [02:05<02:12, 45.75it/s]"
     ]
    },
    {
     "name": "stdout",
     "output_type": "stream",
     "text": [
      "06048.json line idx:[[0], [1], [4], [8], [13], [96], [97], [111], [112], [113], [114]] not find\n"
     ]
    },
    {
     "name": "stderr",
     "output_type": "stream",
     "text": [
      " 50%|█████     | 6078/12104 [02:06<03:40, 27.38it/s]"
     ]
    },
    {
     "name": "stdout",
     "output_type": "stream",
     "text": [
      "06077.json line idx:[[157]] not find\n",
      "06079.json line idx:[[7], [8], [12], [15], [16], [17], [20], [23], [24], [25], [26], [27], [32], [34], [36], [37], [43], [44], [45], [46], [48], [50], [51], [103]] not find\n"
     ]
    },
    {
     "name": "stderr",
     "output_type": "stream",
     "text": [
      " 50%|█████     | 6112/12104 [02:07<02:14, 44.48it/s]"
     ]
    },
    {
     "name": "stdout",
     "output_type": "stream",
     "text": [
      "06098.json line idx:[[1], [7], [8], [11]] not find\n"
     ]
    },
    {
     "name": "stderr",
     "output_type": "stream",
     "text": [
      " 51%|█████     | 6123/12104 [02:07<01:38, 60.94it/s]"
     ]
    },
    {
     "name": "stdout",
     "output_type": "stream",
     "text": [
      "06120.json line idx:[[3], [4], [5]] not find\n"
     ]
    },
    {
     "name": "stderr",
     "output_type": "stream",
     "text": [
      " 51%|█████     | 6147/12104 [02:07<02:15, 43.80it/s]"
     ]
    },
    {
     "name": "stdout",
     "output_type": "stream",
     "text": [
      "06142.json line idx:[[0], [1], [2], [3], [4], [5]] not find\n"
     ]
    },
    {
     "name": "stderr",
     "output_type": "stream",
     "text": [
      " 51%|█████     | 6183/12104 [02:08<01:50, 53.78it/s]"
     ]
    },
    {
     "name": "stdout",
     "output_type": "stream",
     "text": [
      "06175.json line idx:[[2], [9]] not find\n"
     ]
    },
    {
     "name": "stderr",
     "output_type": "stream",
     "text": [
      " 51%|█████     | 6199/12104 [02:08<02:20, 41.99it/s]"
     ]
    },
    {
     "name": "stdout",
     "output_type": "stream",
     "text": [
      "06193.json line idx:[[5], [80]] not find\n"
     ]
    },
    {
     "name": "stderr",
     "output_type": "stream",
     "text": [
      " 52%|█████▏    | 6278/12104 [02:10<01:44, 55.87it/s]"
     ]
    },
    {
     "name": "stdout",
     "output_type": "stream",
     "text": [
      "06267.json line idx:[[4], [5]] not find\n"
     ]
    },
    {
     "name": "stderr",
     "output_type": "stream",
     "text": [
      " 52%|█████▏    | 6293/12104 [02:11<02:56, 32.96it/s]"
     ]
    },
    {
     "name": "stdout",
     "output_type": "stream",
     "text": [
      "06287.json line idx:[[19], [21], [23], [24], [25]] not find\n"
     ]
    },
    {
     "name": "stderr",
     "output_type": "stream",
     "text": [
      " 52%|█████▏    | 6321/12104 [02:12<02:44, 35.07it/s]"
     ]
    },
    {
     "name": "stdout",
     "output_type": "stream",
     "text": [
      "06316.json line idx:[[5], [6], [17]] not find\n"
     ]
    },
    {
     "name": "stderr",
     "output_type": "stream",
     "text": [
      " 53%|█████▎    | 6363/12104 [02:13<02:33, 37.38it/s]"
     ]
    },
    {
     "name": "stdout",
     "output_type": "stream",
     "text": [
      "06360.json line idx:[[19], [81]] not find\n"
     ]
    },
    {
     "name": "stderr",
     "output_type": "stream",
     "text": [
      " 53%|█████▎    | 6374/12104 [02:13<03:03, 31.23it/s]"
     ]
    },
    {
     "name": "stdout",
     "output_type": "stream",
     "text": [
      "06365.json line idx:[[46], [48], [52], [53]] not find\n"
     ]
    },
    {
     "name": "stderr",
     "output_type": "stream",
     "text": [
      " 54%|█████▍    | 6544/12104 [02:17<02:04, 44.79it/s]"
     ]
    },
    {
     "name": "stdout",
     "output_type": "stream",
     "text": [
      "06543.json line idx:[[6], [8]] not find\n"
     ]
    },
    {
     "name": "stderr",
     "output_type": "stream",
     "text": [
      " 54%|█████▍    | 6589/12104 [02:19<02:57, 31.13it/s]"
     ]
    },
    {
     "name": "stdout",
     "output_type": "stream",
     "text": [
      "06584.json line idx:[[15]] not find\n"
     ]
    },
    {
     "name": "stderr",
     "output_type": "stream",
     "text": [
      " 55%|█████▍    | 6639/12104 [02:21<03:16, 27.80it/s]"
     ]
    },
    {
     "name": "stdout",
     "output_type": "stream",
     "text": [
      "06632.json line idx:[[0], [1], [2], [3], [4], [5], [6], [7], [8], [9], [10], [11], [12], [13], [14], [15], [16], [18], [19], [20], [21], [22], [23], [24], [25], [26], [27], [28], [29], [30], [31]] not find\n"
     ]
    },
    {
     "name": "stderr",
     "output_type": "stream",
     "text": [
      " 55%|█████▌    | 6661/12104 [02:22<02:47, 32.43it/s]"
     ]
    },
    {
     "name": "stdout",
     "output_type": "stream",
     "text": [
      "06660.json line idx:[[0], [1], [2], [3], [4], [5], [6], [7], [8], [9], [10], [11], [12], [13], [14], [15]] not find\n"
     ]
    },
    {
     "name": "stderr",
     "output_type": "stream",
     "text": [
      " 55%|█████▌    | 6715/12104 [02:25<04:05, 21.92it/s]"
     ]
    },
    {
     "name": "stdout",
     "output_type": "stream",
     "text": [
      "06707.json line idx:[[140], [141], [142], [143], [144], [145], [146], [147], [148], [149], [150], [151], [152]] not find\n",
      "06716.json line idx:[[0], [1], [2]] not find\n",
      "06717.json line idx:[[42], [43], [44], [45], [46], [47], [48], [49], [50], [51], [52], [53], [54], [55], [56], [57], [58], [59], [60], [61], [62]] not find\n"
     ]
    },
    {
     "name": "stderr",
     "output_type": "stream",
     "text": [
      " 56%|█████▌    | 6719/12104 [02:25<03:47, 23.64it/s]"
     ]
    },
    {
     "name": "stdout",
     "output_type": "stream",
     "text": [
      "06719.json line idx:[[0], [1], [2], [3], [4], [54]] not find\n"
     ]
    },
    {
     "name": "stderr",
     "output_type": "stream",
     "text": [
      " 56%|█████▌    | 6747/12104 [02:26<03:42, 24.03it/s]"
     ]
    },
    {
     "name": "stdout",
     "output_type": "stream",
     "text": [
      "06739.json line idx:[[20], [21], [85], [86], [87], [88], [89], [90], [91], [92], [93], [94], [95]] not find\n",
      "06743.json line idx:[[4], [5], [6], [7], [8], [9], [61], [62], [63], [64], [65], [66], [67], [68], [69], [70], [71], [72], [73], [74], [75], [76], [77], [78], [79], [80], [81], [82], [83], [84], [85], [86], [87], [88], [89], [90], [91], [92], [93], [94], [95], [96], [97], [98], [99], [100], [101], [102], [103], [104], [105], [106], [107], [108], [109], [110], [111], [112], [113], [114], [115], [116], [117], [118], [119], [120], [121], [122], [123], [124], [125], [126], [127], [128], [129], [130], [131], [132]] not find\n"
     ]
    },
    {
     "name": "stderr",
     "output_type": "stream",
     "text": [
      " 56%|█████▌    | 6771/12104 [02:27<02:19, 38.16it/s]"
     ]
    },
    {
     "name": "stdout",
     "output_type": "stream",
     "text": [
      "06769.json line idx:[[0], [1], [2], [3], [4], [5]] not find\n"
     ]
    },
    {
     "name": "stderr",
     "output_type": "stream",
     "text": [
      " 56%|█████▌    | 6789/12104 [02:28<04:19, 20.51it/s]"
     ]
    },
    {
     "name": "stdout",
     "output_type": "stream",
     "text": [
      "06782.json line idx:[[42]] not find\n"
     ]
    },
    {
     "name": "stderr",
     "output_type": "stream",
     "text": [
      " 56%|█████▌    | 6796/12104 [02:28<04:02, 21.85it/s]"
     ]
    },
    {
     "name": "stdout",
     "output_type": "stream",
     "text": [
      "06791.json line idx:[[1], [2], [3], [4], [5], [6], [7], [8], [9], [10], [11], [12], [13], [14], [15], [16], [17], [18], [19], [20], [21], [22], [23], [24], [25], [26], [27], [28], [29], [30], [31], [32], [33], [34], [35], [36], [37], [38], [39], [40], [41], [42], [43], [44], [45], [46], [47], [48], [49], [50]] not find\n",
      "06794.json line idx:[[0], [1], [3], [4], [5], [6], [7], [8], [9], [10], [11], [12], [13], [14], [15], [16], [17], [18], [19], [20], [21], [22], [23], [24], [25], [26], [27], [28], [29], [30], [31], [32], [33], [34], [35], [36], [37], [38], [39], [40], [41], [42], [43], [44], [45], [46]] not find\n"
     ]
    },
    {
     "name": "stderr",
     "output_type": "stream",
     "text": [
      " 56%|█████▋    | 6824/12104 [02:29<02:38, 33.36it/s]"
     ]
    },
    {
     "name": "stdout",
     "output_type": "stream",
     "text": [
      "06820.json line idx:[[21], [22], [23], [27], [28], [29], [30], [31], [32], [33], [51], [52], [53], [54], [55], [56], [57], [58], [59], [60], [61], [62], [63], [64], [65], [66], [67]] not find\n"
     ]
    },
    {
     "name": "stderr",
     "output_type": "stream",
     "text": [
      " 57%|█████▋    | 6909/12104 [02:33<02:39, 32.67it/s]"
     ]
    },
    {
     "name": "stdout",
     "output_type": "stream",
     "text": [
      "06907.json line idx:[[0], [5], [13], [14]] not find\n"
     ]
    },
    {
     "name": "stderr",
     "output_type": "stream",
     "text": [
      " 57%|█████▋    | 6947/12104 [02:34<02:42, 31.68it/s]"
     ]
    },
    {
     "name": "stdout",
     "output_type": "stream",
     "text": [
      "06942.json line idx:[[89]] not find\n"
     ]
    },
    {
     "name": "stderr",
     "output_type": "stream",
     "text": [
      " 58%|█████▊    | 6965/12104 [02:35<03:20, 25.57it/s]"
     ]
    },
    {
     "name": "stdout",
     "output_type": "stream",
     "text": [
      "06960.json line idx:[[0]] not find\n",
      "06964.json line idx:[[0], [1], [2], [3], [4], [5], [6], [7], [8], [9], [10], [11], [12], [13], [14], [15], [16], [17], [18], [19]] not find\n"
     ]
    },
    {
     "name": "stderr",
     "output_type": "stream",
     "text": [
      " 58%|█████▊    | 6978/12104 [02:35<02:45, 31.04it/s]"
     ]
    },
    {
     "name": "stdout",
     "output_type": "stream",
     "text": [
      "06971.json line idx:[[7], [8], [9], [10], [11], [14], [15], [16], [17], [18]] not find\n"
     ]
    },
    {
     "name": "stderr",
     "output_type": "stream",
     "text": [
      " 58%|█████▊    | 6986/12104 [02:36<03:16, 26.03it/s]"
     ]
    },
    {
     "name": "stdout",
     "output_type": "stream",
     "text": [
      "06984.json line idx:[[17], [18], [80], [85], [86], [87], [88]] not find\n",
      "06989.json line idx:[[1], [2], [3], [4], [5], [6], [7], [8], [9], [10], [11]] not find\n"
     ]
    },
    {
     "name": "stderr",
     "output_type": "stream",
     "text": [
      " 58%|█████▊    | 7010/12104 [02:37<04:02, 21.04it/s]"
     ]
    },
    {
     "name": "stdout",
     "output_type": "stream",
     "text": [
      "07003.json line idx:[[119]] not find\n"
     ]
    },
    {
     "name": "stderr",
     "output_type": "stream",
     "text": [
      " 58%|█████▊    | 7042/12104 [02:38<02:45, 30.65it/s]"
     ]
    },
    {
     "name": "stdout",
     "output_type": "stream",
     "text": [
      "07033.json line idx:[[71]] not find\n"
     ]
    },
    {
     "name": "stderr",
     "output_type": "stream",
     "text": [
      " 59%|█████▊    | 7087/12104 [02:40<02:40, 31.23it/s]"
     ]
    },
    {
     "name": "stdout",
     "output_type": "stream",
     "text": [
      "07080.json line idx:[[27]] not find\n"
     ]
    },
    {
     "name": "stderr",
     "output_type": "stream",
     "text": [
      " 59%|█████▉    | 7148/12104 [02:44<04:27, 18.56it/s]"
     ]
    },
    {
     "name": "stdout",
     "output_type": "stream",
     "text": [
      "07143.json line idx:[[21], [38], [58], [68]] not find\n"
     ]
    },
    {
     "name": "stderr",
     "output_type": "stream",
     "text": [
      " 59%|█████▉    | 7168/12104 [02:45<03:20, 24.62it/s]"
     ]
    },
    {
     "name": "stdout",
     "output_type": "stream",
     "text": [
      "07164.json line idx:[[0]] not find\n",
      "07166.json line idx:[[22]] not find\n",
      "07167.json line idx:[[0], [54]] not find\n"
     ]
    },
    {
     "name": "stderr",
     "output_type": "stream",
     "text": [
      " 59%|█████▉    | 7185/12104 [02:45<02:42, 30.26it/s]"
     ]
    },
    {
     "name": "stdout",
     "output_type": "stream",
     "text": [
      "07179.json line idx:[[1], [3], [4], [6], [7], [8], [9], [10], [11], [12], [13], [14], [15], [16], [17], [18], [19], [20], [21], [22], [23], [24], [25], [26], [27], [28], [29], [30], [31], [32], [33], [34], [35], [36], [37], [38], [43], [46], [47], [48], [49], [50], [51], [52], [53], [54], [55], [56], [57], [58], [59], [60], [61], [62], [63], [64], [65], [66], [67], [68], [69], [70], [71], [72], [73], [74], [80], [81], [82], [86], [87], [88], [96], [97], [98], [105], [106], [107], [108], [109], [110], [117], [118], [119], [120], [121], [122], [126], [127], [128], [129], [130], [131], [136], [137], [142], [143]] not find\n"
     ]
    },
    {
     "name": "stderr",
     "output_type": "stream",
     "text": [
      " 59%|█████▉    | 7189/12104 [02:46<03:20, 24.55it/s]"
     ]
    },
    {
     "name": "stdout",
     "output_type": "stream",
     "text": [
      "07187.json line idx:[[0], [1], [2], [3], [4], [5], [7], [8], [10], [12], [13], [14], [15], [16], [17], [19], [20], [21], [22], [23], [24], [26], [27], [28], [29], [30], [31], [32], [34], [35], [36], [37], [38], [40], [41], [42], [43], [44], [45], [47], [48], [49], [50], [51], [52], [54], [55], [56], [57], [58], [60], [61], [62], [63], [64], [65], [67], [68], [69], [70], [71], [72], [74], [75], [76], [77], [80], [81], [82], [83], [84], [85], [86], [88], [89], [90], [91], [92], [93], [95], [96], [97], [98], [99], [100], [102], [103], [104], [105], [106], [107], [109], [110], [111], [112], [113], [115], [116], [117], [118], [119], [120], [122], [123], [124], [125], [126], [128], [129], [130], [131], [132]] not find\n"
     ]
    },
    {
     "name": "stderr",
     "output_type": "stream",
     "text": [
      " 60%|█████▉    | 7206/12104 [02:46<02:11, 37.11it/s]"
     ]
    },
    {
     "name": "stdout",
     "output_type": "stream",
     "text": [
      "07208.json line idx:[[5]] not find\n"
     ]
    },
    {
     "name": "stderr",
     "output_type": "stream",
     "text": [
      " 60%|██████    | 7278/12104 [02:50<04:02, 19.89it/s]"
     ]
    },
    {
     "name": "stdout",
     "output_type": "stream",
     "text": [
      "07271.json line idx:[[0], [1], [2], [86], [87], [88], [89], [90], [91], [92], [93], [94], [95], [96]] not find\n"
     ]
    },
    {
     "name": "stderr",
     "output_type": "stream",
     "text": [
      " 61%|██████    | 7350/12104 [02:53<02:31, 31.46it/s]"
     ]
    },
    {
     "name": "stdout",
     "output_type": "stream",
     "text": [
      "07345.json line idx:[[22], [23], [24], [25], [26], [27], [28], [29], [30], [31], [32], [33], [34], [35], [36], [37]] not find\n"
     ]
    },
    {
     "name": "stderr",
     "output_type": "stream",
     "text": [
      " 61%|██████    | 7367/12104 [02:53<03:01, 26.11it/s]"
     ]
    },
    {
     "name": "stdout",
     "output_type": "stream",
     "text": [
      "07367.json line idx:[[101]] not find\n"
     ]
    },
    {
     "name": "stderr",
     "output_type": "stream",
     "text": [
      " 61%|██████    | 7391/12104 [02:55<03:23, 23.15it/s]"
     ]
    },
    {
     "name": "stdout",
     "output_type": "stream",
     "text": [
      "07387.json line idx:[[8], [9], [10], [11], [12], [13], [14], [15], [16], [25], [26], [35], [36], [45], [50], [59], [64], [73], [76]] not find\n",
      "07391.json line idx:[[0]] not find\n"
     ]
    },
    {
     "name": "stderr",
     "output_type": "stream",
     "text": [
      " 62%|██████▏   | 7477/12104 [02:58<02:39, 29.05it/s]"
     ]
    },
    {
     "name": "stdout",
     "output_type": "stream",
     "text": [
      "07474.json line idx:[[17], [18], [19], [20], [21], [22], [23], [24], [25], [26], [27], [28], [29], [30], [31], [32], [33], [34], [35], [36], [37], [38], [43], [44], [45], [46], [47], [48], [49], [50], [51], [52], [53], [54], [55], [56], [57], [58], [59], [60], [61], [62], [63], [64], [65], [66], [67], [68], [69], [78], [79], [80], [81], [82], [83], [84], [85], [86], [87], [88], [89], [90], [91], [92], [93], [94], [95], [96], [97], [98], [99], [100], [101], [102], [103], [104], [105], [106], [107], [108], [109], [110], [111], [112], [113], [114], [115], [116], [117], [118], [119], [120], [121], [122], [123], [124], [125], [126], [127], [128], [129]] not find\n"
     ]
    },
    {
     "name": "stderr",
     "output_type": "stream",
     "text": [
      " 62%|██████▏   | 7497/12104 [02:59<04:32, 16.89it/s]"
     ]
    },
    {
     "name": "stdout",
     "output_type": "stream",
     "text": [
      "07494.json line idx:[[54]] not find\n"
     ]
    },
    {
     "name": "stderr",
     "output_type": "stream",
     "text": [
      " 62%|██████▏   | 7505/12104 [02:59<05:16, 14.54it/s]"
     ]
    },
    {
     "name": "stdout",
     "output_type": "stream",
     "text": [
      "07503.json line idx:[[0]] not find\n"
     ]
    },
    {
     "name": "stderr",
     "output_type": "stream",
     "text": [
      " 62%|██████▏   | 7539/12104 [03:01<02:15, 33.64it/s]"
     ]
    },
    {
     "name": "stdout",
     "output_type": "stream",
     "text": [
      "07533.json layout error: cell_idx: 5, row_span: [2, 8], col_span: [0, 4]\n"
     ]
    },
    {
     "name": "stderr",
     "output_type": "stream",
     "text": [
      " 63%|██████▎   | 7572/12104 [03:01<01:37, 46.60it/s]"
     ]
    },
    {
     "name": "stdout",
     "output_type": "stream",
     "text": [
      "07564.json line idx:[[0], [1], [2], [3]] not find\n",
      "07576.json line idx:[[164]] not find\n"
     ]
    },
    {
     "name": "stderr",
     "output_type": "stream",
     "text": [
      " 63%|██████▎   | 7578/12104 [03:02<01:46, 42.48it/s]"
     ]
    },
    {
     "name": "stdout",
     "output_type": "stream",
     "text": [
      "07577.json line idx:[[89]] not find\n"
     ]
    },
    {
     "name": "stderr",
     "output_type": "stream",
     "text": [
      " 63%|██████▎   | 7595/12104 [03:02<03:07, 24.09it/s]"
     ]
    },
    {
     "name": "stdout",
     "output_type": "stream",
     "text": [
      "07593.json line idx:[[23]] not find\n"
     ]
    },
    {
     "name": "stderr",
     "output_type": "stream",
     "text": [
      " 63%|██████▎   | 7633/12104 [03:04<02:49, 26.31it/s]"
     ]
    },
    {
     "name": "stdout",
     "output_type": "stream",
     "text": [
      "07633.json line idx:[[0], [1], [2], [4], [5], [6], [7], [8], [9], [11], [12], [13], [14], [15], [16], [17], [19], [20], [21], [22], [23], [24], [26], [27], [28], [29], [30], [31], [33], [34], [35], [36], [37], [38], [39], [40], [42], [43], [44], [45], [46], [47], [49], [50], [51], [52], [53], [54], [55], [56], [58], [59], [60], [61], [62], [63], [65], [66], [67], [68], [69], [70], [71], [72], [74], [75], [76], [77], [78], [79], [81], [82], [83], [84], [85], [86], [87], [88], [89], [91], [92], [93], [94], [95], [97], [98], [99], [100], [101], [102], [104], [105], [106], [107], [108], [110], [111], [112], [113], [114], [115], [116], [117], [118], [120], [121], [122], [123], [124], [125], [127], [128], [129], [130], [131], [132], [133], [134], [136], [137], [138], [139], [140], [142], [143], [144], [145], [146], [147], [148], [150], [151], [152], [153], [154], [155], [156], [157], [158]] not find\n"
     ]
    },
    {
     "name": "stderr",
     "output_type": "stream",
     "text": [
      " 63%|██████▎   | 7646/12104 [03:05<02:56, 25.28it/s]"
     ]
    },
    {
     "name": "stdout",
     "output_type": "stream",
     "text": [
      "07642.json line idx:[[0]] not find\n"
     ]
    },
    {
     "name": "stderr",
     "output_type": "stream",
     "text": [
      " 63%|██████▎   | 7654/12104 [03:05<02:19, 31.89it/s]"
     ]
    },
    {
     "name": "stdout",
     "output_type": "stream",
     "text": [
      "07655.json line idx:[[29], [30], [31], [32], [33], [34], [35]] not find\n"
     ]
    },
    {
     "name": "stderr",
     "output_type": "stream",
     "text": [
      " 64%|██████▎   | 7700/12104 [03:07<03:12, 22.84it/s]"
     ]
    },
    {
     "name": "stdout",
     "output_type": "stream",
     "text": [
      "07697.json line idx:[[62], [63]] not find\n"
     ]
    },
    {
     "name": "stderr",
     "output_type": "stream",
     "text": [
      " 64%|██████▎   | 7711/12104 [03:07<03:09, 23.21it/s]"
     ]
    },
    {
     "name": "stdout",
     "output_type": "stream",
     "text": [
      "07709.json line idx:[[57], [128]] not find\n",
      "07711.json line idx:[[0], [2], [17], [22], [27], [47], [52], [59], [63], [69], [70], [71], [72], [73], [74], [75], [76], [77], [78], [79], [80], [81], [82], [83], [84], [85]] not find\n"
     ]
    },
    {
     "name": "stderr",
     "output_type": "stream",
     "text": [
      " 64%|██████▎   | 7714/12104 [03:08<04:13, 17.35it/s]"
     ]
    },
    {
     "name": "stdout",
     "output_type": "stream",
     "text": [
      "07713.json line idx:[[0], [1], [2], [3], [4], [5], [6], [7], [8], [9], [10], [11], [12], [13], [14], [15], [16], [17], [18], [19], [20], [21], [22], [23], [24], [25], [26], [27], [28], [29], [30], [31], [32], [33], [34], [35], [36], [37], [38], [39], [40], [41], [42], [43], [44], [45], [46], [47], [48], [49], [50], [51], [52], [53], [54], [55], [56], [57], [58]] not find\n"
     ]
    },
    {
     "name": "stderr",
     "output_type": "stream",
     "text": [
      " 64%|██████▍   | 7724/12104 [03:08<03:03, 23.89it/s]"
     ]
    },
    {
     "name": "stdout",
     "output_type": "stream",
     "text": [
      "07717.json line idx:[[0], [1], [2], [3], [4], [5], [6], [7], [8], [9], [10], [11], [13], [14], [15], [16]] not find\n",
      "07719.json line idx:[[0], [1], [2], [3], [4], [5], [6], [7], [8], [9], [10], [11], [12], [13], [14], [15], [16], [17], [18], [19], [20], [21], [22], [23], [24], [25], [26], [27], [28], [29], [30], [31], [32], [33], [34], [35], [36], [37], [38], [39], [40], [41], [42], [43], [44], [45], [46], [47], [48], [49], [50], [51], [52], [53], [54], [55], [56], [57], [58], [59], [60], [61], [62], [63], [64], [65], [66], [67], [68], [69], [70], [71], [72], [73]] not find\n",
      "07721.json line idx:[[0], [1], [2], [3], [4], [5], [6], [7], [8]] not find\n",
      "07722.json line idx:[[0], [1], [2], [3], [44], [55], [66], [72], [88], [89]] not find\n"
     ]
    },
    {
     "name": "stderr",
     "output_type": "stream",
     "text": [
      " 64%|██████▍   | 7745/12104 [03:09<03:14, 22.41it/s]"
     ]
    },
    {
     "name": "stdout",
     "output_type": "stream",
     "text": [
      "07738.json line idx:[[43]] not find\n",
      "07743.json line idx:[[70]] not find\n"
     ]
    },
    {
     "name": "stderr",
     "output_type": "stream",
     "text": [
      " 64%|██████▍   | 7770/12104 [03:10<01:58, 36.51it/s]"
     ]
    },
    {
     "name": "stdout",
     "output_type": "stream",
     "text": [
      "07767.json line idx:[[41], [42]] not find\n"
     ]
    },
    {
     "name": "stderr",
     "output_type": "stream",
     "text": [
      " 64%|██████▍   | 7807/12104 [03:11<02:44, 26.14it/s]"
     ]
    },
    {
     "name": "stdout",
     "output_type": "stream",
     "text": [
      "07805.json line idx:[[185], [187], [189], [191]] not find\n"
     ]
    },
    {
     "name": "stderr",
     "output_type": "stream",
     "text": [
      " 65%|██████▍   | 7824/12104 [03:12<02:58, 24.03it/s]"
     ]
    },
    {
     "name": "stdout",
     "output_type": "stream",
     "text": [
      "07823.json line idx:[[0], [1], [2], [113], [114], [115], [116], [117], [118], [119], [120], [121], [122]] not find\n",
      "07827.json line idx:[[62]] not find\n"
     ]
    },
    {
     "name": "stderr",
     "output_type": "stream",
     "text": [
      " 65%|██████▍   | 7840/12104 [03:12<02:49, 25.09it/s]"
     ]
    },
    {
     "name": "stdout",
     "output_type": "stream",
     "text": [
      "07835.json line idx:[[0], [11], [12], [18], [24], [35], [36]] not find\n"
     ]
    },
    {
     "name": "stderr",
     "output_type": "stream",
     "text": [
      " 65%|██████▌   | 7904/12104 [03:14<02:19, 30.21it/s]"
     ]
    },
    {
     "name": "stdout",
     "output_type": "stream",
     "text": [
      "07903.json line idx:[[120]] not find\n"
     ]
    },
    {
     "name": "stderr",
     "output_type": "stream",
     "text": [
      " 66%|██████▌   | 7934/12104 [03:15<02:19, 29.81it/s]"
     ]
    },
    {
     "name": "stdout",
     "output_type": "stream",
     "text": [
      "07930.json line idx:[[0], [1], [2], [3], [4], [5], [6], [7], [8], [9], [10], [11], [12], [13], [14], [15], [16], [17], [18], [19], [20], [21], [22], [23], [24], [25], [26], [27], [28], [29], [30], [31], [32], [33], [34], [35], [36], [37], [38], [39], [40], [41], [42], [43], [44], [45], [46], [47], [48], [49], [50], [51], [52], [53], [54], [55], [56], [57], [59], [60], [61], [62], [63], [64], [65], [66], [67], [68], [69], [70], [71], [72], [73], [74], [75], [76], [77], [78], [79]] not find\n",
      "07932.json line idx:[[0], [1], [2], [3], [4], [5]] not find\n"
     ]
    },
    {
     "name": "stderr",
     "output_type": "stream",
     "text": [
      " 66%|██████▌   | 7947/12104 [03:16<02:08, 32.37it/s]"
     ]
    },
    {
     "name": "stdout",
     "output_type": "stream",
     "text": [
      "07941.json line idx:[[0], [1], [2], [3], [4], [5], [6], [7], [8], [9], [10], [11], [12], [14], [15], [16], [17], [23], [24], [25], [26], [27], [28], [29], [30], [35], [36], [37], [38]] not find\n"
     ]
    },
    {
     "name": "stderr",
     "output_type": "stream",
     "text": [
      " 66%|██████▌   | 7958/12104 [03:16<02:53, 23.86it/s]"
     ]
    },
    {
     "name": "stdout",
     "output_type": "stream",
     "text": [
      "07951.json line idx:[[0], [5], [8], [9], [10], [11], [12], [15], [16], [17], [18], [20], [23], [24], [25], [28], [30], [31], [32], [35], [37], [38], [39], [42], [44], [45], [46], [49], [51], [52], [53], [56], [58], [59], [60], [62], [65], [66], [67], [70], [72], [73], [74], [77], [79], [80], [82], [85], [87], [89], [91], [92], [96], [97], [99], [101], [103], [104], [107], [109], [113], [115], [117], [122], [124], [125], [126], [127], [129], [131], [132], [133], [134], [138], [139], [140], [143], [145], [147], [148], [151], [152], [153], [157], [158], [159], [165], [166], [167], [170], [171], [172], [173], [174], [175], [176], [177], [178], [179], [180], [181], [182], [183]] not find\n"
     ]
    },
    {
     "name": "stderr",
     "output_type": "stream",
     "text": [
      " 66%|██████▌   | 7965/12104 [03:16<02:07, 32.52it/s]"
     ]
    },
    {
     "name": "stdout",
     "output_type": "stream",
     "text": [
      "07962.json line idx:[[1], [2], [3]] not find\n"
     ]
    },
    {
     "name": "stderr",
     "output_type": "stream",
     "text": [
      " 66%|██████▌   | 7975/12104 [03:17<02:04, 33.12it/s]"
     ]
    },
    {
     "name": "stdout",
     "output_type": "stream",
     "text": [
      "07969.json line idx:[[0], [1], [3], [17], [23], [29], [35]] not find\n"
     ]
    },
    {
     "name": "stderr",
     "output_type": "stream",
     "text": [
      " 66%|██████▌   | 7990/12104 [03:18<03:34, 19.16it/s]"
     ]
    },
    {
     "name": "stdout",
     "output_type": "stream",
     "text": [
      "07985.json line idx:[[69]] not find\n"
     ]
    },
    {
     "name": "stderr",
     "output_type": "stream",
     "text": [
      " 66%|██████▋   | 8048/12104 [03:20<03:31, 19.16it/s]"
     ]
    },
    {
     "name": "stdout",
     "output_type": "stream",
     "text": [
      "08046.json line idx:[[43], [44], [70], [71], [72], [124], [125], [126]] not find\n"
     ]
    },
    {
     "name": "stderr",
     "output_type": "stream",
     "text": [
      " 67%|██████▋   | 8059/12104 [03:20<03:04, 21.92it/s]"
     ]
    },
    {
     "name": "stdout",
     "output_type": "stream",
     "text": [
      "08056.json line idx:[[0], [1], [2], [3], [4], [5], [6], [7]] not find\n",
      "08058.json line idx:[[149]] not find\n"
     ]
    },
    {
     "name": "stderr",
     "output_type": "stream",
     "text": [
      " 67%|██████▋   | 8076/12104 [03:21<02:13, 30.25it/s]"
     ]
    },
    {
     "name": "stdout",
     "output_type": "stream",
     "text": [
      "08069.json line idx:[[0], [1], [2], [3], [4], [15], [16], [17]] not find\n",
      "08073.json line idx:[[44]] not find\n"
     ]
    },
    {
     "name": "stderr",
     "output_type": "stream",
     "text": [
      " 67%|██████▋   | 8098/12104 [03:22<02:03, 32.34it/s]"
     ]
    },
    {
     "name": "stdout",
     "output_type": "stream",
     "text": [
      "08088.json line idx:[[122], [123]] not find\n"
     ]
    },
    {
     "name": "stderr",
     "output_type": "stream",
     "text": [
      " 67%|██████▋   | 8125/12104 [03:23<01:57, 33.88it/s]"
     ]
    },
    {
     "name": "stdout",
     "output_type": "stream",
     "text": [
      "08118.json line idx:[[16]] not find\n"
     ]
    },
    {
     "name": "stderr",
     "output_type": "stream",
     "text": [
      " 67%|██████▋   | 8137/12104 [03:23<01:59, 33.27it/s]"
     ]
    },
    {
     "name": "stdout",
     "output_type": "stream",
     "text": [
      "08135.json line idx:[[68]] not find\n"
     ]
    },
    {
     "name": "stderr",
     "output_type": "stream",
     "text": [
      " 67%|██████▋   | 8155/12104 [03:24<02:48, 23.39it/s]"
     ]
    },
    {
     "name": "stdout",
     "output_type": "stream",
     "text": [
      "08152.json line idx:[[0], [1], [2], [3], [4], [5], [6], [7], [8], [9], [10], [13], [14], [15], [16], [17], [18], [19], [20], [21], [22], [23], [24], [25], [26], [27], [28], [29], [30], [31], [32], [33], [34], [35], [36], [37], [38], [39], [40], [41], [42], [43], [44], [45], [46], [47], [48], [49], [50], [51], [52], [53], [54], [55], [56], [57], [58], [59], [60], [61], [62], [63], [64], [65], [66], [67], [68], [69], [70], [71], [72], [73], [74], [75], [76], [77], [78], [79], [80], [81], [82], [83], [84], [85], [86], [87], [88], [89], [90], [91], [92], [93], [94], [95], [96], [97], [98], [99], [100], [101], [102], [103]] not find\n",
      "08153.json line idx:[[27], [32]] not find\n"
     ]
    },
    {
     "name": "stderr",
     "output_type": "stream",
     "text": [
      " 68%|██████▊   | 8191/12104 [03:25<02:20, 27.83it/s]"
     ]
    },
    {
     "name": "stdout",
     "output_type": "stream",
     "text": [
      "08184.json line idx:[[3], [6], [8], [13], [15], [18], [21], [23], [26], [28], [30], [33], [37], [40], [43], [45], [48], [50], [52], [54], [56], [58], [60], [62], [63], [66], [69], [73], [77], [81], [83], [86], [89], [91], [92], [93], [94], [95], [96]] not find\n",
      "08190.json line idx:[[12]] not find\n"
     ]
    },
    {
     "name": "stderr",
     "output_type": "stream",
     "text": [
      " 68%|██████▊   | 8226/12104 [03:27<02:39, 24.25it/s]"
     ]
    },
    {
     "name": "stdout",
     "output_type": "stream",
     "text": [
      "08227.json line idx:[[0], [1], [2], [12], [53], [54], [55], [56], [57], [78]] not find\n"
     ]
    },
    {
     "name": "stderr",
     "output_type": "stream",
     "text": [
      " 68%|██████▊   | 8243/12104 [03:28<02:36, 24.73it/s]"
     ]
    },
    {
     "name": "stdout",
     "output_type": "stream",
     "text": [
      "08240.json line idx:[[30], [31], [32], [33], [34], [35], [36]] not find\n"
     ]
    },
    {
     "name": "stderr",
     "output_type": "stream",
     "text": [
      " 68%|██████▊   | 8253/12104 [03:28<02:23, 26.81it/s]"
     ]
    },
    {
     "name": "stdout",
     "output_type": "stream",
     "text": [
      "08245.json line idx:[[114]] not find\n",
      "08246.json line idx:[[60]] not find\n",
      "08248.json line idx:[[8], [9], [10], [11]] not find\n",
      "08253.json line idx:[[0], [1], [2], [3], [4], [5], [6], [7], [8], [9], [10], [11], [12], [13], [14], [15], [16], [17], [18], [19], [20], [21], [22], [23], [24], [25], [26], [27], [28], [29], [30], [31], [32], [33], [34], [35], [36], [37], [38], [39], [40]] not find\n"
     ]
    },
    {
     "name": "stderr",
     "output_type": "stream",
     "text": [
      " 68%|██████▊   | 8269/12104 [03:28<01:41, 37.88it/s]"
     ]
    },
    {
     "name": "stdout",
     "output_type": "stream",
     "text": [
      "08263.json line idx:[[0], [1], [2], [3], [6], [8], [9], [10], [11], [13], [14], [15], [16], [17], [19], [20], [23], [24], [25], [26], [27], [28], [29], [31], [32], [33], [34], [35], [37], [38], [39], [40], [41], [43], [44], [45], [46], [48], [49], [50], [51], [53], [54], [55], [56], [57], [59], [60], [61], [62], [63], [64], [65], [66], [67], [68], [69], [70], [71], [72], [73], [74], [75], [76], [77], [78], [79], [80]] not find\n"
     ]
    },
    {
     "name": "stderr",
     "output_type": "stream",
     "text": [
      " 69%|██████▊   | 8293/12104 [03:29<01:17, 49.37it/s]"
     ]
    },
    {
     "name": "stdout",
     "output_type": "stream",
     "text": [
      "08277.json line idx:[[16]] not find\n"
     ]
    },
    {
     "name": "stderr",
     "output_type": "stream",
     "text": [
      " 69%|██████▊   | 8317/12104 [03:30<02:11, 28.76it/s]"
     ]
    },
    {
     "name": "stdout",
     "output_type": "stream",
     "text": [
      "08315.json line idx:[[35]] not find\n"
     ]
    },
    {
     "name": "stderr",
     "output_type": "stream",
     "text": [
      " 69%|██████▉   | 8332/12104 [03:31<02:39, 23.66it/s]"
     ]
    },
    {
     "name": "stdout",
     "output_type": "stream",
     "text": [
      "08328.json line idx:[[15], [16], [17]] not find\n",
      "08329.json line idx:[[29]] not find\n",
      "08332.json line idx:[[0], [1], [2], [3], [5], [6], [7], [8], [9], [11], [12], [13], [14], [15], [17], [18], [19], [20], [21], [22], [23], [24], [25], [28], [29], [30], [31], [32], [33], [34], [35], [36], [39], [40], [41], [42], [43], [44], [45], [46], [47], [50], [51], [52], [53], [54], [55], [56], [57], [58], [61], [62], [63], [64], [65], [66], [67], [68], [69], [72], [73], [74], [75], [76], [77], [78], [79], [80], [83], [84], [85], [86], [87], [88], [89], [90], [91], [94], [95], [96], [97], [98], [99], [100], [101], [102], [105], [106], [107], [108], [109], [110], [111], [112], [113], [116], [117], [118], [119], [120], [121], [122], [123], [124], [127], [128], [129], [130], [131], [132], [133], [134], [135], [138], [139], [140], [141], [142], [143], [144], [145], [146], [149], [150], [151], [152], [153], [154], [155], [156], [157], [160], [161], [162], [163], [164], [165], [166], [167], [169], [171], [172], [173], [174], [175], [176], [177], [178], [180], [182], [183], [184], [185], [186], [187], [188], [189], [190], [193], [194], [195], [196], [197], [198], [199], [200], [201], [204], [205], [206], [207], [208], [209], [210], [211], [212], [215], [216], [217], [218], [219], [220], [221], [222], [223], [226], [227], [228], [229], [230], [231], [232], [233], [234]] not find\n"
     ]
    },
    {
     "name": "stderr",
     "output_type": "stream",
     "text": [
      " 69%|██████▉   | 8353/12104 [03:32<03:07, 19.98it/s]"
     ]
    },
    {
     "name": "stdout",
     "output_type": "stream",
     "text": [
      "08350.json line idx:[[0], [4], [5], [8], [11], [13], [16], [17], [23], [24], [29], [31], [34], [37], [38], [39], [43], [44], [45], [50], [51], [57], [58], [64], [65], [66], [67], [68], [69], [70], [71], [72], [73], [74], [75], [76]] not find\n"
     ]
    },
    {
     "name": "stderr",
     "output_type": "stream",
     "text": [
      " 69%|██████▉   | 8357/12104 [03:32<02:41, 23.15it/s]"
     ]
    },
    {
     "name": "stdout",
     "output_type": "stream",
     "text": [
      "08356.json line idx:[[0], [2], [3], [10], [26], [31], [36], [46], [55], [62], [65], [74], [76], [78], [80], [81], [82], [83], [84]] not find\n",
      "08357.json line idx:[[10], [12], [13], [14], [15], [16], [17], [18], [19], [21], [22], [23], [24], [25], [26], [27], [28], [29], [30], [31], [32], [33], [34], [35], [37], [38], [39], [40], [41], [42], [43], [44], [45], [46], [49], [50], [51], [52], [53], [54], [55], [56], [57], [58], [59]] not find\n"
     ]
    },
    {
     "name": "stderr",
     "output_type": "stream",
     "text": [
      " 69%|██████▉   | 8376/12104 [03:33<02:40, 23.23it/s]"
     ]
    },
    {
     "name": "stdout",
     "output_type": "stream",
     "text": [
      "08367.json line idx:[[0], [8], [17]] not find\n"
     ]
    },
    {
     "name": "stderr",
     "output_type": "stream",
     "text": [
      " 70%|██████▉   | 8438/12104 [03:35<01:56, 31.42it/s]"
     ]
    },
    {
     "name": "stdout",
     "output_type": "stream",
     "text": [
      "08428.json line idx:[[35]] not find\n"
     ]
    },
    {
     "name": "stderr",
     "output_type": "stream",
     "text": [
      " 70%|██████▉   | 8444/12104 [03:35<01:43, 35.34it/s]"
     ]
    },
    {
     "name": "stdout",
     "output_type": "stream",
     "text": [
      "08439.json line idx:[[0], [1], [2], [3], [4], [5], [6], [7], [8], [9], [10], [11], [12], [13], [14], [15], [16], [17], [18], [20], [21], [23], [24], [26], [27], [29], [31], [35], [36], [37], [38], [39], [40], [41], [42], [43], [44], [45], [46], [47], [48], [49], [50], [51], [52], [53], [54], [55], [56], [57], [58], [59], [60], [61], [62], [63], [64], [65], [66], [67], [68], [69], [70], [71], [72], [73], [74], [75], [76], [77], [78], [79], [80], [81], [82], [83], [84], [85], [86], [87], [88], [89], [90], [91]] not find\n",
      "08442.json line idx:[[64], [65], [66], [67], [68]] not find\n"
     ]
    },
    {
     "name": "stderr",
     "output_type": "stream",
     "text": [
      " 70%|███████   | 8485/12104 [03:37<01:44, 34.76it/s]"
     ]
    },
    {
     "name": "stdout",
     "output_type": "stream",
     "text": [
      "08481.json line idx:[[28], [29], [38], [39], [72], [73]] not find\n"
     ]
    },
    {
     "name": "stderr",
     "output_type": "stream",
     "text": [
      " 70%|███████   | 8511/12104 [03:37<01:31, 39.15it/s]"
     ]
    },
    {
     "name": "stdout",
     "output_type": "stream",
     "text": [
      "08502.json line idx:[[2], [3], [4], [5], [6], [7], [8], [9], [10], [11], [12], [13], [14]] not find\n"
     ]
    },
    {
     "name": "stderr",
     "output_type": "stream",
     "text": [
      " 70%|███████   | 8516/12104 [03:38<01:31, 39.40it/s]"
     ]
    },
    {
     "name": "stdout",
     "output_type": "stream",
     "text": [
      "08513.json line idx:[[12], [15], [21], [24], [31], [34]] not find\n"
     ]
    },
    {
     "name": "stderr",
     "output_type": "stream",
     "text": [
      " 71%|███████   | 8576/12104 [03:41<01:49, 32.33it/s]"
     ]
    },
    {
     "name": "stdout",
     "output_type": "stream",
     "text": [
      "08567.json line idx:[[62]] not find\n"
     ]
    },
    {
     "name": "stderr",
     "output_type": "stream",
     "text": [
      " 71%|███████   | 8597/12104 [03:41<01:11, 49.33it/s]"
     ]
    },
    {
     "name": "stdout",
     "output_type": "stream",
     "text": [
      "08586.json line idx:[[3]] not find\n"
     ]
    },
    {
     "name": "stderr",
     "output_type": "stream",
     "text": [
      " 71%|███████   | 8603/12104 [03:42<02:15, 25.85it/s]"
     ]
    },
    {
     "name": "stdout",
     "output_type": "stream",
     "text": [
      "08600.json line idx:[[0], [1], [2], [3], [4], [5], [6], [39], [40], [41], [42], [43], [44], [45]] not find\n"
     ]
    },
    {
     "name": "stderr",
     "output_type": "stream",
     "text": [
      " 71%|███████   | 8618/12104 [03:42<01:46, 32.63it/s]"
     ]
    },
    {
     "name": "stdout",
     "output_type": "stream",
     "text": [
      "08609.json line idx:[[6]] not find\n"
     ]
    },
    {
     "name": "stderr",
     "output_type": "stream",
     "text": [
      " 71%|███████▏  | 8628/12104 [03:42<02:05, 27.76it/s]"
     ]
    },
    {
     "name": "stdout",
     "output_type": "stream",
     "text": [
      "08625.json line idx:[[80]] not find\n",
      "08630.json line idx:[[80]] not find\n"
     ]
    },
    {
     "name": "stderr",
     "output_type": "stream",
     "text": [
      " 71%|███████▏  | 8646/12104 [03:43<02:38, 21.78it/s]"
     ]
    },
    {
     "name": "stdout",
     "output_type": "stream",
     "text": [
      "08644.json line idx:[[0], [3], [4], [19], [20], [23], [24], [25], [26], [27], [28], [29]] not find\n"
     ]
    },
    {
     "name": "stderr",
     "output_type": "stream",
     "text": [
      " 72%|███████▏  | 8663/12104 [03:44<02:43, 21.04it/s]"
     ]
    },
    {
     "name": "stdout",
     "output_type": "stream",
     "text": [
      "08656.json line idx:[[105]] not find\n"
     ]
    },
    {
     "name": "stderr",
     "output_type": "stream",
     "text": [
      " 72%|███████▏  | 8698/12104 [03:45<01:27, 38.91it/s]"
     ]
    },
    {
     "name": "stdout",
     "output_type": "stream",
     "text": [
      "08686.json line idx:[[44]] not find\n"
     ]
    },
    {
     "name": "stderr",
     "output_type": "stream",
     "text": [
      " 72%|███████▏  | 8716/12104 [03:46<01:40, 33.69it/s]"
     ]
    },
    {
     "name": "stdout",
     "output_type": "stream",
     "text": [
      "08711.json line idx:[[11]] not find\n"
     ]
    },
    {
     "name": "stderr",
     "output_type": "stream",
     "text": [
      " 72%|███████▏  | 8722/12104 [03:46<01:28, 38.13it/s]"
     ]
    },
    {
     "name": "stdout",
     "output_type": "stream",
     "text": [
      "08722.json line idx:[[9], [18], [21]] not find\n"
     ]
    },
    {
     "name": "stderr",
     "output_type": "stream",
     "text": [
      " 72%|███████▏  | 8753/12104 [03:47<01:36, 34.80it/s]"
     ]
    },
    {
     "name": "stdout",
     "output_type": "stream",
     "text": [
      "08748.json line idx:[[0]] not find\n",
      "08754.json line idx:[[8], [9], [10], [11], [12], [13], [16], [17], [18], [19], [20], [21], [24], [27], [30], [32], [34], [38], [39], [40], [41], [42], [43], [44], [45], [46], [47], [48], [49], [50], [51], [52], [53], [54], [62], [64], [65], [67], [68], [70], [71], [74], [75], [76], [77], [78], [79], [81], [82], [83], [84], [86], [87], [88], [89], [90], [124], [125], [126], [127], [132], [133], [134], [135], [140], [141], [142], [143], [148], [151], [152], [153], [154], [167], [170], [171], [172], [173], [174], [175], [176], [181], [182], [183], [184], [185], [186], [187], [188], [189], [194], [195], [196], [197], [198], [199], [204], [205], [206], [207], [208], [209]] not find\n"
     ]
    },
    {
     "name": "stderr",
     "output_type": "stream",
     "text": [
      " 72%|███████▏  | 8769/12104 [03:48<02:23, 23.30it/s]"
     ]
    },
    {
     "name": "stdout",
     "output_type": "stream",
     "text": [
      "08764.json line idx:[[0], [1], [2], [3], [4], [5], [6], [7], [8], [9], [10], [11], [12], [13], [14], [15], [16], [17], [18], [19], [20], [21], [22], [23], [24], [25], [26], [27], [47], [48], [49], [50], [51], [52], [53], [54], [55], [56], [57], [58], [59], [60], [61], [62], [63], [64], [65], [66], [67], [68], [69], [70], [71], [72], [73], [74], [75], [76], [77], [78], [79], [80], [81], [82], [83], [84], [85], [86], [87], [88], [89], [90], [91], [92], [93], [94], [95], [96], [97], [98], [99], [100], [101]] not find\n",
      "08771.json line idx:[[34], [35]] not find\n"
     ]
    },
    {
     "name": "stderr",
     "output_type": "stream",
     "text": [
      " 73%|███████▎  | 8777/12104 [03:48<02:53, 19.14it/s]"
     ]
    },
    {
     "name": "stdout",
     "output_type": "stream",
     "text": [
      "08781.json line idx:[[0], [31]] not find\n"
     ]
    },
    {
     "name": "stderr",
     "output_type": "stream",
     "text": [
      " 73%|███████▎  | 8847/12104 [03:51<02:35, 20.97it/s]"
     ]
    },
    {
     "name": "stdout",
     "output_type": "stream",
     "text": [
      "08843.json line idx:[[2]] not find\n"
     ]
    },
    {
     "name": "stderr",
     "output_type": "stream",
     "text": [
      " 73%|███████▎  | 8870/12104 [03:52<01:58, 27.30it/s]"
     ]
    },
    {
     "name": "stdout",
     "output_type": "stream",
     "text": [
      "08865.json line idx:[[3], [4], [5], [6], [7], [8], [9], [10], [11], [12], [13], [14], [15], [16], [17], [18], [19], [20], [21], [22], [23], [24], [25], [26], [27], [28], [29], [30], [31], [32], [33], [34], [35], [36], [37], [38], [39], [40], [41], [42], [43], [44], [45], [46], [47], [48], [49], [50], [51], [52], [53], [54], [55], [56], [57], [58], [59], [60], [61], [62], [63], [64], [65], [66], [67], [68], [119], [120], [121], [122], [123], [124], [125], [126], [127], [128], [129], [130], [131], [132], [133], [134], [135], [136], [137], [138], [139], [140], [141], [142], [167]] not find\n"
     ]
    },
    {
     "name": "stderr",
     "output_type": "stream",
     "text": [
      " 74%|███████▎  | 8925/12104 [03:54<01:56, 27.29it/s]"
     ]
    },
    {
     "name": "stdout",
     "output_type": "stream",
     "text": [
      "08920.json line idx:[[209]] not find\n",
      "08923.json line idx:[[38], [39], [40]] not find\n"
     ]
    },
    {
     "name": "stderr",
     "output_type": "stream",
     "text": [
      " 74%|███████▍  | 8934/12104 [03:54<01:42, 30.95it/s]"
     ]
    },
    {
     "name": "stdout",
     "output_type": "stream",
     "text": [
      "08928.json line idx:[[7], [8], [9]] not find\n",
      "08936.json line idx:[[0], [15], [16], [31], [32], [47], [48], [49], [77], [78]] not find\n"
     ]
    },
    {
     "name": "stderr",
     "output_type": "stream",
     "text": [
      " 74%|███████▍  | 8998/12104 [03:57<02:22, 21.78it/s]"
     ]
    },
    {
     "name": "stdout",
     "output_type": "stream",
     "text": [
      "08995.json line idx:[[1]] not find\n",
      "08997.json line idx:[[1], [2], [3], [4], [5], [6], [7], [8], [9], [10], [11], [12], [13], [14], [15], [16], [17], [18], [19], [20], [21], [22], [23], [24], [25], [26], [27], [28], [29], [30], [31], [32], [33], [34], [35], [36], [37], [38], [39], [40], [41], [42], [43], [44], [45], [46], [47]] not find\n",
      "09006.json line idx:[[41]] not find\n"
     ]
    },
    {
     "name": "stderr",
     "output_type": "stream",
     "text": [
      " 74%|███████▍  | 9017/12104 [03:57<01:12, 42.67it/s]"
     ]
    },
    {
     "name": "stdout",
     "output_type": "stream",
     "text": [
      "09015.json line idx:[[94]] not find\n"
     ]
    },
    {
     "name": "stderr",
     "output_type": "stream",
     "text": [
      " 75%|███████▍  | 9033/12104 [03:58<02:19, 22.00it/s]"
     ]
    },
    {
     "name": "stdout",
     "output_type": "stream",
     "text": [
      "09026.json line idx:[[16], [17], [18], [19]] not find\n",
      "09027.json line idx:[[29]] not find\n"
     ]
    },
    {
     "name": "stderr",
     "output_type": "stream",
     "text": [
      " 75%|███████▍  | 9044/12104 [03:59<01:40, 30.52it/s]"
     ]
    },
    {
     "name": "stdout",
     "output_type": "stream",
     "text": [
      "09036.json line idx:[[8], [9], [10], [64]] not find\n"
     ]
    },
    {
     "name": "stderr",
     "output_type": "stream",
     "text": [
      " 75%|███████▍  | 9054/12104 [03:59<01:32, 33.03it/s]"
     ]
    },
    {
     "name": "stdout",
     "output_type": "stream",
     "text": [
      "09046.json line idx:[[33], [34], [63], [64], [93], [94], [123]] not find\n"
     ]
    },
    {
     "name": "stderr",
     "output_type": "stream",
     "text": [
      " 75%|███████▌  | 9105/12104 [04:01<01:29, 33.43it/s]"
     ]
    },
    {
     "name": "stdout",
     "output_type": "stream",
     "text": [
      "09092.json line idx:[[0], [1], [2], [3], [4], [5], [6], [7], [8], [9], [10], [11], [12], [13], [14]] not find\n"
     ]
    },
    {
     "name": "stderr",
     "output_type": "stream",
     "text": [
      " 75%|███████▌  | 9115/12104 [04:01<01:28, 33.87it/s]"
     ]
    },
    {
     "name": "stdout",
     "output_type": "stream",
     "text": [
      "09111.json line idx:[[8]] not find\n",
      "09114.json line idx:[[76]] not find\n"
     ]
    },
    {
     "name": "stderr",
     "output_type": "stream",
     "text": [
      " 75%|███████▌  | 9124/12104 [04:02<01:49, 27.15it/s]"
     ]
    },
    {
     "name": "stdout",
     "output_type": "stream",
     "text": [
      "09121.json line idx:[[18]] not find\n",
      "09122.json line idx:[[66]] not find\n"
     ]
    },
    {
     "name": "stderr",
     "output_type": "stream",
     "text": [
      " 76%|███████▌  | 9150/12104 [04:03<01:33, 31.61it/s]"
     ]
    },
    {
     "name": "stdout",
     "output_type": "stream",
     "text": [
      "09145.json line idx:[[0], [1], [79], [80], [88], [89], [90]] not find\n",
      "09150.json line idx:[[0]] not find\n"
     ]
    },
    {
     "name": "stderr",
     "output_type": "stream",
     "text": [
      " 76%|███████▌  | 9197/12104 [04:04<01:23, 35.01it/s]"
     ]
    },
    {
     "name": "stdout",
     "output_type": "stream",
     "text": [
      "09188.json line idx:[[10]] not find\n",
      "09191.json line idx:[[49]] not find\n",
      "09192.json line idx:[[31]] not find\n",
      "09195.json line idx:[[0], [1], [2], [3], [4], [5], [6], [7], [8], [9], [10], [11], [12], [22], [27]] not find\n"
     ]
    },
    {
     "name": "stderr",
     "output_type": "stream",
     "text": [
      " 76%|███████▌  | 9206/12104 [04:05<01:50, 26.32it/s]"
     ]
    },
    {
     "name": "stdout",
     "output_type": "stream",
     "text": [
      "09201.json line idx:[[39]] not find\n"
     ]
    },
    {
     "name": "stderr",
     "output_type": "stream",
     "text": [
      " 76%|███████▋  | 9248/12104 [04:06<01:36, 29.75it/s]"
     ]
    },
    {
     "name": "stdout",
     "output_type": "stream",
     "text": [
      "09246.json line idx:[[0], [1], [2], [3], [4], [5], [6], [7], [8], [9], [10], [11], [12], [13], [14], [15], [16], [17], [18], [19], [20], [21], [22], [23], [24], [25], [26], [27], [28], [29], [30], [31], [32], [33], [34], [35], [36], [37], [38], [39], [40], [41], [42], [43], [44], [45], [46], [47], [48], [49], [50], [51], [52], [53], [54], [55], [56], [57], [58], [59], [60], [61], [62], [63], [64], [65], [66], [67], [68], [69], [70], [71], [72], [73], [74], [75], [76], [77], [78], [79], [80], [81], [82], [83], [84], [85], [86], [87]] not find\n"
     ]
    },
    {
     "name": "stderr",
     "output_type": "stream",
     "text": [
      " 77%|███████▋  | 9341/12104 [04:08<00:49, 55.38it/s]"
     ]
    },
    {
     "name": "stdout",
     "output_type": "stream",
     "text": [
      "09344.json line idx:[[4], [5], [6], [7], [8], [9]] not find\n"
     ]
    },
    {
     "name": "stderr",
     "output_type": "stream",
     "text": [
      " 78%|███████▊  | 9385/12104 [04:10<02:09, 21.07it/s]"
     ]
    },
    {
     "name": "stdout",
     "output_type": "stream",
     "text": [
      "09384.json line idx:[[41], [42], [43], [44], [45], [46], [47], [48], [49], [50], [51], [52], [53], [54], [55], [56], [57], [58], [59], [60], [61], [62], [63], [64], [65], [66], [67], [68], [69], [70], [71], [72], [73], [74], [75], [76]] not find\n"
     ]
    },
    {
     "name": "stderr",
     "output_type": "stream",
     "text": [
      " 78%|███████▊  | 9393/12104 [04:11<01:59, 22.59it/s]"
     ]
    },
    {
     "name": "stdout",
     "output_type": "stream",
     "text": [
      "09387.json line idx:[[0], [88], [89]] not find\n",
      "09389.json line idx:[[22], [25], [63], [64], [68], [108], [110]] not find\n",
      "09390.json line idx:[[0], [1], [2], [3], [4], [5], [6], [7], [8], [9], [10], [11], [12], [13], [14], [15], [16], [18], [19], [20], [21], [22], [23], [24], [25], [26], [27], [28], [29], [30], [31], [32], [33], [34], [35], [36], [37], [38], [39], [40], [41], [42], [43], [44], [45], [46], [47], [48], [49], [50], [51], [52], [53]] not find\n",
      "09394.json line idx:[[41], [42], [64]] not find\n",
      "09398.json line idx:[[0], [1], [2]] not find\n"
     ]
    },
    {
     "name": "stderr",
     "output_type": "stream",
     "text": [
      " 78%|███████▊  | 9408/12104 [04:11<01:23, 32.25it/s]"
     ]
    },
    {
     "name": "stdout",
     "output_type": "stream",
     "text": [
      "09405.json line idx:[[0]] not find\n",
      "09406.json line idx:[[0], [1], [114], [115]] not find\n"
     ]
    },
    {
     "name": "stderr",
     "output_type": "stream",
     "text": [
      " 78%|███████▊  | 9421/12104 [04:12<01:32, 28.87it/s]"
     ]
    },
    {
     "name": "stdout",
     "output_type": "stream",
     "text": [
      "09418.json line idx:[[0], [1], [3], [4], [5], [6], [7], [8], [9], [10], [11], [12], [13], [14], [15], [16], [39], [40], [41], [42], [43], [44], [45], [46], [55]] not find\n"
     ]
    },
    {
     "name": "stderr",
     "output_type": "stream",
     "text": [
      " 78%|███████▊  | 9487/12104 [04:14<01:14, 34.94it/s]"
     ]
    },
    {
     "name": "stdout",
     "output_type": "stream",
     "text": [
      "09481.json line idx:[[1], [2], [3], [4], [5], [6], [7], [8], [9], [10], [11], [12], [13], [14], [15], [16], [17], [18], [19], [20], [21], [22], [23], [24], [25], [26], [27], [28], [29], [30], [31], [32]] not find\n",
      "09483.json line idx:[[79], [80], [81], [82], [83], [84]] not find\n"
     ]
    },
    {
     "name": "stderr",
     "output_type": "stream",
     "text": [
      " 79%|███████▊  | 9515/12104 [04:14<00:59, 43.29it/s]"
     ]
    },
    {
     "name": "stdout",
     "output_type": "stream",
     "text": [
      "09509.json line idx:[[22], [23], [24], [25], [26], [27], [28], [29], [30], [31], [32], [33], [34], [35]] not find\n"
     ]
    },
    {
     "name": "stderr",
     "output_type": "stream",
     "text": [
      " 79%|███████▉  | 9532/12104 [04:15<01:06, 38.42it/s]"
     ]
    },
    {
     "name": "stdout",
     "output_type": "stream",
     "text": [
      "09525.json line idx:[[12]] not find\n"
     ]
    },
    {
     "name": "stderr",
     "output_type": "stream",
     "text": [
      " 79%|███████▉  | 9564/12104 [04:16<01:08, 37.12it/s]"
     ]
    },
    {
     "name": "stdout",
     "output_type": "stream",
     "text": [
      "09553.json line idx:[[15]] not find\n"
     ]
    },
    {
     "name": "stderr",
     "output_type": "stream",
     "text": [
      " 79%|███████▉  | 9585/12104 [04:17<01:32, 27.15it/s]"
     ]
    },
    {
     "name": "stdout",
     "output_type": "stream",
     "text": [
      "09583.json line idx:[[35]] not find\n"
     ]
    },
    {
     "name": "stderr",
     "output_type": "stream",
     "text": [
      " 80%|████████  | 9697/12104 [04:20<01:22, 29.34it/s]"
     ]
    },
    {
     "name": "stdout",
     "output_type": "stream",
     "text": [
      "09692.json line idx:[[0], [1], [2], [3], [4], [5], [6], [7], [8], [9], [10], [11], [12], [13], [14], [15], [16], [17], [18], [19], [20], [21], [22], [23], [24], [25], [26], [27], [28], [29], [30], [31], [32], [33], [34], [35], [36], [37], [38], [39], [40], [41], [42], [43], [44], [45], [46], [47], [48]] not find\n",
      "09695.json line idx:[[0], [1], [2], [3], [4], [5], [6], [7], [8], [9], [10]] not find\n"
     ]
    },
    {
     "name": "stderr",
     "output_type": "stream",
     "text": [
      " 80%|████████  | 9705/12104 [04:20<01:17, 30.82it/s]"
     ]
    },
    {
     "name": "stdout",
     "output_type": "stream",
     "text": [
      "09702.json line idx:[[1], [2], [3], [4], [5], [6], [7], [8], [9], [10], [11]] not find\n"
     ]
    },
    {
     "name": "stderr",
     "output_type": "stream",
     "text": [
      " 80%|████████  | 9721/12104 [04:21<01:27, 27.21it/s]"
     ]
    },
    {
     "name": "stdout",
     "output_type": "stream",
     "text": [
      "09717.json line idx:[[147], [148]] not find\n"
     ]
    },
    {
     "name": "stderr",
     "output_type": "stream",
     "text": [
      " 80%|████████  | 9727/12104 [04:21<01:29, 26.52it/s]"
     ]
    },
    {
     "name": "stdout",
     "output_type": "stream",
     "text": [
      "09723.json line idx:[[21], [22], [23], [26], [27], [29], [31], [34], [35], [37], [39], [41], [43], [45], [48], [49], [51], [53], [56], [57], [84], [85], [86], [87], [89], [90], [91], [92], [95], [96], [97], [98], [101], [102], [103], [104], [107], [108], [109], [110], [113], [114], [115], [116], [119], [120], [121], [122], [125], [126], [127], [128], [131], [132], [133], [134], [136], [137], [139], [140]] not find\n",
      "09726.json line idx:[[0], [1], [7], [8], [9], [10], [11], [12], [16], [17], [18], [19], [24], [25], [26], [27], [32], [33], [34], [35], [40], [41], [42], [43], [50], [51], [52], [53], [54], [55], [60], [61], [62], [63], [67], [68], [69], [70], [74], [78], [81], [84], [87], [90], [93], [96], [99], [102], [105], [108], [112], [113], [116], [119], [125], [130], [131]] not find\n"
     ]
    },
    {
     "name": "stderr",
     "output_type": "stream",
     "text": [
      " 81%|████████  | 9746/12104 [04:21<01:20, 29.43it/s]"
     ]
    },
    {
     "name": "stdout",
     "output_type": "stream",
     "text": [
      "09751.json line idx:[[36], [51]] not find\n"
     ]
    },
    {
     "name": "stderr",
     "output_type": "stream",
     "text": [
      " 81%|████████  | 9787/12104 [04:22<00:41, 55.37it/s]"
     ]
    },
    {
     "name": "stdout",
     "output_type": "stream",
     "text": [
      "09781.json line idx:[[39]] not find\n"
     ]
    },
    {
     "name": "stderr",
     "output_type": "stream",
     "text": [
      " 81%|████████  | 9832/12104 [04:24<01:21, 27.93it/s]"
     ]
    },
    {
     "name": "stdout",
     "output_type": "stream",
     "text": [
      "09829.json line idx:[[56], [57], [58], [59], [60], [61], [62], [63], [64], [65], [66], [67], [68], [69]] not find\n",
      "09830.json line idx:[[0], [1], [2], [3], [4], [5], [6], [7], [8], [9], [10], [11], [12], [13], [14], [15], [16], [17], [18], [19], [20], [23], [24], [25], [26], [27], [28], [29], [30], [31], [33], [34], [36], [37], [38], [39], [40], [41], [42], [43], [44], [45], [46], [47], [48], [49], [50], [51], [52], [53], [54], [55], [56], [57], [58], [59], [60], [61], [62], [68], [69], [70], [71], [72]] not find\n",
      "09832.json line idx:[[15], [16], [17], [18], [19], [20], [21], [22], [23], [24], [25], [26], [27], [28], [29], [30], [31], [32]] not find\n"
     ]
    },
    {
     "name": "stderr",
     "output_type": "stream",
     "text": [
      " 81%|████████▏ | 9845/12104 [04:25<01:19, 28.41it/s]"
     ]
    },
    {
     "name": "stdout",
     "output_type": "stream",
     "text": [
      "09836.json line idx:[[29], [30], [31], [65]] not find\n",
      "09843.json line idx:[[22], [23]] not find\n"
     ]
    },
    {
     "name": "stderr",
     "output_type": "stream",
     "text": [
      " 81%|████████▏ | 9858/12104 [04:25<01:10, 31.77it/s]"
     ]
    },
    {
     "name": "stdout",
     "output_type": "stream",
     "text": [
      "09853.json line idx:[[0], [1], [2], [3], [4], [5], [6], [7], [8], [9], [10], [11], [12], [13], [14], [15], [16], [17], [18], [19], [20], [21], [22], [23], [24], [25], [26], [27], [28], [29], [31], [32], [33], [34], [35], [36], [37], [38], [39], [40], [41], [42], [43], [44], [45], [46], [47], [48], [49], [50], [51], [52], [53], [54], [55], [56], [57], [58], [59], [60], [61], [62], [63], [64], [65], [66], [67], [68], [69], [70]] not find\n"
     ]
    },
    {
     "name": "stderr",
     "output_type": "stream",
     "text": [
      " 82%|████████▏ | 9869/12104 [04:26<01:39, 22.38it/s]"
     ]
    },
    {
     "name": "stdout",
     "output_type": "stream",
     "text": [
      "09866.json layout error: cell_idx: 2, row_span: [0, 3], col_span: [2, 4]\n",
      "09868.json layout error: cell_idx: 4, row_span: [0, 2], col_span: [11, 17]\n"
     ]
    },
    {
     "name": "stderr",
     "output_type": "stream",
     "text": [
      " 82%|████████▏ | 9918/12104 [04:27<00:30, 72.38it/s]"
     ]
    },
    {
     "name": "stdout",
     "output_type": "stream",
     "text": [
      "09915.json line idx:[[23], [26], [29], [32], [35], [38], [39], [43], [44], [45], [46], [47], [48], [49], [50], [51], [52], [53], [54], [55], [57], [58], [61], [64], [66], [68], [70]] not find\n"
     ]
    },
    {
     "name": "stderr",
     "output_type": "stream",
     "text": [
      " 82%|████████▏ | 9927/12104 [04:27<00:42, 51.32it/s]"
     ]
    },
    {
     "name": "stdout",
     "output_type": "stream",
     "text": [
      "09921.json line idx:[[3], [4], [5], [6], [7], [8], [9], [10], [11], [12], [164], [165], [166]] not find\n",
      "09922.json line idx:[[51], [88]] not find\n"
     ]
    },
    {
     "name": "stderr",
     "output_type": "stream",
     "text": [
      " 82%|████████▏ | 9940/12104 [04:28<00:45, 48.00it/s]"
     ]
    },
    {
     "name": "stdout",
     "output_type": "stream",
     "text": [
      "09934.json line idx:[[24], [27]] not find\n"
     ]
    },
    {
     "name": "stderr",
     "output_type": "stream",
     "text": [
      " 82%|████████▏ | 9969/12104 [04:29<01:12, 29.48it/s]"
     ]
    },
    {
     "name": "stdout",
     "output_type": "stream",
     "text": [
      "09966.json line idx:[[4]] not find\n"
     ]
    },
    {
     "name": "stderr",
     "output_type": "stream",
     "text": [
      " 82%|████████▏ | 9983/12104 [04:29<01:29, 23.76it/s]"
     ]
    },
    {
     "name": "stdout",
     "output_type": "stream",
     "text": [
      "09979.json line idx:[[0], [1]] not find\n"
     ]
    },
    {
     "name": "stderr",
     "output_type": "stream",
     "text": [
      " 83%|████████▎ | 10015/12104 [04:31<01:34, 22.15it/s]"
     ]
    },
    {
     "name": "stdout",
     "output_type": "stream",
     "text": [
      "10013.json line idx:[[0]] not find\n"
     ]
    },
    {
     "name": "stderr",
     "output_type": "stream",
     "text": [
      " 83%|████████▎ | 10027/12104 [04:31<01:22, 25.13it/s]"
     ]
    },
    {
     "name": "stdout",
     "output_type": "stream",
     "text": [
      "10016.json line idx:[[71]] not find\n",
      "10026.json line idx:[[34], [35], [36], [37], [38], [39], [40], [41], [42], [43], [44], [45], [46], [47], [48], [49], [50], [51], [52], [53], [54], [55], [56], [57], [58], [59], [60], [61], [62], [63], [64], [65], [66], [67], [68], [69], [70], [71], [72], [73], [74], [75], [76], [77], [78], [79], [80], [81], [82], [83], [84], [85], [86], [87], [88], [89], [90], [91], [92], [93], [94], [95], [96], [97], [98], [99], [100], [101], [102], [103], [104], [105], [106], [107], [108], [109], [110], [111], [112], [113], [114], [115], [116], [117], [118], [119], [120], [121], [122], [123], [124], [125], [126], [127], [128], [129], [130], [131], [132], [133], [134], [135], [136], [137], [138], [139], [140], [141], [142], [143], [144], [145], [146], [147], [148], [149], [150], [151], [152], [153], [154], [155], [156], [157], [158], [159], [160], [161], [162], [163], [164], [165], [166], [167], [168], [169], [170], [171], [172], [173], [174], [175], [176], [186], [187], [188], [189], [190], [191], [192], [193], [194], [195], [196], [197], [198], [199], [200], [201], [202], [203], [204], [205], [206], [207], [208], [209], [210], [211], [212], [213], [214], [215], [216], [217], [218], [219], [220], [221], [222], [223], [224], [225], [226], [227], [228], [229], [230], [231], [232], [233], [234], [235], [236], [237], [238], [239], [240], [241], [242], [243], [244], [245], [246], [247], [248], [249], [250], [251]] not find\n"
     ]
    },
    {
     "name": "stderr",
     "output_type": "stream",
     "text": [
      " 83%|████████▎ | 10071/12104 [04:33<01:00, 33.70it/s]"
     ]
    },
    {
     "name": "stdout",
     "output_type": "stream",
     "text": [
      "10063.json line idx:[[62], [63], [64], [65], [66], [67], [68], [69], [70], [71], [72]] not find\n",
      "10069.json line idx:[[5]] not find\n"
     ]
    },
    {
     "name": "stderr",
     "output_type": "stream",
     "text": [
      " 84%|████████▎ | 10125/12104 [04:35<00:58, 33.87it/s]"
     ]
    },
    {
     "name": "stdout",
     "output_type": "stream",
     "text": [
      "10120.json line idx:[[0]] not find\n"
     ]
    },
    {
     "name": "stderr",
     "output_type": "stream",
     "text": [
      " 84%|████████▍ | 10146/12104 [04:35<01:03, 31.07it/s]"
     ]
    },
    {
     "name": "stdout",
     "output_type": "stream",
     "text": [
      "10138.json line idx:[[9], [13], [17], [38], [42], [46], [47], [51]] not find\n",
      "10145.json line idx:[[8]] not find\n"
     ]
    },
    {
     "name": "stderr",
     "output_type": "stream",
     "text": [
      " 84%|████████▍ | 10163/12104 [04:36<01:09, 27.90it/s]"
     ]
    },
    {
     "name": "stdout",
     "output_type": "stream",
     "text": [
      "10157.json line idx:[[0], [1], [2], [3], [4], [5], [6]] not find\n"
     ]
    },
    {
     "name": "stderr",
     "output_type": "stream",
     "text": [
      " 84%|████████▍ | 10167/12104 [04:36<01:20, 24.00it/s]"
     ]
    },
    {
     "name": "stdout",
     "output_type": "stream",
     "text": [
      "10164.json line idx:[[27]] not find\n"
     ]
    },
    {
     "name": "stderr",
     "output_type": "stream",
     "text": [
      " 84%|████████▍ | 10215/12104 [04:37<00:34, 55.14it/s]"
     ]
    },
    {
     "name": "stdout",
     "output_type": "stream",
     "text": [
      "10209.json line idx:[[45], [46], [47], [48]] not find\n",
      "10213.json line idx:[[20]] not find\n",
      "10220.json line idx:[[15], [16], [17], [18], [19], [20]] not find\n"
     ]
    },
    {
     "name": "stderr",
     "output_type": "stream",
     "text": [
      " 85%|████████▍ | 10238/12104 [04:38<00:53, 34.71it/s]"
     ]
    },
    {
     "name": "stdout",
     "output_type": "stream",
     "text": [
      "10228.json line idx:[[15], [16], [17], [18], [22]] not find\n",
      "10229.json line idx:[[18], [24]] not find\n"
     ]
    },
    {
     "name": "stderr",
     "output_type": "stream",
     "text": [
      " 85%|████████▍ | 10270/12104 [04:39<01:00, 30.28it/s]"
     ]
    },
    {
     "name": "stdout",
     "output_type": "stream",
     "text": [
      "10266.json line idx:[[6], [7], [37], [38], [39], [40], [41], [42], [43], [44], [45], [46], [47], [48], [49], [50], [51], [52], [53], [54], [55], [56], [57], [58], [59], [60], [61], [62], [63], [64], [65], [66], [67], [68], [69], [70], [71], [72], [73], [74], [75], [76], [77], [78], [79], [80], [81], [82], [83], [84], [85], [86], [87], [88], [89], [90]] not find\n",
      "10267.json line idx:[[0], [1], [2], [3], [4], [5], [6], [7], [8], [9], [10], [11], [12], [13], [14], [15], [16], [17], [18], [19], [20], [21], [22], [23], [24], [25], [26], [27], [28], [29], [30], [31], [32], [34], [35], [36], [37], [38], [39], [40], [41], [42], [43], [44], [45], [46], [47], [48], [49], [50], [51], [52], [53], [54], [55], [56], [57], [58], [59], [60], [61], [62], [63], [64], [65], [66], [67], [68], [69], [70], [71], [72], [73], [74], [75], [76], [77], [78], [79], [80], [81], [82], [83], [84], [85], [86], [87], [88], [89], [90], [91], [92], [93], [94], [95], [96], [97], [98], [99], [100], [101]] not find\n",
      "10270.json line idx:[[36]] not find\n"
     ]
    },
    {
     "name": "stderr",
     "output_type": "stream",
     "text": [
      " 85%|████████▍ | 10284/12104 [04:40<00:54, 33.52it/s]"
     ]
    },
    {
     "name": "stdout",
     "output_type": "stream",
     "text": [
      "10277.json line idx:[[0], [1]] not find\n",
      "10280.json line idx:[[69]] not find\n"
     ]
    },
    {
     "name": "stderr",
     "output_type": "stream",
     "text": [
      " 85%|████████▌ | 10304/12104 [04:41<00:58, 30.94it/s]"
     ]
    },
    {
     "name": "stdout",
     "output_type": "stream",
     "text": [
      "10300.json layout error: cell_idx: 0, row_span: [0, 2], col_span: [0, 8]\n"
     ]
    },
    {
     "name": "stderr",
     "output_type": "stream",
     "text": [
      " 85%|████████▌ | 10318/12104 [04:41<01:23, 21.51it/s]"
     ]
    },
    {
     "name": "stdout",
     "output_type": "stream",
     "text": [
      "10318.json line idx:[[6], [7], [8], [9], [10], [11], [12], [13], [14], [15], [16], [17], [20], [21], [22], [23], [24], [25], [26], [27], [28], [29], [30], [31], [32], [33], [34], [35], [36], [37], [38], [39], [40], [41], [42], [43], [46], [47], [48], [49], [50], [51], [52], [53], [54], [55], [56], [57], [58], [59], [60], [61], [62], [63], [64], [65], [66], [67], [68], [69], [76], [77], [78], [79], [80], [81], [82], [83], [84], [85], [86], [87]] not find\n"
     ]
    },
    {
     "name": "stderr",
     "output_type": "stream",
     "text": [
      " 86%|████████▌ | 10350/12104 [04:43<00:57, 30.26it/s]"
     ]
    },
    {
     "name": "stdout",
     "output_type": "stream",
     "text": [
      "10329.json line idx:[[363]] not find\n",
      "10351.json line idx:[[1], [2], [3], [4], [5], [6], [7], [15], [22]] not find\n"
     ]
    },
    {
     "name": "stderr",
     "output_type": "stream",
     "text": [
      " 86%|████████▌ | 10374/12104 [04:44<01:01, 28.27it/s]"
     ]
    },
    {
     "name": "stdout",
     "output_type": "stream",
     "text": [
      "10370.json line idx:[[0], [1], [2], [3], [4], [5], [6], [7], [8], [9], [10], [11], [12], [13], [14], [15], [16], [17], [18], [19], [20], [21], [22]] not find\n"
     ]
    },
    {
     "name": "stderr",
     "output_type": "stream",
     "text": [
      " 86%|████████▌ | 10428/12104 [04:45<00:47, 35.45it/s]"
     ]
    },
    {
     "name": "stdout",
     "output_type": "stream",
     "text": [
      "10425.json line idx:[[15], [16], [17], [20], [22], [23], [24], [36], [37], [56], [57], [58], [59], [60], [61], [62], [63], [64], [65]] not find\n",
      "10428.json line idx:[[0], [1], [2], [3], [4], [5], [6], [7], [8], [9], [10]] not find\n"
     ]
    },
    {
     "name": "stderr",
     "output_type": "stream",
     "text": [
      " 86%|████████▋ | 10446/12104 [04:47<01:27, 19.02it/s]"
     ]
    },
    {
     "name": "stdout",
     "output_type": "stream",
     "text": [
      "10444.json line idx:[[0], [1], [2], [4], [5], [6], [7], [8], [9], [10], [11], [12], [13], [14], [15], [16], [17], [18], [19], [20], [21], [22], [23], [24], [25], [26], [27], [28], [29], [30], [31], [32], [33], [34], [35], [36], [38], [39], [40], [41], [42], [44], [45], [46], [47], [48], [50], [51], [52], [53], [54], [55], [56], [57], [58], [59]] not find\n"
     ]
    },
    {
     "name": "stderr",
     "output_type": "stream",
     "text": [
      " 87%|████████▋ | 10474/12104 [04:48<00:48, 33.52it/s]"
     ]
    },
    {
     "name": "stdout",
     "output_type": "stream",
     "text": [
      "10463.json line idx:[[24], [25], [26], [27], [28], [29], [30], [31], [32], [33], [38], [39], [40], [41], [42], [43], [44], [45], [46], [47], [52], [53], [54], [55], [56], [57], [58], [59], [60], [61], [62], [63], [64], [65], [66], [67], [68], [69], [70], [71], [79], [80], [81], [82], [83], [84], [85], [86], [87], [88]] not find\n"
     ]
    },
    {
     "name": "stderr",
     "output_type": "stream",
     "text": [
      " 87%|████████▋ | 10503/12104 [04:48<00:22, 71.24it/s]"
     ]
    },
    {
     "name": "stdout",
     "output_type": "stream",
     "text": [
      "10501.json line idx:[[0], [1], [2], [3], [4], [5], [7]] not find\n"
     ]
    },
    {
     "name": "stderr",
     "output_type": "stream",
     "text": [
      " 87%|████████▋ | 10543/12104 [04:49<00:43, 36.27it/s]"
     ]
    },
    {
     "name": "stdout",
     "output_type": "stream",
     "text": [
      "10538.json line idx:[[42]] not find\n"
     ]
    },
    {
     "name": "stderr",
     "output_type": "stream",
     "text": [
      " 87%|████████▋ | 10558/12104 [04:50<01:10, 22.03it/s]"
     ]
    },
    {
     "name": "stdout",
     "output_type": "stream",
     "text": [
      "10554.json line idx:[[0]] not find\n",
      "10555.json line idx:[[0], [1], [2], [3], [4], [5], [6], [7], [8], [9], [10], [11], [12], [13], [15], [16], [17], [18], [19], [20], [21], [22], [23], [24], [25], [26], [27], [28], [29], [30], [31], [32], [33], [34], [35], [36], [37], [38], [39], [40], [41], [42], [43], [44], [45], [46], [47], [48], [49], [50], [51], [52], [53], [54], [55], [56], [57], [58], [59], [60], [61], [62], [63], [64], [65], [66], [67], [68], [69], [70], [71], [72], [73], [74], [75], [76], [77], [78], [79], [80], [81], [82], [83], [84], [85], [86], [87], [88], [89], [90], [91], [92]] not find\n",
      "10562.json line idx:[[0], [1], [3], [4], [5], [6], [7], [8], [24], [25], [26], [27], [28], [29], [30], [31], [64], [65], [66], [67], [100], [101], [102], [103], [104], [105], [106], [107], [108], [125], [126]] not find\n"
     ]
    },
    {
     "name": "stderr",
     "output_type": "stream",
     "text": [
      " 87%|████████▋ | 10573/12104 [04:51<00:41, 36.84it/s]"
     ]
    },
    {
     "name": "stdout",
     "output_type": "stream",
     "text": [
      "10566.json line idx:[[0], [1], [2], [3], [4], [5], [6]] not find\n"
     ]
    },
    {
     "name": "stderr",
     "output_type": "stream",
     "text": [
      " 88%|████████▊ | 10593/12104 [04:52<01:33, 16.10it/s]"
     ]
    },
    {
     "name": "stdout",
     "output_type": "stream",
     "text": [
      "10591.json line idx:[[189]] not find\n"
     ]
    },
    {
     "name": "stderr",
     "output_type": "stream",
     "text": [
      " 88%|████████▊ | 10606/12104 [04:52<00:58, 25.79it/s]"
     ]
    },
    {
     "name": "stdout",
     "output_type": "stream",
     "text": [
      "10603.json line idx:[[0], [1], [2], [3], [4], [5], [6], [7], [8], [9], [10], [11], [12]] not find\n"
     ]
    },
    {
     "name": "stderr",
     "output_type": "stream",
     "text": [
      " 88%|████████▊ | 10637/12104 [04:53<00:24, 61.07it/s]"
     ]
    },
    {
     "name": "stdout",
     "output_type": "stream",
     "text": [
      "10614.json line idx:[[49], [50], [51], [52], [53], [54], [55], [56], [57], [58], [59]] not find\n",
      "10619.json line idx:[[7], [8]] not find\n"
     ]
    },
    {
     "name": "stderr",
     "output_type": "stream",
     "text": [
      " 88%|████████▊ | 10663/12104 [04:53<00:18, 77.27it/s]"
     ]
    },
    {
     "name": "stdout",
     "output_type": "stream",
     "text": [
      "10651.json line idx:[[0], [4], [9], [15], [17], [23], [27], [31]] not find\n",
      "10653.json line idx:[[29], [45]] not find\n",
      "10663.json line idx:[[0], [1], [2], [3], [4], [75], [76]] not find\n"
     ]
    },
    {
     "name": "stderr",
     "output_type": "stream",
     "text": [
      " 88%|████████▊ | 10680/12104 [04:53<00:20, 68.09it/s]"
     ]
    },
    {
     "name": "stdout",
     "output_type": "stream",
     "text": [
      "10664.json line idx:[[0], [1], [2], [3], [4], [5], [6], [7], [8], [9], [10], [11], [12], [13], [14], [15], [16], [17], [18], [19], [20], [21], [22], [23], [24], [25]] not find\n",
      "10668.json line idx:[[13], [14]] not find\n"
     ]
    },
    {
     "name": "stderr",
     "output_type": "stream",
     "text": [
      " 88%|████████▊ | 10705/12104 [04:54<00:46, 30.20it/s]"
     ]
    },
    {
     "name": "stdout",
     "output_type": "stream",
     "text": [
      "10702.json line idx:[[0], [11], [47], [48]] not find\n"
     ]
    },
    {
     "name": "stderr",
     "output_type": "stream",
     "text": [
      " 89%|████████▊ | 10727/12104 [04:55<00:40, 33.96it/s]"
     ]
    },
    {
     "name": "stdout",
     "output_type": "stream",
     "text": [
      "10719.json line idx:[[13], [14], [41], [42], [43], [83], [84], [85], [86], [87]] not find\n",
      "10723.json line idx:[[28], [29], [30], [31]] not find\n",
      "10725.json line idx:[[7], [8], [9], [10], [11], [12], [13], [14], [15], [16], [17], [18], [19]] not find\n"
     ]
    },
    {
     "name": "stderr",
     "output_type": "stream",
     "text": [
      " 89%|████████▊ | 10741/12104 [04:55<00:36, 36.98it/s]"
     ]
    },
    {
     "name": "stdout",
     "output_type": "stream",
     "text": [
      "10741.json line idx:[[13], [15], [17], [20], [21], [23], [25], [27], [29], [31], [33], [35], [37], [39], [41], [43], [44], [46], [48], [51], [52], [55], [58], [59], [60], [62], [64], [66], [68], [70], [72], [74], [76]] not find\n"
     ]
    },
    {
     "name": "stderr",
     "output_type": "stream",
     "text": [
      " 89%|████████▉ | 10802/12104 [04:57<00:35, 37.04it/s]"
     ]
    },
    {
     "name": "stdout",
     "output_type": "stream",
     "text": [
      "10801.json line idx:[[20]] not find\n"
     ]
    },
    {
     "name": "stderr",
     "output_type": "stream",
     "text": [
      " 89%|████████▉ | 10827/12104 [04:58<00:32, 39.80it/s]"
     ]
    },
    {
     "name": "stdout",
     "output_type": "stream",
     "text": [
      "10816.json line idx:[[54]] not find\n"
     ]
    },
    {
     "name": "stderr",
     "output_type": "stream",
     "text": [
      " 90%|████████▉ | 10845/12104 [04:59<00:45, 27.70it/s]"
     ]
    },
    {
     "name": "stdout",
     "output_type": "stream",
     "text": [
      "10838.json line idx:[[0]] not find\n",
      "10841.json line idx:[[34], [35], [36], [37], [38], [39], [40], [41], [42], [43], [44], [45], [46], [47], [48], [49], [50], [51], [52], [53], [54], [55], [56], [57], [58], [59], [60], [61], [62], [63], [64], [65], [66], [67], [68], [69], [70], [71], [72], [73], [74], [75], [76], [77], [78], [79], [80], [81], [82], [83], [84]] not find\n",
      "10845.json line idx:[[23], [24], [33], [34], [35], [45], [51], [58], [66], [73], [79], [80], [90], [91], [98], [99], [106], [107], [114], [133]] not find\n"
     ]
    },
    {
     "name": "stderr",
     "output_type": "stream",
     "text": [
      " 90%|████████▉ | 10865/12104 [05:00<00:52, 23.39it/s]"
     ]
    },
    {
     "name": "stdout",
     "output_type": "stream",
     "text": [
      "10853.json line idx:[[0], [1], [39], [40], [41], [42], [43]] not find\n",
      "10857.json line idx:[[0], [1], [2], [3], [4]] not find\n",
      "10861.json line idx:[[30], [32], [33], [34], [37], [38], [45], [46], [47]] not find\n"
     ]
    },
    {
     "name": "stderr",
     "output_type": "stream",
     "text": [
      " 90%|████████▉ | 10888/12104 [05:01<00:54, 22.13it/s]"
     ]
    },
    {
     "name": "stdout",
     "output_type": "stream",
     "text": [
      "10883.json line idx:[[56]] not find\n"
     ]
    },
    {
     "name": "stderr",
     "output_type": "stream",
     "text": [
      " 90%|█████████ | 10904/12104 [05:02<00:52, 22.89it/s]"
     ]
    },
    {
     "name": "stdout",
     "output_type": "stream",
     "text": [
      "10898.json line idx:[[75], [76]] not find\n"
     ]
    },
    {
     "name": "stderr",
     "output_type": "stream",
     "text": [
      " 90%|█████████ | 10948/12104 [05:03<00:34, 33.05it/s]"
     ]
    },
    {
     "name": "stdout",
     "output_type": "stream",
     "text": [
      "10940.json line idx:[[2], [3], [4], [5], [18], [19], [75], [76], [77], [82]] not find\n"
     ]
    },
    {
     "name": "stderr",
     "output_type": "stream",
     "text": [
      " 90%|█████████ | 10954/12104 [05:03<00:34, 33.35it/s]"
     ]
    },
    {
     "name": "stdout",
     "output_type": "stream",
     "text": [
      "10950.json line idx:[[0]] not find\n"
     ]
    },
    {
     "name": "stderr",
     "output_type": "stream",
     "text": [
      " 91%|█████████ | 10999/12104 [05:05<00:42, 26.20it/s]"
     ]
    },
    {
     "name": "stdout",
     "output_type": "stream",
     "text": [
      "10992.json line idx:[[49], [52], [53], [55], [56], [59], [60], [63], [108], [109], [110], [111]] not find\n"
     ]
    },
    {
     "name": "stderr",
     "output_type": "stream",
     "text": [
      " 91%|█████████ | 11012/12104 [05:06<00:27, 39.97it/s]"
     ]
    },
    {
     "name": "stdout",
     "output_type": "stream",
     "text": [
      "11001.json line idx:[[0], [1], [2], [3], [4], [5], [6], [7], [8], [9], [10], [11], [12], [13], [14], [15], [16], [17], [18], [19], [20], [21], [22], [23], [27], [28], [30], [31], [33], [35], [37], [39], [44], [45], [46], [47], [48], [49], [50], [51], [52], [53], [54], [55], [56], [57], [58], [59], [60], [61], [62], [63], [64], [65], [66], [67], [68], [69], [70], [71], [72], [73], [74], [75], [76], [77], [78], [79], [80], [81], [82], [83], [84], [85], [86], [87], [88], [89]] not find\n",
      "11008.json line idx:[[0]] not find\n"
     ]
    },
    {
     "name": "stderr",
     "output_type": "stream",
     "text": [
      " 91%|█████████ | 11018/12104 [05:06<00:24, 43.56it/s]"
     ]
    },
    {
     "name": "stdout",
     "output_type": "stream",
     "text": [
      "11016.json line idx:[[3]] not find\n",
      "11020.json line idx:[[52]] not find\n"
     ]
    },
    {
     "name": "stderr",
     "output_type": "stream",
     "text": [
      " 91%|█████████ | 11032/12104 [05:06<00:35, 30.53it/s]"
     ]
    },
    {
     "name": "stdout",
     "output_type": "stream",
     "text": [
      "11026.json line idx:[[0], [1]] not find\n"
     ]
    },
    {
     "name": "stderr",
     "output_type": "stream",
     "text": [
      " 91%|█████████▏| 11049/12104 [05:07<00:27, 38.05it/s]"
     ]
    },
    {
     "name": "stdout",
     "output_type": "stream",
     "text": [
      "11040.json line idx:[[10]] not find\n",
      "11043.json line idx:[[24], [25], [81], [82]] not find\n"
     ]
    },
    {
     "name": "stderr",
     "output_type": "stream",
     "text": [
      " 92%|█████████▏| 11076/12104 [05:07<00:14, 71.96it/s]"
     ]
    },
    {
     "name": "stdout",
     "output_type": "stream",
     "text": [
      "11077.json line idx:[[0], [9], [21], [36], [37], [62], [63]] not find\n"
     ]
    },
    {
     "name": "stderr",
     "output_type": "stream",
     "text": [
      " 92%|█████████▏| 11096/12104 [05:08<00:30, 32.52it/s]"
     ]
    },
    {
     "name": "stdout",
     "output_type": "stream",
     "text": [
      "11096.json line idx:[[0], [1], [2], [3], [4], [5], [6], [7], [8], [9], [10], [11], [12], [13], [62], [63], [66], [67], [68], [70], [71], [72], [73], [74], [75], [76]] not find\n"
     ]
    },
    {
     "name": "stderr",
     "output_type": "stream",
     "text": [
      " 92%|█████████▏| 11117/12104 [05:09<00:25, 38.25it/s]"
     ]
    },
    {
     "name": "stdout",
     "output_type": "stream",
     "text": [
      "11109.json line idx:[[51]] not find\n"
     ]
    },
    {
     "name": "stderr",
     "output_type": "stream",
     "text": [
      " 92%|█████████▏| 11152/12104 [05:11<00:55, 17.13it/s]"
     ]
    },
    {
     "name": "stdout",
     "output_type": "stream",
     "text": [
      "11148.json line idx:[[25], [51]] not find\n"
     ]
    },
    {
     "name": "stderr",
     "output_type": "stream",
     "text": [
      " 92%|█████████▏| 11172/12104 [05:11<00:32, 28.53it/s]"
     ]
    },
    {
     "name": "stdout",
     "output_type": "stream",
     "text": [
      "11166.json line idx:[[0], [1], [38], [39], [40]] not find\n"
     ]
    },
    {
     "name": "stderr",
     "output_type": "stream",
     "text": [
      " 92%|█████████▏| 11184/12104 [05:11<00:32, 28.25it/s]"
     ]
    },
    {
     "name": "stdout",
     "output_type": "stream",
     "text": [
      "11177.json line idx:[[10], [11], [38], [39], [44], [45], [56], [57], [82], [83], [108], [109], [120], [121], [143], [144]] not find\n",
      "11180.json line idx:[[17]] not find\n"
     ]
    },
    {
     "name": "stderr",
     "output_type": "stream",
     "text": [
      " 92%|█████████▏| 11188/12104 [05:12<00:46, 19.91it/s]"
     ]
    },
    {
     "name": "stdout",
     "output_type": "stream",
     "text": [
      "11186.json line idx:[[65], [66], [92], [93], [117], [118]] not find\n"
     ]
    },
    {
     "name": "stderr",
     "output_type": "stream",
     "text": [
      " 93%|█████████▎| 11203/12104 [05:13<00:40, 22.19it/s]"
     ]
    },
    {
     "name": "stdout",
     "output_type": "stream",
     "text": [
      "11198.json line idx:[[3], [4], [7], [8], [11], [12], [13], [14], [15], [18], [19], [20], [21], [24], [25], [26], [27], [28], [29], [30], [31], [32], [33], [34], [35], [36], [37], [38], [39], [40], [41], [42], [51], [52], [53], [54], [55], [56], [57], [58], [59], [60], [61], [62], [63], [64], [65], [66], [67], [68], [69], [70], [71], [72], [73], [74], [75], [76], [77], [78], [79], [80], [81], [82], [83], [84], [85], [86], [87], [88], [89], [90], [91], [92], [93], [94], [95], [96], [97], [98], [99], [100], [101], [102], [103], [104], [105], [106], [107], [108], [109], [110], [111], [112], [113], [114], [115], [116], [117], [118], [119], [120], [121], [122], [123], [124], [125], [126], [127], [128], [129], [130], [134], [135], [136], [137], [138], [139], [140], [141], [142], [143], [144], [145], [146], [147], [148], [149]] not find\n",
      "11200.json line idx:[[1], [2], [3], [4], [5], [6], [20], [21], [22], [23], [24], [25], [26], [27], [28], [29], [30], [31], [32], [33], [34], [35], [36], [37], [38]] not find\n"
     ]
    },
    {
     "name": "stderr",
     "output_type": "stream",
     "text": [
      " 93%|█████████▎| 11262/12104 [05:15<00:46, 18.10it/s]"
     ]
    },
    {
     "name": "stdout",
     "output_type": "stream",
     "text": [
      "11261.json line idx:[[166], [167]] not find\n"
     ]
    },
    {
     "name": "stderr",
     "output_type": "stream",
     "text": [
      " 93%|█████████▎| 11273/12104 [05:15<00:45, 18.10it/s]"
     ]
    },
    {
     "name": "stdout",
     "output_type": "stream",
     "text": [
      "11263.json line idx:[[11], [12], [13], [14], [15], [16], [17], [18], [19], [20], [21], [22], [23], [24], [25], [26], [27], [28], [29], [30], [31], [32], [33], [34], [35], [36], [37], [38], [39], [40], [41], [42], [43], [44], [45], [46], [47], [48], [49], [50], [51]] not find\n"
     ]
    },
    {
     "name": "stderr",
     "output_type": "stream",
     "text": [
      " 93%|█████████▎| 11294/12104 [05:16<00:33, 24.22it/s]"
     ]
    },
    {
     "name": "stdout",
     "output_type": "stream",
     "text": [
      "11295.json line idx:[[17], [18], [19], [20]] not find\n"
     ]
    },
    {
     "name": "stderr",
     "output_type": "stream",
     "text": [
      " 93%|█████████▎| 11302/12104 [05:17<00:49, 16.08it/s]"
     ]
    },
    {
     "name": "stdout",
     "output_type": "stream",
     "text": [
      "11299.json line idx:[[0]] not find\n"
     ]
    },
    {
     "name": "stderr",
     "output_type": "stream",
     "text": [
      " 93%|█████████▎| 11316/12104 [05:17<00:29, 26.99it/s]"
     ]
    },
    {
     "name": "stdout",
     "output_type": "stream",
     "text": [
      "11305.json line idx:[[5]] not find\n"
     ]
    },
    {
     "name": "stderr",
     "output_type": "stream",
     "text": [
      " 94%|█████████▎| 11328/12104 [05:18<00:40, 18.98it/s]"
     ]
    },
    {
     "name": "stdout",
     "output_type": "stream",
     "text": [
      "11327.json line idx:[[12], [13]] not find\n"
     ]
    },
    {
     "name": "stderr",
     "output_type": "stream",
     "text": [
      " 94%|█████████▎| 11341/12104 [05:19<00:43, 17.64it/s]"
     ]
    },
    {
     "name": "stdout",
     "output_type": "stream",
     "text": [
      "11339.json line idx:[[10], [11], [12], [13], [16], [17], [18], [20], [21], [22], [24], [25], [26], [27], [28], [29], [30], [31], [32], [33], [34]] not find\n"
     ]
    },
    {
     "name": "stderr",
     "output_type": "stream",
     "text": [
      " 94%|█████████▍| 11369/12104 [05:19<00:15, 46.54it/s]"
     ]
    },
    {
     "name": "stdout",
     "output_type": "stream",
     "text": [
      "11363.json line idx:[[38], [58]] not find\n",
      "11364.json line idx:[[19], [20]] not find\n"
     ]
    },
    {
     "name": "stderr",
     "output_type": "stream",
     "text": [
      " 94%|█████████▍| 11405/12104 [05:20<00:19, 35.10it/s]"
     ]
    },
    {
     "name": "stdout",
     "output_type": "stream",
     "text": [
      "11400.json line idx:[[58]] not find\n"
     ]
    },
    {
     "name": "stderr",
     "output_type": "stream",
     "text": [
      " 94%|█████████▍| 11414/12104 [05:21<00:22, 30.35it/s]"
     ]
    },
    {
     "name": "stdout",
     "output_type": "stream",
     "text": [
      "11416.json line idx:[[0], [1], [2], [3], [4], [5], [6], [7], [8], [9], [10], [12], [13], [14], [15], [16], [17], [18], [19], [20], [21], [22], [23], [24], [25], [26], [27], [28], [29], [30], [31], [32], [33], [34], [35], [36], [37], [38], [39], [40], [41], [42], [43], [44], [45], [46], [47], [48], [49], [50], [51], [52], [53], [54], [55], [56], [57], [58], [59], [60], [61], [62], [63], [64], [65], [66], [67], [68], [69], [70], [71], [72], [73], [74], [75], [76], [77], [78], [79], [80], [81], [82], [83], [84], [85], [86], [87], [88], [89], [90], [91], [92], [93], [94], [95], [96], [97], [98], [99], [100], [101], [102], [103], [104], [105], [106], [107], [108], [109], [110], [111], [112], [113], [114], [115], [116], [117], [118], [119], [120], [121], [122], [123], [124], [125], [126], [127], [128], [129], [130], [131], [132], [133], [134], [135], [136], [137], [138], [139], [140], [141], [142], [143], [144], [145], [146], [147], [148], [149], [150], [151], [152], [153], [154]] not find\n"
     ]
    },
    {
     "name": "stderr",
     "output_type": "stream",
     "text": [
      " 94%|█████████▍| 11424/12104 [05:21<00:34, 19.50it/s]"
     ]
    },
    {
     "name": "stdout",
     "output_type": "stream",
     "text": [
      "11420.json line idx:[[2], [3], [4], [5], [6], [7], [8], [9], [10], [11], [12], [13], [14], [15], [16], [17], [18], [19], [20], [21], [22], [23], [24], [25], [26], [27], [28], [29], [30], [31], [32], [33], [34], [35], [36], [37], [38], [39], [40], [41], [42], [43], [44], [45], [46], [47], [48], [49], [50], [51], [52], [53], [54], [55], [56], [57], [58], [59], [60], [61], [62], [63], [64], [65], [66], [67], [68], [69], [70], [71], [72], [73], [74], [75], [76], [77], [78], [79], [80], [81], [82], [83], [84], [85], [86], [87], [88], [89], [90], [91], [92], [93], [94], [95], [96], [97], [98], [99], [100], [101], [102], [103], [104]] not find\n"
     ]
    },
    {
     "name": "stderr",
     "output_type": "stream",
     "text": [
      " 94%|█████████▍| 11436/12104 [05:22<00:22, 30.21it/s]"
     ]
    },
    {
     "name": "stdout",
     "output_type": "stream",
     "text": [
      "11428.json line idx:[[2], [10], [15], [24]] not find\n",
      "11432.json line idx:[[0], [1], [2], [68], [69]] not find\n"
     ]
    },
    {
     "name": "stderr",
     "output_type": "stream",
     "text": [
      " 95%|█████████▍| 11448/12104 [05:22<00:18, 34.77it/s]"
     ]
    },
    {
     "name": "stdout",
     "output_type": "stream",
     "text": [
      "11443.json line idx:[[1], [2], [3], [4], [5]] not find\n"
     ]
    },
    {
     "name": "stderr",
     "output_type": "stream",
     "text": [
      " 95%|█████████▍| 11463/12104 [05:22<00:18, 35.02it/s]"
     ]
    },
    {
     "name": "stdout",
     "output_type": "stream",
     "text": [
      "11454.json line idx:[[0], [1], [2], [3], [4], [5], [6], [7], [8], [9], [10], [11], [12], [13], [14], [15], [16], [17], [18], [19], [20], [21], [22], [23], [24], [25], [26], [27], [28], [29], [30], [31], [32], [33], [34], [35], [36], [37], [38], [40], [41], [42], [43], [44], [45], [46], [47], [48], [49], [50], [51], [52], [53], [54], [55], [56], [57], [58], [59], [60], [61], [62], [63], [64], [65], [66], [67]] not find\n"
     ]
    },
    {
     "name": "stderr",
     "output_type": "stream",
     "text": [
      " 95%|█████████▌| 11505/12104 [05:23<00:08, 72.92it/s]"
     ]
    },
    {
     "name": "stdout",
     "output_type": "stream",
     "text": [
      "11510.json line idx:[[0], [1], [3], [4]] not find\n"
     ]
    },
    {
     "name": "stderr",
     "output_type": "stream",
     "text": [
      " 95%|█████████▌| 11521/12104 [05:24<00:17, 33.12it/s]"
     ]
    },
    {
     "name": "stdout",
     "output_type": "stream",
     "text": [
      "11512.json line idx:[[263], [429]] not find\n"
     ]
    },
    {
     "name": "stderr",
     "output_type": "stream",
     "text": [
      " 95%|█████████▌| 11537/12104 [05:25<00:17, 32.28it/s]"
     ]
    },
    {
     "name": "stdout",
     "output_type": "stream",
     "text": [
      "11532.json line idx:[[30]] not find\n"
     ]
    },
    {
     "name": "stderr",
     "output_type": "stream",
     "text": [
      " 96%|█████████▌| 11560/12104 [05:25<00:13, 39.33it/s]"
     ]
    },
    {
     "name": "stdout",
     "output_type": "stream",
     "text": [
      "11553.json line idx:[[15], [16], [17]] not find\n"
     ]
    },
    {
     "name": "stderr",
     "output_type": "stream",
     "text": [
      " 96%|█████████▌| 11569/12104 [05:26<00:19, 26.85it/s]"
     ]
    },
    {
     "name": "stdout",
     "output_type": "stream",
     "text": [
      "11566.json line idx:[[0], [2], [3], [4], [5], [6], [7], [8], [9], [10], [11], [12], [13], [14], [15], [16], [17], [18], [19], [20], [21], [22], [23], [24], [25], [26], [27], [28], [29], [30], [31], [32], [33], [34], [35], [36], [37], [38], [39], [40], [41], [42], [43], [44], [45], [46], [47], [48], [49], [50], [51], [52], [53], [54], [55], [56], [57], [58], [59], [60], [61], [62], [63], [64], [65], [66], [67], [68], [69], [70], [71], [72], [73], [74], [75], [76], [77], [78], [79], [80], [81], [82], [83], [84]] not find\n"
     ]
    },
    {
     "name": "stderr",
     "output_type": "stream",
     "text": [
      " 96%|█████████▌| 11573/12104 [05:26<00:21, 24.22it/s]"
     ]
    },
    {
     "name": "stdout",
     "output_type": "stream",
     "text": [
      "11572.json line idx:[[44], [60], [61], [62], [64], [65], [66], [69], [70], [71], [72], [73], [130], [131], [132], [133], [134], [135]] not find\n"
     ]
    },
    {
     "name": "stderr",
     "output_type": "stream",
     "text": [
      " 96%|█████████▌| 11593/12104 [05:27<00:21, 23.44it/s]"
     ]
    },
    {
     "name": "stdout",
     "output_type": "stream",
     "text": [
      "11588.json line idx:[[191], [192], [193]] not find\n"
     ]
    },
    {
     "name": "stderr",
     "output_type": "stream",
     "text": [
      " 96%|█████████▌| 11605/12104 [05:27<00:19, 25.78it/s]"
     ]
    },
    {
     "name": "stdout",
     "output_type": "stream",
     "text": [
      "11598.json line idx:[[0], [1], [2], [3], [4], [5], [6], [7], [8], [9], [10], [11], [12], [13], [14], [15], [16], [17], [18], [19], [20], [21], [22], [23], [24], [25], [26], [27], [28], [29], [30], [31], [32], [33], [34], [35], [36], [37], [38], [39], [40], [41], [42], [43], [44], [45], [46], [47], [48], [49], [50], [51], [52], [53], [54], [55], [56], [80], [81], [82], [83], [84], [85], [104], [105], [106], [107], [108], [109], [110], [111], [112], [113], [114], [115], [116], [117], [118], [119], [120], [121], [122], [123], [124], [146]] not find\n"
     ]
    },
    {
     "name": "stderr",
     "output_type": "stream",
     "text": [
      " 96%|█████████▌| 11609/12104 [05:27<00:21, 22.70it/s]"
     ]
    },
    {
     "name": "stdout",
     "output_type": "stream",
     "text": [
      "11606.json line idx:[[0]] not find\n",
      "11608.json line idx:[[86], [87], [88], [89]] not find\n"
     ]
    },
    {
     "name": "stderr",
     "output_type": "stream",
     "text": [
      " 96%|█████████▋| 11659/12104 [05:29<00:12, 35.12it/s]"
     ]
    },
    {
     "name": "stdout",
     "output_type": "stream",
     "text": [
      "11653.json line idx:[[0], [2], [5], [7], [9], [10], [11], [41], [42]] not find\n"
     ]
    },
    {
     "name": "stderr",
     "output_type": "stream",
     "text": [
      " 97%|█████████▋| 11713/12104 [05:31<00:14, 27.24it/s]"
     ]
    },
    {
     "name": "stdout",
     "output_type": "stream",
     "text": [
      "11709.json line idx:[[5], [7], [8], [9], [10], [11], [12], [13]] not find\n",
      "11712.json line idx:[[36], [37], [38], [39], [40], [41], [42]] not find\n"
     ]
    },
    {
     "name": "stderr",
     "output_type": "stream",
     "text": [
      " 97%|█████████▋| 11725/12104 [05:31<00:11, 31.81it/s]"
     ]
    },
    {
     "name": "stdout",
     "output_type": "stream",
     "text": [
      "11720.json line idx:[[25], [26], [52], [53]] not find\n",
      "11721.json layout error: cell_idx: 0, row_span: [0, 2], col_span: [0, 10]\n"
     ]
    },
    {
     "name": "stderr",
     "output_type": "stream",
     "text": [
      " 97%|█████████▋| 11739/12104 [05:32<00:08, 43.75it/s]"
     ]
    },
    {
     "name": "stdout",
     "output_type": "stream",
     "text": [
      "11735.json line idx:[[0], [1], [2], [3], [5], [6], [7], [8], [9], [10], [11], [12], [13], [14], [15], [16], [17], [18], [19], [20], [21], [22], [23], [24], [25], [26], [27], [28], [29], [30], [31], [32], [33], [34], [35], [36], [37], [38], [39], [40], [41], [42], [43], [44], [45], [46], [47], [48], [49], [50], [51]] not find\n"
     ]
    },
    {
     "name": "stderr",
     "output_type": "stream",
     "text": [
      " 97%|█████████▋| 11750/12104 [05:32<00:10, 32.28it/s]"
     ]
    },
    {
     "name": "stdout",
     "output_type": "stream",
     "text": [
      "11745.json line idx:[[20], [21], [22], [23], [52], [54], [55], [56], [57], [58], [59], [60], [61], [62], [63], [64], [65], [66], [67], [68], [69], [70], [71], [72], [73], [74], [75], [76], [77], [78], [79], [80], [81], [82], [83], [88], [89], [90], [91], [92], [93], [94], [95], [96], [97], [98], [99], [100], [101], [102], [103], [104], [105], [106], [107], [108], [109], [110], [111], [112], [113], [114], [115], [116], [117], [118], [119], [120], [121], [122], [123], [124], [125], [126], [127], [128], [129], [130], [131], [132], [133], [134], [135], [136], [137], [138], [139], [140], [141], [142], [143], [144], [145], [146]] not find\n"
     ]
    },
    {
     "name": "stderr",
     "output_type": "stream",
     "text": [
      " 97%|█████████▋| 11759/12104 [05:32<00:10, 33.38it/s]"
     ]
    },
    {
     "name": "stdout",
     "output_type": "stream",
     "text": [
      "11758.json line idx:[[0], [1], [32], [33], [67], [68], [69]] not find\n"
     ]
    },
    {
     "name": "stderr",
     "output_type": "stream",
     "text": [
      " 97%|█████████▋| 11779/12104 [05:33<00:10, 30.21it/s]"
     ]
    },
    {
     "name": "stdout",
     "output_type": "stream",
     "text": [
      "11774.json line idx:[[38], [39], [40], [41], [43], [44], [45], [46], [47], [48], [49], [50], [51], [52], [53], [54], [55], [56], [57], [58], [59], [60], [61], [64], [65], [66], [67], [68], [69], [70], [71], [72], [73], [74], [75], [76], [77], [78], [79], [80], [81], [82], [83], [84], [89], [90], [91], [92], [94], [95], [96], [139], [140], [141], [142], [143], [144], [145], [146], [147], [150], [151], [152], [153], [154], [155], [156], [157], [158], [159], [162], [163], [164], [165], [166], [167], [168], [169], [171], [172]] not find\n"
     ]
    },
    {
     "name": "stderr",
     "output_type": "stream",
     "text": [
      " 98%|█████████▊| 11834/12104 [05:34<00:07, 34.01it/s]"
     ]
    },
    {
     "name": "stdout",
     "output_type": "stream",
     "text": [
      "11834.json line idx:[[2]] not find\n"
     ]
    },
    {
     "name": "stderr",
     "output_type": "stream",
     "text": [
      " 98%|█████████▊| 11889/12104 [05:36<00:07, 29.20it/s]"
     ]
    },
    {
     "name": "stdout",
     "output_type": "stream",
     "text": [
      "11882.json line idx:[[0]] not find\n"
     ]
    },
    {
     "name": "stderr",
     "output_type": "stream",
     "text": [
      " 99%|█████████▉| 11992/12104 [05:40<00:03, 29.68it/s]"
     ]
    },
    {
     "name": "stdout",
     "output_type": "stream",
     "text": [
      "11988.json line idx:[[25], [26]] not find\n",
      "11992.json line idx:[[28], [79], [90]] not find\n"
     ]
    },
    {
     "name": "stderr",
     "output_type": "stream",
     "text": [
      " 99%|█████████▉| 12007/12104 [05:41<00:04, 20.73it/s]"
     ]
    },
    {
     "name": "stdout",
     "output_type": "stream",
     "text": [
      "12004.json line idx:[[57]] not find\n",
      "12006.json line idx:[[275]] not find\n"
     ]
    },
    {
     "name": "stderr",
     "output_type": "stream",
     "text": [
      " 99%|█████████▉| 12012/12104 [05:41<00:03, 23.29it/s]"
     ]
    },
    {
     "name": "stdout",
     "output_type": "stream",
     "text": [
      "12009.json line idx:[[0], [1], [2], [3], [4], [5], [6], [8], [9], [10], [11], [12], [13], [14], [15]] not find\n"
     ]
    },
    {
     "name": "stderr",
     "output_type": "stream",
     "text": [
      " 99%|█████████▉| 12027/12104 [05:41<00:02, 33.46it/s]"
     ]
    },
    {
     "name": "stdout",
     "output_type": "stream",
     "text": [
      "12022.json line idx:[[90], [91], [92], [93], [94], [95], [96], [97], [98], [99], [100], [101], [102], [103], [104], [105], [106], [107], [108], [109], [110], [111], [112], [113], [114], [115], [116], [117], [118], [119], [120], [121], [122], [123], [124], [125], [126], [127], [128], [129], [130], [131], [132], [133], [134]] not find\n",
      "12025.json line idx:[[0], [1], [2], [3], [4], [5], [6], [7], [8], [9], [10], [11], [12], [13], [14], [15], [16], [17], [18], [19], [20], [21], [22], [23], [24], [25], [26], [27], [28], [29], [30], [31], [32], [33], [34], [35], [36], [37], [38], [39], [40], [41], [42], [43], [44], [45], [46], [47], [48], [49], [50], [51], [52], [53], [54], [55], [56], [57], [58], [59], [60], [61], [62], [63], [64]] not find\n"
     ]
    },
    {
     "name": "stderr",
     "output_type": "stream",
     "text": [
      " 99%|█████████▉| 12036/12104 [05:42<00:02, 26.46it/s]"
     ]
    },
    {
     "name": "stdout",
     "output_type": "stream",
     "text": [
      "12035.json line idx:[[49]] not find\n"
     ]
    },
    {
     "name": "stderr",
     "output_type": "stream",
     "text": [
      "100%|█████████▉| 12073/12104 [05:43<00:00, 37.20it/s]"
     ]
    },
    {
     "name": "stdout",
     "output_type": "stream",
     "text": [
      "12058.json line idx:[[7], [8], [9], [10], [11]] not find\n"
     ]
    },
    {
     "name": "stderr",
     "output_type": "stream",
     "text": [
      "100%|██████████| 12104/12104 [05:44<00:00, 35.17it/s]"
     ]
    },
    {
     "name": "stdout",
     "output_type": "stream",
     "text": [
      "12077.json line idx:[[434]] not find\n",
      "12094.json line idx:[[10]] not find\n",
      "12099.json layout error: cell_idx: 3, row_span: [1, 6], col_span: [1, 3]\n",
      "table error: 447\n"
     ]
    },
    {
     "name": "stderr",
     "output_type": "stream",
     "text": [
      "\n"
     ]
    }
   ],
   "source": [
    "'''\n",
    "输入\n",
    "    训练集目录: {dataset_root}/train\n",
    "输出\n",
    "    训练集标注目录: {dataset_root}/train_gt_json/\n",
    "    {dataset_root}/train_error.json\n",
    "\n",
    "使用 fix_gt_table 前 报错的：684\n",
    "使用 fix_gt_table 后 报错的：665\n",
    "    + 清除area==0的数据：664\n",
    "'''\n",
    "DATASET = \"train_jpg480max\"\n",
    "DATASET_ROOT = '/media/ubuntu/Date12/TableStruct/new_data'\n",
    "\n",
    "TABLE_DIR = os.path.join(DATASET_ROOT, DATASET)\n",
    "LABEL_DIR = os.path.join(DATASET_ROOT, f'{DATASET}_gt_json')\n",
    "TABLE_ERROR_PATH = os.path.join(DATASET_ROOT, f'{DATASET}_error.json')\n",
    "\n",
    "if os.path.exists(LABEL_DIR):\n",
    "    shutil.rmtree(LABEL_DIR)\n",
    "Path.mkdir(Path(LABEL_DIR), parents=True)\n",
    "\n",
    "table2label(TABLE_DIR, LABEL_DIR, TABLE_ERROR_PATH)\n"
   ]
  }
 ],
 "metadata": {
  "kernelspec": {
   "display_name": "py3.9_torch1.9",
   "language": "python",
   "name": "python3"
  },
  "language_info": {
   "codemirror_mode": {
    "name": "ipython",
    "version": 3
   },
   "file_extension": ".py",
   "mimetype": "text/x-python",
   "name": "python",
   "nbconvert_exporter": "python",
   "pygments_lexer": "ipython3",
   "version": "3.9.16"
  },
  "orig_nbformat": 4
 },
 "nbformat": 4,
 "nbformat_minor": 2
}
