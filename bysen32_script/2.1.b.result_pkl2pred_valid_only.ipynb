{
 "cells": [
  {
   "cell_type": "code",
   "execution_count": 8,
   "metadata": {},
   "outputs": [],
   "source": [
    "import os\n",
    "import sys\n",
    "import pickle\n",
    "import numpy as np\n",
    "import matplotlib.pyplot as plt\n",
    "import matplotlib.patches as patches\n",
    "from PIL import Image\n",
    "from tqdm import tqdm\n",
    "from utils.format_translate import html_to_table\n",
    "from utils.utils import format_table, format_table_1, format_layout, format_tokens, remove_empty_bboxes, get_html\n",
    "import json\n",
    "from pathlib import Path\n",
    "from glob import glob\n",
    "import shutil\n",
    "\n"
   ]
  },
  {
   "cell_type": "code",
   "execution_count": 9,
   "metadata": {},
   "outputs": [
    {
     "name": "stderr",
     "output_type": "stream",
     "text": [
      "100%|██████████| 2593/2593 [00:14<00:00, 184.14it/s]\n",
      "100%|██████████| 2594/2594 [00:14<00:00, 181.86it/s]\n"
     ]
    }
   ],
   "source": [
    "# result_file = \"./output/structure_result/test_A/structure_master_results_0.pkl\"\n",
    "# result_file_dir = os.path.dirname(result_file)\n",
    "\n",
    "DATASET = \"test_A_jpg480max\"\n",
    "\n",
    "pred_pkl_dir = f\"../output/structure_result/{DATASET}_10fold0_valid96.44\"\n",
    "\n",
    "# 输出路径\n",
    "pred_save_dir = f\"./output/structure_result/{DATASET}-pred.json\"\n",
    "if os.path.exists(pred_save_dir):\n",
    "    shutil.rmtree(pred_save_dir)\n",
    "Path(pred_save_dir).mkdir(parents=True, exist_ok=True)\n",
    "\n",
    "\n",
    "def check_1(table):\n",
    "    layout = table['layout']\n",
    "    num = layout.max() + 1\n",
    "    if num > 16:\n",
    "        return\n",
    "    assert np.all(layout != -1)\n",
    "\n",
    "pkls = sorted(glob(os.path.join(pred_pkl_dir, \"structure_master_results_*.pkl\")))\n",
    "for result_file in pkls:\n",
    "    with open(result_file, 'rb') as f:\n",
    "        result_data = pickle.load(f)\n",
    "\n",
    "    for imgname, result in tqdm(result_data.items()):\n",
    "        bboxes = remove_empty_bboxes(result['bbox'])\n",
    "        tokens_list = format_tokens(result['text'])\n",
    "\n",
    "        html = get_html(tokens_list, bboxes)\n",
    "        \n",
    "        try:\n",
    "            table = html_to_table(html, check=True)\n",
    "        except:\n",
    "            continue\n",
    "        \n",
    "        try:\n",
    "            table_new = format_table(table)\n",
    "        except:\n",
    "            continue\n",
    "        \n",
    "        img_id = imgname.split(\".\")[0]\n",
    "        save_path = os.path.join(pred_save_dir, f'{img_id}-pred.json')\n",
    "\n",
    "        json.dump(table_new, open(save_path, 'w'), indent=4, ensure_ascii=False)\n",
    "\n"
   ]
  },
  {
   "cell_type": "code",
   "execution_count": null,
   "metadata": {},
   "outputs": [],
   "source": []
  }
 ],
 "metadata": {
  "kernelspec": {
   "display_name": "py3.9_torch1.9",
   "language": "python",
   "name": "python3"
  },
  "language_info": {
   "codemirror_mode": {
    "name": "ipython",
    "version": 3
   },
   "file_extension": ".py",
   "mimetype": "text/x-python",
   "name": "python",
   "nbconvert_exporter": "python",
   "pygments_lexer": "ipython3",
   "version": "3.9.16"
  },
  "orig_nbformat": 4
 },
 "nbformat": 4,
 "nbformat_minor": 2
}
