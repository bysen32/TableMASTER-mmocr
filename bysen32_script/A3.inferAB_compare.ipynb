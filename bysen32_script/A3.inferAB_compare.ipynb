{
 "cells": [
  {
   "cell_type": "code",
   "execution_count": 4,
   "metadata": {},
   "outputs": [
    {
     "name": "stderr",
     "output_type": "stream",
     "text": [
      "  2%|▏         | 84/5187 [00:00<00:06, 838.24it/s]"
     ]
    },
    {
     "name": "stderr",
     "output_type": "stream",
     "text": [
      "100%|██████████| 5187/5187 [00:08<00:00, 621.18it/s]\n"
     ]
    }
   ],
   "source": [
    "from glob import glob\n",
    "from tqdm import tqdm\n",
    "import os\n",
    "import json\n",
    "import cv2\n",
    "import numpy as np\n",
    "from pathlib import Path\n",
    "# from prettyprinter import cpprint, set_default_style\n",
    "\n",
    "# pred_json_dirA = \"./output/structure_result/test_A-pred.json_0702_91.130\"\n",
    "pred_json_dirA = \"./output/structure_result/test_A_jpg480max_wireless-pred.json\"\n",
    "pred_json_dirB = \"./output/structure_result/test_A_jpg480max-pred.json\"\n",
    "visualize_dirA = f\"{pred_json_dirA}_visualize\"\n",
    "visualize_dirB = f\"{pred_json_dirB}_visualize\"\n",
    "\n",
    "diff_save_dir = \"./output/structure_result/diff_map\"\n",
    "if os.path.exists(diff_save_dir):\n",
    "    os.system(f\"rm -rf {diff_save_dir}\")\n",
    "Path(diff_save_dir).mkdir(parents=True, exist_ok=True)\n",
    "\n",
    "for pred_json_path_A in tqdm(glob(os.path.join(pred_json_dirA, \"*-pred.json\"))):\n",
    "    json_file = os.path.basename(pred_json_path_A)\n",
    "    img_file = json_file.replace(\"-pred.json\", \".jpg\")\n",
    "    img_id = img_file.split(\".\")[0]\n",
    "\n",
    "    pred_json_path_B = os.path.join(pred_json_dirB, json_file)\n",
    "    if not os.path.exists(pred_json_path_B):\n",
    "        continue\n",
    "    dataA = json.load(open(pred_json_path_A, \"r\"))\n",
    "    dataB = json.load(open(os.path.join(pred_json_dirB, json_file), \"r\"))\n",
    "\n",
    "    img_path_A = os.path.join(visualize_dirA, f\"{img_id}.jpg\")\n",
    "    img_path_B = os.path.join(visualize_dirB, f\"{img_id}.jpg\")\n",
    "    if not os.path.exists(img_path_A) or not os.path.exists(img_path_B):\n",
    "        continue\n",
    "\n",
    "    # 比较layout排布\n",
    "    if dataA['layout'] != dataB['layout']:\n",
    "        imgA = cv2.imread(img_path_A)\n",
    "        imgB = cv2.imread(img_path_B)\n",
    "        widthA, heightA = imgA.shape[1], imgA.shape[0]\n",
    "        widthB, heightB = imgB.shape[1], imgB.shape[0]\n",
    "        if widthA != widthB or heightA != heightB:\n",
    "            imgA = cv2.resize(imgA, (widthB, heightB))\n",
    "        image = np.concatenate([imgA, imgB], axis=1)\n",
    "        cv2.imwrite(os.path.join(diff_save_dir, f\"{img_id}.jpg\"), image)\n"
   ]
  },
  {
   "cell_type": "code",
   "execution_count": null,
   "metadata": {},
   "outputs": [],
   "source": []
  }
 ],
 "metadata": {
  "kernelspec": {
   "display_name": "py3.9_torch1.9",
   "language": "python",
   "name": "python3"
  },
  "language_info": {
   "codemirror_mode": {
    "name": "ipython",
    "version": 3
   },
   "file_extension": ".py",
   "mimetype": "text/x-python",
   "name": "python",
   "nbconvert_exporter": "python",
   "pygments_lexer": "ipython3",
   "version": "3.9.16"
  },
  "orig_nbformat": 4
 },
 "nbformat": 4,
 "nbformat_minor": 2
}
