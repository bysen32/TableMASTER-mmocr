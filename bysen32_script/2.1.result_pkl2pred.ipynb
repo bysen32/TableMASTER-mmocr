{
 "cells": [
  {
   "cell_type": "code",
   "execution_count": 5,
   "metadata": {},
   "outputs": [],
   "source": [
    "import os\n",
    "import sys\n",
    "import pickle\n",
    "import numpy as np\n",
    "import matplotlib.pyplot as plt\n",
    "import matplotlib.patches as patches\n",
    "from PIL import Image\n",
    "from tqdm import tqdm\n",
    "from utils.teds_utils import html_to_table, format_table, format_tokens, format_layout, \\\n",
    "    remove_empty_bboxes, get_html\n",
    "\n",
    "def format_table_1(table): \n",
    "    layout = table['layout']\n",
    "    num = layout.max() + 1\n",
    "    idx = 0\n",
    "    new_cells = []\n",
    "    cell_cord = set()\n",
    "    for i, row in enumerate(layout):\n",
    "        for j, cell_id in enumerate(row):\n",
    "            if cell_id == -1:\n",
    "                layout[i, j] = num + idx\n",
    "                idx += 1\n",
    "                empty_cell = dict(\n",
    "                    col_start_idx=j,\n",
    "                    row_start_idx=i,\n",
    "                    col_end_idx=j,\n",
    "                    row_end_idx=i,\n",
    "                    transcript = '',\n",
    "                    bbox = [0, 0, 0, 0],\n",
    "                    segmentation = [[[0, 0], [0, 0], [0, 0], [0, 0]]]\n",
    "                )\n",
    "                new_cells.append(empty_cell)\n",
    "            else:\n",
    "                if cell_id not in cell_cord:\n",
    "                    cell_cord.add(cell_id)\n",
    "                    new_cells.append(table['cells'][cell_id])\n",
    "\n",
    "    new_layout = format_layout(layout)\n",
    "    assert len(new_cells) == new_layout.max() + 1\n",
    "\n",
    "    table = dict(\n",
    "        layout=new_layout,\n",
    "        cells=new_cells\n",
    "    )\n",
    "\n",
    "    return table\n"
   ]
  },
  {
   "cell_type": "code",
   "execution_count": 6,
   "metadata": {},
   "outputs": [
    {
     "name": "stderr",
     "output_type": "stream",
     "text": [
      " 26%|██▌       | 305/1165 [00:02<00:06, 142.26it/s]"
     ]
    },
    {
     "name": "stdout",
     "output_type": "stream",
     "text": [
      "format_table error 04941.jpg\n",
      "<thead>,</thead>,<tbody>,<tr>,<td></td>,<td></td>,<td></td>,<td></td>,<td></td>,<td></td>,<td></td>,<td></td>,<td></td>,<eb></eb>,<eb></eb>,<eb></eb>,</tr>,<tr>,<td></td>,<td></td>,<td></td>,<td></td>,<td></td>,<td, colspan=\"4\",>,</td>,<eb></eb>,<eb></eb>,<td></td>,</tr>,<tr>,<td></td>,<td></td>,<td></td>,<td></td>,<td></td>,<td, colspan=\"4\",>,</td>,<eb></eb>,<eb></eb>,<td></td>,</tr>,<tr>,<td, colspan=\"2\",>,</td>,<td></td>,<td></td>,<td></td>,<td, colspan=\"2\",>,</td>,<td,<td></td>,<td></td>,<td></td>,<td></td>,</tr>,<tr>,<td></td>,<td></td>,<td></td>,<td></td>,<td></td>,<td></td>,<td></td>,<td></td>,<eb></eb>,<eb></eb>,<eb></eb>,<eb></eb>,</tr>,<tr>,<td></td>,<td></td>,<td></td>,<td></td>,<td></td>,<td, colspan=\"2\",>,</td>,<eb></eb>,<eb></eb>,<eb></eb>,<eb></eb>,<eb></eb>,</tr>,<tr>,<td></td>,<td></td>,<td></td>,<td></td>,<td></td>,<td></td>,<td></td>,<td></td>,<eb></eb>,<eb></eb>,<eb></eb>,<eb></eb>,</tr>,<tr>,<td, rowspan=\"2\",>,</td>,<td, rowspan=\"2\",>,</td>,<td, rowspan=\"2\",>,</td>,<td, rowspan=\"2\",>,</td>,<td, rowspan=\"2\",>,</td>,<td, colspan=\"3\",>,</td>,<td></td>,<td></td>,<eb></eb>,<eb></eb>,</tr>,<tr>,<td></td>,<td></td>,<eb></eb>,<td></td>,<td></td>,<td></td>,</tr>,</tbody>\n"
     ]
    },
    {
     "name": "stderr",
     "output_type": "stream",
     "text": [
      " 83%|████████▎ | 971/1165 [00:08<00:02, 95.00it/s] "
     ]
    },
    {
     "name": "stdout",
     "output_type": "stream",
     "text": [
      "format_table error 03175.jpg\n",
      "<thead>,</thead>,<tbody>,<tr>,<td></td>,<td></td>,<td></td>,<td></td>,<td></td>,<td></td>,<td></td>,</tr>,<tr>,<td></td>,<td></td>,<eb></eb>,<eb></eb>,<eb></eb>,<eb></eb>,<eb></eb>,</tr>,<tr>,<td></td>,<td></td>,<td></td>,<td></td>,<td></td>,<td></td>,<td></td>,</tr>,<tr>,<td></td>,<td></td>,<td></td>,<td></td>,<td></td>,<td></td>,<td></td>,</tr>,<tr>,<td></td>,<td></td>,<td></td>,<td></td>,<td></td>,<td></td>,<td></td>,</tr>,<tr>,<td></td>,<td></td>,<td></td>,<td></td>,<td></td>,<td></td>,<td></td>,</tr>,<tr>,<td></td>,<td></td>,<td></td>,<td></td>,<td></td>,<td></td>,<td></td>,</tr>,<tr>,<td></td>,<td></td>,<td></td>,<td></td>,<td></td>,<td></td>,<td></td>,</tr>,<tr>,<td></td>,<td></td>,<td></td>,<td></td>,<td></td>,<td></td>,<td></td>,</tr>,<tr>,<td></td>,<td></td>,<td></td>,<td></td>,<td></td>,<td></td>,<td></td>,</tr>,<tr>,<td></td>,<td></td>,<td></td>,<td></td>,<td></td>,<td></td>,<td></td>,</tr>,<tr>,<td></td>,<td></td>,<eb></eb>,<eb></eb>,<eb></eb>,<eb></eb>,<eb></eb>,</tr>,<tr>,<td></td>,<td></td>,<td></td>,<td></td>,<td></td>,<td></td>,<td></td>,</tr>,<tr>,<td></td>,<td></td>,<td></td>,<td></td>,<td></td>,<td></td>,<td></td>,</tr>,<tr>,<td></td>,<td></td>,<td></td>,<td></td>,<td></td>,<td></td>,<td></td>,</tr>,<tr>,<td></td>,<td></td>,<td></td>,<td></td>,<td></td>,<td></td>,<td></td>,</tr>,<tr>,<td></td>,<td></td>,<eb></eb>,<eb></eb>,<eb></eb>,<eb></eb>,<eb></eb>,</tr>,<tr>,<td></td>,<td></td>,<td></td>,<td></td>,<td></td>,<td></td>,<td></td>,</tr>,<tr>,<td></td>,<td></td>,<td></td>,<td></td>,<td></td>,<td></td>,<td></td>,</tr>,<tr>,<td></td>,<td></td>,<td></td>,<td></td>,<td></td>,<td></td>,<td></td>,</tr>,<tr>,<td></td>,<td></td>,<td></td>,<td></td>,<td></td>,<td></td>,<td></td>,</tr>,<tr>,<td></td>,<td></td>,<eb></eb>,<eb></eb>,<eb></eb>,<eb></eb>,<eb></eb>,</tr>,<tr>,<td></td>,<td></td>,<td></td>,<td></td>,<td></td>,<td></td>,<td></td>,</tr>,<tr>,<td></td>,<td></td>,<td></td>,<td></td>,<td></td>,<td></td>,<td></td>,</tr>,<tr>,<td></td>,<td></td>,<td></td>,<td></td>,<td></td>,<td></td>,<td></td>,</tr>,<tr>,<td></td>,<td></td>,<td></td>,<td></td>,<td></td>,<td></td>,<td></td>,</tr>,<tr>,<td></td>,<td></td>,<td></td>,<td></td>,<td></td>,<td></td>,<td></td>,</tr>,<tr>,<td></td>,<td></td>,<td></td>,<td></td>,<td></td>,<td></td>,<td></td>,</tr>,<tr>,<td></td>,<td></td>,<eb></eb>,<eb></eb>,<eb></eb>,<eb></eb>,<eb></eb>,</tr>,<tr>,<td></td>,<td></td>,<td></td>,<td></td>,<td></td>,<td></td>,<td></td>,</tr>,<tr>,<td></td>,<td></td>,<td></td>,<td></td>,<td></td>,<td></td>,<td></td>,</tr>,<tr>,<td></td>,<td></td>,<td></td>,<td></td>,<td></td>,<td></td>,<td></td>,</tr>,<tr>,<td></td>,<td></td>,<td></td>,<td></td>,<td></td>,<td></td>,<td></td>,</tr>,<tr>,<td></td>,<td></td>,<td></td>,<td></td>,<td></td>,<td></td>,<td></td>,</tr>,<tr>,<td></td>,<td></td>,<eb></eb>,<eb></eb>,<eb></eb>,<eb></eb>,<eb></eb>,</tr>,<tr>,<td></td>,<td></td>,<td></td>,<td></td>,<td></td>,<td></td>,<td></td>,</tr>,<tr>,<td></td>,<td></td>,<td></td>,<td></td>,<td></td>,<td></td>,<td></td>,</tr>,<tr>,<td></td>,<td></td>,<td></td>,<td></td>,<td></td>,<td></td>,<td></td>,</tr>,<tr>,<td></td>,<td></td>,<td></td>,<td></td>,<td></td>,<td></td>,<td></td>,</tr>,<tr>,<td></td>,<td></td>,<td></td>,<td></td>,<td></td>,<td></td>,<td></td>,</tr>,<tr>,<td></td>,<td></td>,<td></td>,<td></td>,<td></td>,<td></td>,<td></td>,</tr>,<tr>,<td></td>,<td></td>,<td></td>,<td></td>,<td></td>,<td></td>,<td></td>,</tr>,<tr>,<td></td>,<td></td>,<td></td>,<td></td>,<td></td>,<td></td>,<td></td>,</tr>,<tr>,<td></td>,<td></td>,<td></td>,<td></td>,<td></td>,<td></td>,<td></td>,</tr>,<tr>,<td></td>,<td></td>,<td></td>,<td></td>,<td></td>,<td></td>,<td></td>,</tr>,<tr>,<td></td>,<td></td>,<td></td>,<td></td>,<td></td>,<td></td>,<td></td>,</tr>,<tr>,<td></td>,<td></td>,<td></td>,<td></td>,<td></td>,<td></td>,<td></td>,</tr>,<tr>,<td, colspan=\"6\",>,</td>,</tr>,<tr>,<td, colspan=\"5\",>,</td>,</tr>,<tr>,<td, colspan=\"5\",>,</td>,</tr>,<tr>,<td,</tbody>\n"
     ]
    },
    {
     "name": "stderr",
     "output_type": "stream",
     "text": [
      " 87%|████████▋ | 1010/1165 [00:08<00:01, 114.23it/s]"
     ]
    },
    {
     "name": "stdout",
     "output_type": "stream",
     "text": [
      "format_table error 03812.jpg\n",
      "<thead>,</thead>,<tbody>,<tr>,<td, colspan=\"3\",>,</td>,<td, colspan=\"6\",>,</td>,</tr>,<tr>,<td></td>,<td></td>,<td></td>,<td></td>,<td></td>,<td></td>,<td></td>,<td></td>,<td></td>,</tr>,<tr>,<td></td>,<td></td>,<td></td>,<td></td>,<td></td>,<td></td>,<td></td>,<td></td>,<eb></eb>,</tr>,<tr>,<td></td>,<td></td>,<td></td>,<td></td>,<td></td>,<td></td>,<td></td>,<td></td>,<eb></eb>,</tr>,<tr>,<td></td>,<td></td>,<td></td>,<td></td>,<td></td>,<td></td>,<td></td>,<td></td>,<eb></eb>,</tr>,<tr>,<td></td>,<td></td>,<td></td>,<td></td>,<td></td>,<td></td>,<td></td>,<td></td>,<eb></eb>,</tr>,<tr>,<td></td>,<td></td>,<eb></eb>,<td></td>,<td></td>,<eb></eb>,<td></td>,<td></td>,<eb></eb>,</tr>,<tr>,<td></td>,<td></td>,<eb></eb>,<td></td>,<td></td>,<eb></eb>,<td></td>,<td></td>,<eb></eb>,</tr>,<tr>,<td></td>,<td></td>,<eb></eb>,<td></td>,<td></td>,<td></td>,<td></td>,<td></td>,<eb></eb>,</tr>,<tr>,<td></td>,<td></td>,<eb></eb>,<td></td>,<td></td>,<td></td>,<td></td>,<td></td>,<eb></eb>,</tr>,<tr>,<td></td>,<td></td>,<eb></eb>,<td></td>,<td></td>,<eb></eb>,<td></td>,<td></td>,<eb></eb>,</tr>,<tr>,<td></td>,<td></td>,<td></td>,<td></td>,<td></td>,<td></td>,<td></td>,<td></td>,<eb></eb>,</tr>,<tr>,<td></td>,<td></td>,<eb></eb>,<td></td>,<td></td>,<eb></eb>,<td></td>,<td></td>,<eb></eb>,</tr>,<tr>,<td></td>,<td></td>,<eb></eb>,<td></td>,<td></td>,<td></td>,<td></td>,<td></td>,<eb></eb>,</tr>,<tr>,<td></td>,<td></td>,<eb></eb>,<td></td>,<td></td>,<td></td>,<td></td>,<td></td>,<eb></eb>,</tr>,<tr>,<td></td>,<td></td>,<eb></eb>,<td></td>,<td></td>,<td></td>,<td></td>,<td></td>,<eb></eb>,</tr>,<tr>,<td></td>,<td></td>,<eb></eb>,<td></td>,<td></td>,<eb></eb>,<td></td>,<td></td>,<eb></eb>,</tr>,<tr>,<td></td>,<td></td>,<eb></eb>,<td></td>,<td></td>,<td></td>,<td></td>,<td></td>,<eb></eb>,</tr>,<tr>,<td></td>,<td></td>,<eb></eb>,<td></td>,<td></td>,<eb></eb>,<td></td>,<td></td>,<eb></eb>,</tr>,<tr>,<td></td>,<td></td>,<eb></eb>,<td></td>,<td></td>,<eb></eb>,<td></td>,<td></td>,<eb></eb>,</tr>,<tr>,<td></td>,<td></td>,<eb></eb>,<td></td>,<td></td>,<eb></eb>,<td></td>,<td></td>,<eb></eb>,</tr>,<tr>,<td></td>,<td></td>,<eb></eb>,<td></td>,<td></td>,<eb></eb>,<td></td>,<td></td>,<eb></eb>,</tr>,<tr>,<td></td>,<td></td>,<td></td>,<td></td>,<td></td>,<td></td>,<td></td>,<td></td>,<eb></eb>,</tr>,<tr>,<td></td>,<td></td>,<eb></eb>,<td></td>,<td></td>,<td></td>,<td></td>,<td></td>,<eb></eb>,</tr>,<tr>,<td></td>,<td></td>,<eb></eb>,<td></td>,<td></td>,<eb></eb>,<td></td>,<td></td>,<eb></eb>,</tr>,<tr>,<td></td>,<td></td>,<eb></eb>,<td></td>,<td></td>,<td></td>,<td></td>,<td></td>,<eb></eb>,</tr>,<tr>,<td></td>,<td></td>,<eb></eb>,<td></td>,<td></td>,<td></td>,<td></td>,<td></td>,<eb></eb>,</tr>,<tr>,<td></td>,<td></td>,<eb></eb>,<td></td>,<td></td>,<eb></eb>,<eb></eb>,<eb></eb>,<eb></eb>,</tr>,<tr>,<eb></eb>,<eb></eb>,<td></td>,<eb></eb>,<td></td>,<td></td>,<eb></eb>,<eb></eb>,<eb></eb>,</tr>,<tr>,<td, colspan=\"9\",>,</tr>,<tr>,<td></td>,<td></td>,<td></td>,<td></td>,<td></td>,<td></td>,<eb></eb>,<eb></eb>,<eb></eb>,<td></td>,</tr>,</tbody>\n"
     ]
    },
    {
     "name": "stderr",
     "output_type": "stream",
     "text": [
      " 92%|█████████▏| 1072/1165 [00:09<00:01, 89.39it/s] "
     ]
    },
    {
     "name": "stdout",
     "output_type": "stream",
     "text": [
      "format_table error 03866.jpg\n",
      "<thead>,</thead>,<tbody>,<tr>,<td, rowspan=\"3\",>,</td>,<td, rowspan=\"3\",>,</td>,<td, rowspan=\"3\",>,</td>,<td, rowspan=\"3\",>,</td>,<td, colspan=\"9\",>,</td>,</tr>,<tr>,<td, rowspan=\"2\",>,</td>,<td, rowspan=\"2\",>,</td>,<td></td>,<td></td>,<td></td>,<td></td>,<td></td>,<td></td>,<td></td>,<td></td>,<td></td>,<td></td>,<td></td>,<td></td>,<td></td>,<td></td>,<td></td>,<td></td>,<td></td>,<td></td>,<td></td>,<td></td>,<td></td>,</tr>,<tr>,<td></td>,<td></td>,<td></td>,<td></td>,<td></td>,<td></td>,<td></td>,<td></td>,<td></td>,<td></td>,<td></td>,<td></td>,<td></td>,<td></td>,<td></td>,<td></td>,<td></td>,<td></td>,<td></td>,<td></td>,<td></td>,<td></td>,<td></td>,</tr>,<tr>,<td, rowspan=\"2\",>,</td>,<td, rowspan=\"2\",>,</td>,<td></td>,<td></td>,<eb></eb>,<eb></eb>,<eb></eb>,<eb></eb>,<eb></eb>,<eb></eb>,<eb></eb>,<eb></eb>,<eb></eb>,<eb></eb>,<eb></eb>,<eb></eb>,<eb></eb>,<eb></eb>,<eb></eb>,<eb></eb>,<eb></eb>,<eb></eb>,<eb></eb>,<eb></eb>,<eb></eb>,<eb></eb>,</tr>,<tr>,<td></td>,<td></td>,<td></td>,<td></td>,<eb></eb>,<eb></eb>,<td></td>,<eb></eb>,<td></td>,<eb></eb>,<eb></eb>,<eb></eb>,<eb></eb>,<eb></eb>,<eb></eb>,<eb></eb>,<eb></eb>,<eb></eb>,<eb></eb>,<eb></eb>,<eb></eb>,<eb></eb>,<eb></eb>,<eb></eb>,<eb></eb>,</tr>,<tr>,<td, rowspan=\"2\",>,</td>,<td, rowspan=\"2\",>,</td>,<td></td>,<td></td>,<eb></eb>,<eb></eb>,<eb></eb>,<eb></eb>,<eb></eb>,<eb></eb>,<eb></eb>,<eb></eb>,<eb></eb>,<eb></eb>,<eb></eb>,<eb></eb>,<eb></eb>,<eb></eb>,<eb></eb>,<eb></eb>,<eb></eb>,<eb></eb>,<eb></eb>,<eb></eb>,<eb></eb>,<eb></eb>,</tr>,<tr>,<td></td>,<td></td>,<td></td>,<td></td>,<eb></eb>,<eb></eb>,<td></td>,<eb></eb>,<td></td>,<eb></eb>,<td></td>,<eb></eb>,<td></td>,<eb></eb>,<td></td>,<td></td>,<td></td>,<td></td>,<td></td>,<td></td>,<td></td>,<eb></eb>,<td></td>,<eb></eb>,<td></td>,<eb></eb>,</tr>,<tr>,<td></td>,<td></td>,<td></td>,<eb></eb>,<eb></eb>,<eb></eb>,<eb></eb>,<eb></eb>,<eb></eb>,<eb></eb>,<eb></eb>,<eb></eb>,<eb></eb>,<eb></eb>,<eb></eb>,<eb></eb>,<eb></eb>,<eb></eb>,<eb></eb>,<eb></eb>,<eb></eb>,<td></td>,<eb></eb>,<eb></eb>,<eb></eb>,<td></td>,</tr>,<tr>,<td, rowspan=\"3\",>,</td>,<td, rowspan=\"2\",>,</td>,<td></td>,<td></td>,<eb></eb>,<td></td>,<eb></eb>,<eb></eb>,<eb></eb>,<eb></eb>,<eb></eb>,<eb></eb>,<eb></eb>,<eb></eb>,<eb></eb>,<eb></eb>,<eb></eb>,<eb></eb>,<eb></eb>,<eb></eb>,<eb></eb>,<eb></eb>,<eb></eb>,<eb></eb>,<eb></eb>,<eb></eb>,</tr>,<tr>,<td></td>,<td></td>,<eb></eb>,<td></td>,<eb></eb>,<eb></eb>,<eb></eb>,<eb></eb>,<eb></eb>,<eb></eb>,<eb></eb>,<eb></eb>,<eb></eb>,<eb></eb>,<eb></eb>,<eb></eb>,<eb></eb>,<eb></eb>,<eb></eb>,<eb></eb>,<eb></eb>,<eb></eb>,<eb></eb>,<eb></eb>,</tr>,<tr>,<td></td>,<td></td>,<eb></eb>,<td></td>,<eb></eb>,<eb></eb>,<eb></eb>,<eb></eb>,<eb></eb>,<eb></eb>,<eb></eb>,<eb></eb>,<eb></eb>,<eb></eb>,<eb></eb>,<eb></eb>,<eb></eb>,<eb></eb>,<eb></eb>,<eb></eb>,<eb></eb>,<eb></eb>,<eb></eb>,<eb></eb>,</tr>,<tr>,<td></td>,<td></td>,<eb></eb>,<td></td>,<eb></eb>,<eb></eb>,<eb></eb>,<eb></eb>,<eb></eb>,<eb></eb>,<eb></eb>,<eb></eb>,<eb></eb>,<eb></eb>,<eb></eb>,<eb></eb>,<eb></eb>,<eb></eb>,<eb></eb>,<eb></eb>,<eb></eb>,<eb></eb>,<eb></eb>,</tr>,<tr>,<td, rowspan=\"2\",>,<eb></eb>,<td></td>,<td></td>,<eb></eb>,<td></td>,<eb></eb>,<eb></eb>,<eb></eb>,<eb></eb>,<eb></eb>,<eb></eb>,<eb></eb>,<eb></eb>,<eb></eb>,<eb></eb>,<eb></eb>,<eb></eb>,<eb></eb>,<eb></eb>,<eb></eb>,<eb></eb>,<eb></eb>,</tr>,<tr>,<td, rowspan=\"4\",>,</td>,<td></td>,<td></td>,<eb></eb>,<td></td>,<eb></eb>,<td></td>,<eb></eb>,<eb></eb>,<eb></eb>,<eb></eb>,<eb></eb>,<eb></eb>,<eb></eb>,<eb></eb>,<eb></eb>,<eb></eb>,<eb></eb>,<eb></eb>,<eb></eb>,<eb></eb>,<eb></eb>,<eb></eb>,</tr>,<tr>,<td, rowspan=\"2\",>,</td>,<td></td>,<td></td>,<eb></eb>,<td></td>,<eb></eb>,<eb></eb>,<td></td>,<eb></eb>,<eb></eb>,<td></td>,<eb></eb>,<eb></eb>,<eb></eb>,<eb></eb>,<eb></eb>,<eb></eb>,<eb></eb>,<eb></eb>,<eb></eb>,<eb></eb>,</tr>,<tr>,<td></td>,<td></td>,<td></td>,<eb></eb>,<eb></eb>,<eb></eb>,<eb></eb>,<eb></eb>,<eb></eb>,<eb></eb>,<eb></eb>,<eb></eb>,<eb></eb>,<eb></eb>,<eb></eb>,<eb></eb>,<eb></eb>,<eb></eb>,<eb></eb>,<eb></eb>,</tr>,<tr>,<td, rowspan=\"2\",>,</td>,<td></td>,<td></td>,<td></td>,<td></td>,<td></td>,<td></td>,<td></td>,<td></td>,<td></td>,<td></td>,<td></td>,<td></td>,<td></td>,<td></td>,<td></td>,<td></td>,<td></td>,<td></td>,<td></td>,<td></td>,<td></td>,<td></td>,<td></td>,<td></td>,<td></td>,<td></td>,<td></td>,<td></td>,<td></td>,<td></td>,<td></td>,<td></td>,<td></td>,<td></td>,<td></td>,<td></td>,<td></td>,<td></td>,<td></td>,<td></td>,<td></td>,<td></td>,<td></td>,<td></td>,<td></td>,<td></td>,<td></td>,<td></td>,<td></td>,<td></td>\n"
     ]
    },
    {
     "name": "stderr",
     "output_type": "stream",
     "text": [
      "100%|██████████| 1165/1165 [00:10<00:00, 115.04it/s]\n",
      " 23%|██▎       | 268/1165 [00:02<00:10, 85.82it/s] "
     ]
    },
    {
     "name": "stdout",
     "output_type": "stream",
     "text": [
      "format_table error 04254.jpg\n",
      "<thead>,</thead>,<tbody>,<tr>,<td, rowspan=\"2\",>,</td>,<td, rowspan=\"2\",>,</td>,<td></td>,<td></td>,<td></td>,<td></td>,<td></td>,<td></td>,<td></td>,<td></td>,</tr>,<tr>,<td></td>,<eb></eb>,<td></td>,<td></td>,<td></td>,<td></td>,<eb></eb>,<eb></eb>,<eb></eb>,</tr>,<tr>,<td></td>,<td></td>,<eb></eb>,<td></td>,<td></td>,<td></td>,<td></td>,<eb></eb>,<eb></eb>,<eb></eb>,</tr>,<tr>,<td></td>,<td></td>,<eb></eb>,<td></td>,<td></td>,<td></td>,<td></td>,<eb></eb>,<eb></eb>,<eb></eb>,</tr>,<tr>,<td></td>,<td></td>,<eb></eb>,<td></td>,<td></td>,<td></td>,<td></td>,<eb></eb>,<eb></eb>,<eb></eb>,</tr>,<tr>,<td></td>,<td></td>,<eb></eb>,<td></td>,<td></td>,<td></td>,<td></td>,<eb></eb>,<eb></eb>,<eb></eb>,</tr>,<tr>,<td></td>,<td></td>,<eb></eb>,<td></td>,<td></td>,<td></td>,<td></td>,<eb></eb>,<eb></eb>,<eb></eb>,</tr>,<tr>,<td></td>,<td></td>,<eb></eb>,<td></td>,<td></td>,<td></td>,<td></td>,<eb></eb>,<eb></eb>,<eb></eb>,</tr>,<tr>,<td></td>,<td></td>,<eb></eb>,<td></td>,<td></td>,<td></td>,<td></td>,<eb></eb>,<eb></eb>,<eb></eb>,</tr>,<tr>,<td></td>,<td></td>,<eb></eb>,<td></td>,<td></td>,<td></td>,<td></td>,<eb></eb>,<eb></eb>,<eb></eb>,</tr>,<tr>,<td></td>,<td></td>,<eb></eb>,<td></td>,<td></td>,<td></td>,<td></td>,<eb></eb>,<eb></eb>,<eb></eb>,</tr>,<tr>,<td></td>,<td></td>,<eb></eb>,<td></td>,<td></td>,<td></td>,<td></td>,<eb></eb>,<eb></eb>,<eb></eb>,</tr>,<tr>,<td></td>,<td></td>,<eb></eb>,<td></td>,<td></td>,<td></td>,<td></td>,<eb></eb>,<eb></eb>,<eb></eb>,</tr>,<tr>,<td></td>,<td></td>,<eb></eb>,<td></td>,<td></td>,<td></td>,<td></td>,<eb></eb>,<eb></eb>,<eb></eb>,</tr>,<tr>,<td></td>,<td></td>,<eb></eb>,<td></td>,<td></td>,<td></td>,<td></td>,<eb></eb>,<eb></eb>,<eb></eb>,</tr>,<tr>,<td></td>,<td></td>,<eb></eb>,<td></td>,<td></td>,<td></td>,<td></td>,<eb></eb>,<eb></eb>,<eb></eb>,</tr>,<tr>,<td></td>,<td></td>,<eb></eb>,<td></td>,<td></td>,<td></td>,<td></td>,<eb></eb>,<eb></eb>,<td></td>,</tr>,<tr>,<td></td>,<td></td>,<eb></eb>,<td></td>,<td></td>,<td></td>,<td></td>,<eb></eb>,<eb></eb>,<eb></eb>,</tr>,<tr>,<td></td>,<td></td>,<eb></eb>,<td></td>,<td></td>,<td></td>,<td></td>,<eb></eb>,<eb></eb>,<eb></eb>,</tr>,<tr>,<td></td>,<td></td>,<eb></eb>,<td></td>,<td></td>,<td></td>,<td></td>,<eb></eb>,<eb></eb>,<eb></eb>,</tr>,<tr>,<td></td>,<td></td>,<eb></eb>,<td></td>,<td></td>,<td></td>,<td></td>,<eb></eb>,<eb></eb>,<eb></eb>,</tr>,<tr>,<td></td>,<td></td>,<eb></eb>,<td></td>,<td></td>,<td></td>,<td></td>,<eb></eb>,<eb></eb>,<eb></eb>,</tr>,<tr>,<td></td>,<td></td>,<eb></eb>,<td></td>,<td></td>,<td></td>,<td></td>,<eb></eb>,<eb></eb>,<eb></eb>,</tr>,<tr>,<td></td>,<td></td>,<eb></eb>,<td></td>,<td></td>,<td></td>,<td></td>,<eb></eb>,<eb></eb>,<eb></eb>,</tr>,<tr>,<td></td>,<td></td>,<eb></eb>,<td></td>,<td></td>,<eb></eb>,<td></td>,<eb></eb>,<eb></eb>,<eb></eb>,</tr>,<tr>,<td></td>,<td></td>,<eb></eb>,<td></td>,<td></td>,<td></td>,<td></td>,<eb></eb>,<eb></eb>,<eb></eb>,</tr>,<tr>,<td></td>,<td></td>,<eb></eb>,<td></td>,<td></td>,<td></td>,<td></td>,<eb></eb>,<eb></eb>,<eb></eb>,</tr>,<tr>,<td></td>,<td></td>,<eb></eb>,<td></td>,<td></td>,<td></td>,<td></td>,<eb></eb>,<eb></eb>,<eb></eb>,</tr>,<tr>,<td></td>,<td></td>,<eb></eb>,<td></td>,<td></td>,<td></td>,<td></td>,<eb></eb>,<eb></eb>,<eb></eb>,</tr>,<tr>,<td, colspan=\"2\",>,</td>,<eb></eb>,<td></td>,<td></td>,<td></td>,<td></td>,<eb></eb>,<eb></eb>,<eb></eb>,</tr>,<tr>,<td, colspan=\"2\",>,</td>,<td></td>,<td></td>,<td></td>,<td></td>,<td></td>,<eb></eb>,<eb></eb>,<eb></eb>,</tr>,<tr>,<td,<td></td>,<eb></eb>,<td></td>,<td></td>,<td></td>,<td></td>,<eb></eb>,<eb></eb>,<eb></eb>,</tr>,</tbody>\n"
     ]
    },
    {
     "name": "stderr",
     "output_type": "stream",
     "text": [
      " 94%|█████████▍| 1095/1165 [00:09<00:00, 125.49it/s]"
     ]
    },
    {
     "name": "stdout",
     "output_type": "stream",
     "text": [
      "format_table error 04399.jpg\n",
      "<thead>,</thead>,<tbody>,<tr>,<td, rowspan=\"2\",>,</td>,<td, rowspan=\"2\",>,</td>,<td, rowspan=\"2\",>,</td>,<td, rowspan=\"2\",>,</td>,<td, rowspan=\"2\",>,</td>,<td, rowspan=\"2\",>,</td>,<td, colspan=\"3\",>,</td>,</tr>,<tr>,<td></td>,<td></td>,<td></td>,</tr>,<tr>,<eb></eb>,<eb></eb>,<td></td>,<eb></eb>,<eb></eb>,<eb></eb>,<eb></eb>,<td></td>,<eb></eb>,</tr>,<tr>,<eb></eb>,<eb></eb>,<td></td>,<eb></eb>,<eb></eb>,<eb></eb>,<eb></eb>,<td></td>,<eb></eb>,</tr>,<tr>,<td></td>,<td></td>,<td></td>,<td></td>,<td></td>,<td></td>,<td></td>,<td></td>,<eb></eb>,</tr>,<tr>,<td,<tr>,<td,<tr>,<td, rowspan=\"5\",>,</td>,<td, rowspan=\"2\",>,</td>,<td, rowspan=\"2\",>,</td>,<td, rowspan=\"2\",>,</td>,<td, rowspan=\"2\",>,</td>,<td, rowspan=\"2\",>,</td>,<td, rowspan=\"2\",>,</td>,<eb></eb>,<eb></eb>,</tr>,<tr>,</tr>,<tr>,</tr>,<tr>,<td, colspan=\"3\",>,</td>,<eb></eb>,<eb></eb>,<eb></eb>,<eb></eb>,<eb></eb>,</tr>,<tr>,<td, colspan=\"3\",>,</td>,<eb></eb>,<eb></eb>,<eb></eb>,<eb></eb>,<eb></eb>,</tr>,</tbody>\n"
     ]
    },
    {
     "name": "stderr",
     "output_type": "stream",
     "text": [
      "100%|██████████| 1165/1165 [00:09<00:00, 116.74it/s]\n"
     ]
    }
   ],
   "source": [
    "import pickle\n",
    "import os\n",
    "import numpy as np\n",
    "import json\n",
    "from pathlib import Path\n",
    "from glob import glob\n",
    "import shutil\n",
    "\n",
    "# result_file = \"./output/structure_result/test_A/structure_master_results_0.pkl\"\n",
    "# result_file_dir = os.path.dirname(result_file)\n",
    "\n",
    "DATASET = \"test_A_jpg480max_wire\"\n",
    "\n",
    "\n",
    "\n",
    "PRED_PKL_DIR = f\"../output/structure_result/{DATASET}\"\n",
    "\n",
    "# 输出路径\n",
    "PRED_SAVE_DIR = f\"./output/structure_result/{DATASET}-pred.json\"\n",
    "if os.path.exists(PRED_SAVE_DIR):\n",
    "    shutil.rmtree(PRED_SAVE_DIR)\n",
    "Path(PRED_SAVE_DIR).mkdir(parents=True, exist_ok=True)\n",
    "\n",
    "\n",
    "def check_1(table):\n",
    "    layout = table['layout']\n",
    "    num = layout.max() + 1\n",
    "    if num > 16:\n",
    "        return\n",
    "    assert np.all(layout != -1)\n",
    "\n",
    "pkls = sorted(glob(os.path.join(PRED_PKL_DIR, \"structure_master_results_*.pkl\")))\n",
    "for result_file in pkls:\n",
    "    with open(result_file, 'rb') as f:\n",
    "        result_data = pickle.load(f)\n",
    "\n",
    "    for imgname, result in tqdm(result_data.items()):\n",
    "        bboxes = remove_empty_bboxes(result['bbox'])\n",
    "        tokens_list = format_tokens(result['text'])\n",
    "\n",
    "        try:\n",
    "            html = get_html(tokens_list, bboxes)\n",
    "        except:\n",
    "            print(\"get_html error\", imgname)\n",
    "            continue\n",
    "        \n",
    "        try:\n",
    "            table = html_to_table(html)\n",
    "        except:\n",
    "            print(\"html_to_table error\", imgname)\n",
    "            # print(html)\n",
    "            continue\n",
    "        \n",
    "        try:\n",
    "            table_new = format_table(table)\n",
    "        except:\n",
    "            print(\"format_table error\", imgname)\n",
    "            print(result['text'])\n",
    "            ### 去除layout中的-1\n",
    "            table = format_table_1(table)\n",
    "            table_new = format_table(table)\n",
    "        \n",
    "        img_id = imgname.split(\".\")[0]\n",
    "        save_path = os.path.join(PRED_SAVE_DIR, f'{img_id}-pred.json')\n",
    "\n",
    "        json.dump(table_new, open(save_path, 'w'), indent=4, ensure_ascii=False)\n",
    "\n"
   ]
  },
  {
   "cell_type": "code",
   "execution_count": null,
   "metadata": {},
   "outputs": [],
   "source": []
  }
 ],
 "metadata": {
  "kernelspec": {
   "display_name": "py3.9_torch1.9",
   "language": "python",
   "name": "python3"
  },
  "language_info": {
   "codemirror_mode": {
    "name": "ipython",
    "version": 3
   },
   "file_extension": ".py",
   "mimetype": "text/x-python",
   "name": "python",
   "nbconvert_exporter": "python",
   "pygments_lexer": "ipython3",
   "version": "3.9.16"
  },
  "orig_nbformat": 4
 },
 "nbformat": 4,
 "nbformat_minor": 2
}
