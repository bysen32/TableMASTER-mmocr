{
 "cells": [
  {
   "cell_type": "code",
   "execution_count": 1,
   "metadata": {},
   "outputs": [],
   "source": [
    "\n",
    "import os\n",
    "import numpy as np\n",
    "import json\n",
    "from utils.format_translate import segmentation_to_bbox, html_to_table\n",
    "from utils.utils import format_table, format_table_1, format_layout, format_tokens, remove_empty_bboxes, get_html\n",
    "import shutil\n",
    "from tqdm import tqdm\n",
    "\n",
    "\n",
    "def merge_token(token_list):\n",
    "    \"\"\"\n",
    "    This function used to merge the common tokens of raw tokens, and reduce the max length.\n",
    "    eg. merge '<td>' and '</td>' to '<td></td>' which are always appear together.\n",
    "    :param token_list: [list]. the raw tokens from the json line file.\n",
    "    :return: merged tokens.\n",
    "    \"\"\"\n",
    "    pointer = 0\n",
    "    merge_token_list = []\n",
    "    # </tbody> is the last token str.\n",
    "    while token_list[pointer] != '</tbody>':\n",
    "        if token_list[pointer] == '<td>':\n",
    "            tmp = token_list[pointer] + token_list[pointer+1]\n",
    "            merge_token_list.append(tmp)\n",
    "            pointer += 2\n",
    "        else:\n",
    "            merge_token_list.append(token_list[pointer])\n",
    "            pointer += 1\n",
    "    merge_token_list.append('</tbody>')\n",
    "    return merge_token_list\n"
   ]
  },
  {
   "cell_type": "code",
   "execution_count": 2,
   "metadata": {},
   "outputs": [
    {
     "name": "stderr",
     "output_type": "stream",
     "text": [
      "100%|██████████| 5000/5000 [00:18<00:00, 275.14it/s]\n",
      "100%|██████████| 3000/3000 [00:22<00:00, 131.14it/s]\n"
     ]
    }
   ],
   "source": [
    "\n",
    "EXT_DATA_ROOT = \"/media/ubuntu/Date12/TableStruct/ext_data\"\n",
    "\n",
    "ext_data_save_dir = os.path.join(EXT_DATA_ROOT, \"train\")\n",
    "if os.path.exists(ext_data_save_dir):\n",
    "    shutil.rmtree(ext_data_save_dir)\n",
    "shutil.copytree(os.path.join(EXT_DATA_ROOT, \"img2\"), ext_data_save_dir)\n",
    "shutil.copytree(os.path.join(EXT_DATA_ROOT, \"img1\"), ext_data_save_dir, dirs_exist_ok=True)\n",
    "\n",
    "\n",
    "for gt_file in [\"gt1.txt\", \"gt2.txt\"]:\n",
    "    ext_gt_txt_file = os.path.join(EXT_DATA_ROOT, gt_file)\n",
    "    gt_data = open(ext_gt_txt_file, 'r').readlines()\n",
    "    for data in tqdm(gt_data):\n",
    "        data = eval(data)\n",
    "\n",
    "        imgname = os.path.basename(data['filename'])\n",
    "        img_id = imgname.split(\".\")[0]\n",
    "\n",
    "        cells = []\n",
    "        for idx, cell in enumerate(data['html']['cells']):\n",
    "            bbox = segmentation_to_bbox(cell['bbox'])\n",
    "            tokens = '' if cell['tokens'] == [] else f'{idx}'\n",
    "            cells.append(dict(bbox=bbox, tokens=tokens))\n",
    "\n",
    "        tokens = data['html']['structure']['tokens']\n",
    "        if '<thead>' not in tokens and '<tbody>' not in tokens:\n",
    "            tokens.insert(0, '<tbody>')\n",
    "            tokens.append('</tbody>')\n",
    "        # tokens = format_tokens(','.join(tokens))\n",
    "        # tokens = merge_token(tokens)\n",
    "\n",
    "        html = dict(html=dict(structure=dict(tokens=tokens), cells=cells))\n",
    "\n",
    "        table = html_to_table(html)\n",
    "        table_new = format_table(table)\n",
    "        \n",
    "        save_path = os.path.join(ext_data_save_dir, f'{img_id}.json')\n",
    "        json.dump(table_new, open(save_path, 'w'), indent=4, ensure_ascii=False)"
   ]
  }
 ],
 "metadata": {
  "kernelspec": {
   "display_name": "py3.9_torch1.9",
   "language": "python",
   "name": "python3"
  },
  "language_info": {
   "codemirror_mode": {
    "name": "ipython",
    "version": 3
   },
   "file_extension": ".py",
   "mimetype": "text/x-python",
   "name": "python",
   "nbconvert_exporter": "python",
   "pygments_lexer": "ipython3",
   "version": "3.9.16"
  },
  "orig_nbformat": 4
 },
 "nbformat": 4,
 "nbformat_minor": 2
}
