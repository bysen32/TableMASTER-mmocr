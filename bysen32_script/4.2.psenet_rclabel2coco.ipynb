{
 "cells": [
  {
   "cell_type": "code",
   "execution_count": null,
   "metadata": {},
   "outputs": [],
   "source": [
    "import os\n",
    "import sys\n",
    "import cv2\n",
    "import json\n",
    "import shutil\n",
    "from glob import glob\n",
    "from tqdm import tqdm\n",
    "from pathlib import Path\n",
    "\n",
    "from utils.table2label import table2layout, fuse_gt_info, judge_error\n",
    "from utils.table_helper import correct_table\n",
    "\n",
    "\n",
    "\n",
    "def table2label(table_dir, label_dir, error_file_path):\n",
    "    table_error = {}\n",
    "    json_files = sorted(glob(os.path.join(table_dir, '*.json')))\n",
    "    for idx, json_path in tqdm(enumerate(json_files), total=len(json_files)):\n",
    "        json_dir = os.path.dirname(json_path)\n",
    "        json_name = os.path.basename(json_path)\n",
    "        # json_name = \"06615.json\"\n",
    "        # json_path = os.path.join(json_dir, json_name)\n",
    "\n",
    "        json_id = json_name.split('.')[0]\n",
    "        table = json.load(open(json_path, 'r'))\n",
    "        \n",
    "        if not table['is_wireless']:\n",
    "            continue\n",
    "\n",
    "        # table['is_wireless'] = True\n",
    "\n",
    "        # table = correct_table(table)\n",
    "        try:\n",
    "            gt_label = table2layout(table)\n",
    "        except:\n",
    "            table_error[json_id] = 'table2layout error'\n",
    "            continue\n",
    "\n",
    "        ## 有线表格得到的bbox还是cell框，不是text框\n",
    "        try:\n",
    "            gt_label = fuse_gt_info(gt_label, table)\n",
    "        except:\n",
    "            table_error[json_id] = \"fuse_gt_info error\" # 仅有1cell的有线表格 滤过\n",
    "            continue\n",
    "\n",
    "        valid, msg = judge_error(table, gt_label)\n",
    "        if not valid:\n",
    "            print(json_name, msg)\n",
    "            table_error[json_id] = msg\n",
    "            continue\n",
    "\n",
    "        gt_json_path = os.path.join(label_dir, f'{json_id}-gt.json')\n",
    "        json.dump(gt_label, open(gt_json_path, 'w'), indent=4)\n",
    "    json.dump(table_error, open(error_file_path, 'w'), indent=4)\n",
    "\n",
    "    print('table error: {}'.format(len(table_error)))"
   ]
  },
  {
   "attachments": {},
   "cell_type": "markdown",
   "metadata": {},
   "source": [
    "## STEP.1 gen_gt_labels"
   ]
  },
  {
   "cell_type": "code",
   "execution_count": null,
   "metadata": {},
   "outputs": [],
   "source": [
    "'''\n",
    "输入\n",
    "    训练集目录: {dataset_root}/train\n",
    "输出\n",
    "    训练集标注目录: {dataset_root}/train_gt_json/\n",
    "    {dataset_root}/train_error.json\n",
    "'''\n",
    "DATASET = \"train_jpg480max\"\n",
    "DATASET_ROOT = '/media/ubuntu/Date12/TableStruct/psenet'\n",
    "\n",
    "rc_label_dir = os.path.join(DATASET_ROOT, DATASET)\n",
    "save_dir = os.path.join(DATASET_ROOT, \"detect_label\")\n",
    "\n",
    "table_error = {}\n",
    "json_files = sorted(glob(os.path.join(rc_label_dir, '*.json')))\n",
    "for idx, json_path in tqdm(enumerate(json_files), total=len(json_files)):\n",
    "    pass\n"
   ]
  }
 ],
 "metadata": {
  "kernelspec": {
   "display_name": "py3.9_torch1.9",
   "language": "python",
   "name": "python3"
  },
  "language_info": {
   "codemirror_mode": {
    "name": "ipython",
    "version": 3
   },
   "file_extension": ".py",
   "mimetype": "text/x-python",
   "name": "python",
   "nbconvert_exporter": "python",
   "pygments_lexer": "ipython3",
   "version": "3.9.16"
  },
  "orig_nbformat": 4
 },
 "nbformat": 4,
 "nbformat_minor": 2
}
