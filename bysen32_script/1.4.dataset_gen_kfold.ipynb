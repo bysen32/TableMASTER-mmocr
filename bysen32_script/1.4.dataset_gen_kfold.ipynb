{
 "cells": [
  {
   "cell_type": "code",
   "execution_count": 1,
   "metadata": {},
   "outputs": [],
   "source": [
    "from sklearn.model_selection import KFold\n",
    "import numpy as np\n",
    "import os\n",
    "import json\n",
    "import shutil\n",
    "from glob import glob\n",
    "from tqdm import tqdm\n",
    "from pathlib import Path\n"
   ]
  },
  {
   "cell_type": "code",
   "execution_count": 2,
   "metadata": {},
   "outputs": [],
   "source": [
    "DATASET = \"train_jpg480max\"\n",
    "DATASET_ROOT = '/media/ubuntu/Date12/TableStruct/new_data'\n",
    "\n",
    "\n",
    "LABEL_DATA_DIR = os.path.join(DATASET_ROOT, f\"{DATASET}_gt_json\")\n",
    "IMG_DATA_DIR = os.path.join(DATASET_ROOT, DATASET)\n",
    "FOLD_K = 10\n",
    "\n",
    "raise Exception(\"Dont run this script anymore!!!\")\n",
    "\n",
    "image_files = sorted(glob(os.path.join(IMG_DATA_DIR, '*.jpg')))\n",
    "image_names = list(map(lambda x: os.path.basename(x).replace(\".jpg\", \"\"), image_files))\n",
    "image_names = np.array(image_names)\n",
    "\n",
    "\n",
    "kf = KFold(n_splits=FOLD_K, shuffle=True, random_state=42)\n",
    "for i, (train_idx, test_idx) in enumerate(kf.split(image_names)):\n",
    "    train_set = image_names[train_idx]\n",
    "    valid_set = image_names[test_idx]\n",
    "    fold_data = dict(train=train_set.tolist(), valid=valid_set.tolist())\n",
    "\n",
    "    fold_json_path = os.path.join(DATASET_ROOT, f'{DATASET}_{FOLD_K}fold{i}.json')\n",
    "    json.dump(fold_data, open(fold_json_path, 'w'), indent=4)\n"
   ]
  },
  {
   "cell_type": "code",
   "execution_count": null,
   "metadata": {},
   "outputs": [],
   "source": []
  }
 ],
 "metadata": {
  "kernelspec": {
   "display_name": "py3.9_torch1.9",
   "language": "python",
   "name": "python3"
  },
  "language_info": {
   "codemirror_mode": {
    "name": "ipython",
    "version": 3
   },
   "file_extension": ".py",
   "mimetype": "text/x-python",
   "name": "python",
   "nbconvert_exporter": "python",
   "pygments_lexer": "ipython3",
   "version": "3.9.16"
  },
  "orig_nbformat": 4
 },
 "nbformat": 4,
 "nbformat_minor": 2
}
