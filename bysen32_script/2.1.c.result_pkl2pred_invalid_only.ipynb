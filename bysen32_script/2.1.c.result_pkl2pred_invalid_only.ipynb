{
 "cells": [
  {
   "cell_type": "code",
   "execution_count": 3,
   "metadata": {},
   "outputs": [],
   "source": [
    "import os\n",
    "import sys\n",
    "import pickle\n",
    "import numpy as np\n",
    "import matplotlib.pyplot as plt\n",
    "import matplotlib.patches as patches\n",
    "from PIL import Image\n",
    "from tqdm import tqdm\n",
    "from utils.format_translate import html_to_table\n",
    "from utils.utils import format_table, format_table_1, format_layout, format_tokens, remove_empty_bboxes, get_html\n",
    "import json\n",
    "from pathlib import Path\n",
    "from glob import glob\n",
    "import shutil\n",
    "\n"
   ]
  },
  {
   "cell_type": "code",
   "execution_count": 4,
   "metadata": {},
   "outputs": [
    {
     "name": "stderr",
     "output_type": "stream",
     "text": [
      "  5%|▌         | 62/1183 [00:00<00:01, 606.90it/s]"
     ]
    },
    {
     "name": "stdout",
     "output_type": "stream",
     "text": [
      "html_to_table error 04016.jpg\n",
      "html_to_table error 04231.jpg\n",
      "html_to_table error 03348.jpg\n",
      "html_to_table error 04452.jpg\n",
      "html_to_table error 03722.jpg\n",
      "html_to_table error 03762.jpg\n",
      "html_to_table error 00205.jpg\n",
      "html_to_table error 03573.jpg\n",
      "html_to_table error 04176.jpg\n",
      "html_to_table error 03648.jpg\n"
     ]
    },
    {
     "name": "stderr",
     "output_type": "stream",
     "text": [
      " 10%|█         | 123/1183 [00:00<00:03, 347.14it/s]"
     ]
    },
    {
     "name": "stdout",
     "output_type": "stream",
     "text": [
      "html_to_table error 05131.jpg\n",
      "html_to_table error 04021.jpg\n",
      "html_to_table error 05157.jpg\n",
      "html_to_table error 04769.jpg\n",
      "html_to_table error 03948.jpg\n",
      "html_to_table error 04504.jpg\n",
      "html_to_table error 04336.jpg\n",
      "html_to_table error 04554.jpg\n"
     ]
    },
    {
     "name": "stderr",
     "output_type": "stream",
     "text": [
      " 21%|██        | 244/1183 [00:00<00:01, 471.53it/s]"
     ]
    },
    {
     "name": "stdout",
     "output_type": "stream",
     "text": [
      "html_to_table error 04333.jpg\n",
      "html_to_table error 02859.jpg\n",
      "html_to_table error 02879.jpg\n",
      "html_to_table error 04295.jpg\n",
      "html_to_table error 03495.jpg\n",
      "html_to_table error 03818.jpg\n",
      "html_to_table error 03746.jpg\n",
      "html_to_table error 03651.jpg\n"
     ]
    },
    {
     "name": "stderr",
     "output_type": "stream",
     "text": [
      " 29%|██▉       | 344/1183 [00:00<00:02, 418.60it/s]"
     ]
    },
    {
     "name": "stdout",
     "output_type": "stream",
     "text": [
      "html_to_table error 03007.jpg\n",
      "html_to_table error 04188.jpg\n",
      "html_to_table error 03765.jpg\n",
      "html_to_table error 03424.jpg\n",
      "html_to_table error 04312.jpg\n",
      "html_to_table error 04139.jpg\n",
      "html_to_table error 05117.jpg\n",
      "html_to_table error 03784.jpg\n",
      "html_to_table error 04926.jpg\n"
     ]
    },
    {
     "name": "stderr",
     "output_type": "stream",
     "text": [
      " 38%|███▊      | 446/1183 [00:01<00:01, 402.27it/s]"
     ]
    },
    {
     "name": "stdout",
     "output_type": "stream",
     "text": [
      "html_to_table error 03678.jpg\n",
      "html_to_table error 05023.jpg\n",
      "html_to_table error 03026.jpg\n",
      "html_to_table error 04527.jpg\n",
      "html_to_table error 03005.jpg\n",
      "html_to_table error 03695.jpg\n",
      "html_to_table error 04727.jpg\n",
      "html_to_table error 04989.jpg\n"
     ]
    },
    {
     "name": "stderr",
     "output_type": "stream",
     "text": [
      " 47%|████▋     | 551/1183 [00:01<00:01, 506.14it/s]"
     ]
    },
    {
     "name": "stdout",
     "output_type": "stream",
     "text": [
      "html_to_table error 04958.jpg\n",
      "html_to_table error 04290.jpg\n",
      "html_to_table error 05073.jpg\n",
      "html_to_table error 03159.jpg\n",
      "html_to_table error 03182.jpg\n",
      "html_to_table error 03013.jpg\n",
      "html_to_table error 03643.jpg\n",
      "html_to_table error 03895.jpg\n",
      "html_to_table error 04882.jpg\n",
      "html_to_table error 03291.jpg\n"
     ]
    },
    {
     "name": "stderr",
     "output_type": "stream",
     "text": [
      " 61%|██████    | 724/1183 [00:01<00:00, 683.29it/s]"
     ]
    },
    {
     "name": "stdout",
     "output_type": "stream",
     "text": [
      "html_to_table error 04690.jpg\n",
      "html_to_table error 03798.jpg\n",
      "html_to_table error 04099.jpg\n",
      "html_to_table error 03576.jpg\n",
      "html_to_table error 03092.jpg\n",
      "html_to_table error 04206.jpg\n",
      "html_to_table error 03122.jpg\n",
      "html_to_table error 05089.jpg\n",
      "html_to_table error 03534.jpg\n",
      "html_to_table error 04942.jpg\n",
      "html_to_table error 04721.jpg\n",
      "html_to_table error 04156.jpg\n"
     ]
    },
    {
     "name": "stderr",
     "output_type": "stream",
     "text": [
      " 72%|███████▏  | 857/1183 [00:01<00:00, 539.67it/s]"
     ]
    },
    {
     "name": "stdout",
     "output_type": "stream",
     "text": [
      "html_to_table error 04516.jpg\n",
      "html_to_table error 03527.jpg\n",
      "html_to_table error 04237.jpg\n",
      "html_to_table error 03507.jpg\n",
      "html_to_table error 03806.jpg\n",
      "html_to_table error 03480.jpg\n",
      "html_to_table error 03951.jpg\n",
      "html_to_table error 03047.jpg\n",
      "html_to_table error 03060.jpg\n",
      "html_to_table error 04405.jpg\n"
     ]
    },
    {
     "name": "stderr",
     "output_type": "stream",
     "text": [
      " 77%|███████▋  | 916/1183 [00:01<00:00, 506.15it/s]"
     ]
    },
    {
     "name": "stdout",
     "output_type": "stream",
     "text": [
      "html_to_table error 04118.jpg\n",
      "html_to_table error 02926.jpg\n",
      "html_to_table error 03615.jpg\n",
      "html_to_table error 03536.jpg\n",
      "html_to_table error 03055.jpg\n",
      "html_to_table error 04373.jpg\n",
      "html_to_table error 04548.jpg\n",
      "html_to_table error 04966.jpg\n",
      "html_to_table error 03079.jpg\n"
     ]
    },
    {
     "name": "stderr",
     "output_type": "stream",
     "text": [
      " 87%|████████▋ | 1028/1183 [00:02<00:00, 503.01it/s]"
     ]
    },
    {
     "name": "stdout",
     "output_type": "stream",
     "text": [
      "html_to_table error 03175.jpg\n",
      "html_to_table error 03864.jpg\n",
      "html_to_table error 03112.jpg\n",
      "html_to_table error 04571.jpg\n",
      "html_to_table error 04639.jpg\n",
      "html_to_table error 03214.jpg\n",
      "html_to_table error 03474.jpg\n",
      "html_to_table error 03088.jpg\n",
      "html_to_table error 03696.jpg\n",
      "html_to_table error 05006.jpg\n",
      "html_to_table error 04197.jpg\n"
     ]
    },
    {
     "name": "stderr",
     "output_type": "stream",
     "text": [
      "100%|██████████| 1183/1183 [00:02<00:00, 501.45it/s]\n"
     ]
    },
    {
     "name": "stdout",
     "output_type": "stream",
     "text": [
      "html_to_table error 03866.jpg\n",
      "html_to_table error 03753.jpg\n",
      "html_to_table error 04177.jpg\n",
      "html_to_table error 04085.jpg\n",
      "html_to_table error 03764.jpg\n"
     ]
    },
    {
     "name": "stderr",
     "output_type": "stream",
     "text": [
      "  0%|          | 0/1184 [00:00<?, ?it/s]"
     ]
    },
    {
     "name": "stdout",
     "output_type": "stream",
     "text": [
      "html_to_table error 03766.jpg\n",
      "html_to_table error 03158.jpg\n"
     ]
    },
    {
     "name": "stderr",
     "output_type": "stream",
     "text": [
      "  2%|▏         | 22/1184 [00:00<00:05, 197.39it/s]"
     ]
    },
    {
     "name": "stdout",
     "output_type": "stream",
     "text": [
      "html_to_table error 04120.jpg\n",
      "html_to_table error 04616.jpg\n",
      "html_to_table error 03780.jpg\n",
      "html_to_table error 03712.jpg\n"
     ]
    },
    {
     "name": "stderr",
     "output_type": "stream",
     "text": [
      "  8%|▊         | 98/1184 [00:00<00:02, 483.98it/s]"
     ]
    },
    {
     "name": "stdout",
     "output_type": "stream",
     "text": [
      "html_to_table error 03031.jpg\n",
      "html_to_table error 03468.jpg\n",
      "html_to_table error 03592.jpg\n",
      "html_to_table error 04792.jpg\n",
      "html_to_table error 03377.jpg\n",
      "html_to_table error 02989.jpg\n",
      "html_to_table error 04133.jpg\n",
      "html_to_table error 04408.jpg\n",
      "html_to_table error 03329.jpg\n"
     ]
    },
    {
     "name": "stderr",
     "output_type": "stream",
     "text": [
      " 14%|█▍        | 170/1184 [00:00<00:01, 510.14it/s]"
     ]
    },
    {
     "name": "stdout",
     "output_type": "stream",
     "text": [
      "html_to_table error 04988.jpg\n",
      "html_to_table error 04430.jpg\n"
     ]
    },
    {
     "name": "stderr",
     "output_type": "stream",
     "text": [
      " 19%|█▊        | 221/1184 [00:00<00:02, 372.87it/s]"
     ]
    },
    {
     "name": "stdout",
     "output_type": "stream",
     "text": [
      "html_to_table error 04094.jpg\n",
      "html_to_table error 03246.jpg\n",
      "html_to_table error 04932.jpg\n",
      "html_to_table error 03835.jpg\n",
      "html_to_table error 04820.jpg\n",
      "html_to_table error 03549.jpg\n",
      "html_to_table error 04403.jpg\n",
      "html_to_table error 03394.jpg\n",
      "html_to_table error 05039.jpg\n",
      "html_to_table error 03562.jpg\n"
     ]
    },
    {
     "name": "stderr",
     "output_type": "stream",
     "text": [
      " 25%|██▍       | 292/1184 [00:00<00:02, 411.41it/s]"
     ]
    },
    {
     "name": "stdout",
     "output_type": "stream",
     "text": [
      "html_to_table error 03815.jpg\n",
      "html_to_table error 04453.jpg\n",
      "html_to_table error 03245.jpg\n",
      "html_to_table error 03769.jpg\n"
     ]
    },
    {
     "name": "stderr",
     "output_type": "stream",
     "text": [
      " 29%|██▉       | 341/1184 [00:00<00:01, 428.37it/s]"
     ]
    },
    {
     "name": "stdout",
     "output_type": "stream",
     "text": [
      "html_to_table error 03072.jpg\n",
      "html_to_table error 03012.jpg\n",
      "html_to_table error 04491.jpg\n"
     ]
    },
    {
     "name": "stderr",
     "output_type": "stream",
     "text": [
      " 37%|███▋      | 434/1184 [00:00<00:01, 502.50it/s]"
     ]
    },
    {
     "name": "stdout",
     "output_type": "stream",
     "text": [
      "html_to_table error 04228.jpg\n",
      "html_to_table error 02858.jpg\n",
      "html_to_table error 02916.jpg\n",
      "html_to_table error 04067.jpg\n",
      "html_to_table error 04070.jpg\n",
      "html_to_table error 03754.jpg\n"
     ]
    },
    {
     "name": "stderr",
     "output_type": "stream",
     "text": [
      " 45%|████▍     | 528/1184 [00:01<00:01, 612.88it/s]"
     ]
    },
    {
     "name": "stdout",
     "output_type": "stream",
     "text": [
      "html_to_table error 03947.jpg\n",
      "html_to_table error 04298.jpg\n",
      "html_to_table error 03228.jpg\n",
      "html_to_table error 03299.jpg\n",
      "format_table error 03299.jpg\n",
      "<thead>,</thead>,<tbody>,<tr>,<td, rowspan=\"2\",>,</td>,<td, rowspan=\"2\",>,</td>,<td, rowspan=\"2\",>,</td>,<td, rowspan=\"2\",>,</td>,<td, colspan=\"6\",>,</td>,</tr>,<tr>,<td></td>,<td></td>,<td></td>,<td></td>,<td></td>,<td></td>,</tr>,<tr>,<td,<UKN>,>,</td>,<td,<UKN>,>,</td>,<td,<UKN>,>,</td>,<td,<UKN>,>,</td>,<td></td>,<td></td>,<td, colspan=\"2\",>,</td>,<td></td>,<td></td>,<td></td>,</tr>,<tr>,<td></td>,<td></td>,<td></td>,<td></td>,<td></td>,<td></td>,<td></td>,</tr>,<tr>,<td></td>,<td></td>,<td></td>,<td></td>,<td></td>,<td></td>,<td></td>,</tr>,<tr>,<td></td>,<td></td>,<td></td>,<td></td>,<td></td>,<td></td>,<td></td>,</tr>,<tr>,<td></td>,<td></td>,<td></td>,<td></td>,<eb></eb>,<eb></eb>,<td></td>,</tr>,<tr>,<td></td>,<td></td>,<td></td>,<td></td>,<eb></eb>,<eb></eb>,<td></td>,</tr>,<tr>,<td></td>,<td></td>,<td></td>,<td></td>,<td></td>,<td></td>,<td></td>,</tr>,<tr>,<td></td>,<td></td>,<td></td>,<td></td>,<td></td>,<td></td>,<td></td>,</tr>,<tr>,<td></td>,<td></td>,<td></td>,<td></td>,<td></td>,<td></td>,<td></td>,</tr>,<tr>,<td></td>,<td></td>,<td></td>,<td></td>,<td></td>,<td></td>,<td></td>,</tr>,<tr>,<td></td>,<td></td>,<td></td>,<td></td>,<eb></eb>,<eb></eb>,<td></td>,</tr>,<tr>,<td></td>,<td></td>,<td></td>,<td></td>,<td></td>,<td></td>,</tr>,<tr>,<td></td>,<td></td>,<td></td>,<td, colspan=\"3\",>,</td>,<td></td>,</tr>,<tr>,<td,<UKN>,>,</td>,<td, rowspan=\"14\",>,</td>,<td></td>,<td></td>,<td, colspan=\"2\",>,</td>,<td></td>,<td></td>,<td></td>,</tr>,<tr>,<td></td>,<td></td>,<td></td>,<td></td>,<td></td>,<td></td>,</tr>,<tr>,<td></td>,<td></td>,<td></td>,<td></td>,<td></td>,<td></td>,</tr>,<tr>,<td></td>,<td></td>,<td></td>,<td></td>,<td></td>,<td></td>,</tr>,<tr>,<td></td>,<td></td>,<td></td>,<td></td>,<td></td>,<td></td>,</tr>,<tr>,<td></td>,<td></td>,<td></td>,<eb></eb>,<eb></eb>,<td></td>,</tr>,<tr>,<td></td>,<td></td>,<td></td>,<eb></eb>,<eb></eb>,<td></td>,</tr>,<tr>,<td></td>,<td></td>,<td></td>,<td></td>,<td></td>,<td></td>,</tr>,<tr>,<td></td>,<td></td>,<td></td>,<td></td>,<td></td>,<td></td>,</tr>,<tr>,<td></td>,<td></td>,<td></td>,<td></td>,<td></td>,<td></td>,</tr>,<tr>,<td></td>,<td></td>,<td></td>,<eb></eb>,<eb></eb>,<td></td>,</tr>,<tr>,<td></td>,<td></td>,<td></td>,<td></td>,<td></td>,<td></td>,</tr>,<tr>,<td></td>,<td></td>,<td></td>,<td, colspan=\"3\",>,</td>,<td></td>,</tr>,<tr>,<td></td>,<td></td>,<td></td>,<td, colspan=\"3\",>,</td>,<td></td>,</tr>,<tr>,<td></td>,<td></td>,<td></td>,<td,<td></td>,<td></td>,</tr>,<tr>,<td></td>,<td></td>,<td></td>,<td></td>,<td></td>,<td></td>,</tr>,</tbody>\n"
     ]
    },
    {
     "name": "stderr",
     "output_type": "stream",
     "text": [
      " 54%|█████▍    | 645/1184 [00:01<00:00, 759.68it/s]"
     ]
    },
    {
     "name": "stdout",
     "output_type": "stream",
     "text": [
      "html_to_table error 04788.jpg\n",
      "html_to_table error 04129.jpg\n",
      "html_to_table error 03277.jpg\n",
      "html_to_table error 05167.jpg\n",
      "html_to_table error 03577.jpg\n",
      "html_to_table error 04502.jpg\n"
     ]
    },
    {
     "name": "stderr",
     "output_type": "stream",
     "text": [
      " 61%|██████▏   | 726/1184 [00:01<00:00, 668.79it/s]"
     ]
    },
    {
     "name": "stdout",
     "output_type": "stream",
     "text": [
      "html_to_table error 03216.jpg\n",
      "html_to_table error 03242.jpg\n",
      "html_to_table error 02884.jpg\n",
      "html_to_table error 03438.jpg\n",
      "html_to_table error 03336.jpg\n",
      "html_to_table error 03472.jpg\n",
      "html_to_table error 04299.jpg\n",
      "html_to_table error 02862.jpg\n",
      "html_to_table error 03334.jpg\n",
      "html_to_table error 04638.jpg\n",
      "html_to_table error 03301.jpg\n",
      "html_to_table error 05007.jpg\n"
     ]
    },
    {
     "name": "stderr",
     "output_type": "stream",
     "text": [
      " 67%|██████▋   | 798/1184 [00:01<00:00, 535.18it/s]"
     ]
    },
    {
     "name": "stdout",
     "output_type": "stream",
     "text": [
      "html_to_table error 04608.jpg\n"
     ]
    },
    {
     "name": "stderr",
     "output_type": "stream",
     "text": [
      " 73%|███████▎  | 859/1184 [00:01<00:00, 536.72it/s]"
     ]
    },
    {
     "name": "stdout",
     "output_type": "stream",
     "text": [
      "html_to_table error 03170.jpg\n",
      "html_to_table error 04277.jpg\n",
      "html_to_table error 04006.jpg\n",
      "html_to_table error 03589.jpg\n",
      "html_to_table error 03233.jpg\n",
      "html_to_table error 03087.jpg\n",
      "html_to_table error 03822.jpg\n",
      "html_to_table error 02940.jpg\n",
      "html_to_table error 03050.jpg\n",
      "html_to_table error 03607.jpg\n",
      "html_to_table error 03962.jpg\n",
      "html_to_table error 03281.jpg\n"
     ]
    },
    {
     "name": "stderr",
     "output_type": "stream",
     "text": [
      " 82%|████████▏ | 973/1184 [00:01<00:00, 476.17it/s]"
     ]
    },
    {
     "name": "stdout",
     "output_type": "stream",
     "text": [
      "html_to_table error 05148.jpg\n",
      "html_to_table error 04603.jpg\n",
      "html_to_table error 05173.jpg\n",
      "html_to_table error 03506.jpg\n",
      "html_to_table error 04192.jpg\n",
      "html_to_table error 02964.jpg\n"
     ]
    },
    {
     "name": "stderr",
     "output_type": "stream",
     "text": [
      " 93%|█████████▎| 1100/1184 [00:02<00:00, 552.62it/s]"
     ]
    },
    {
     "name": "stdout",
     "output_type": "stream",
     "text": [
      "html_to_table error 03532.jpg\n",
      "html_to_table error 03590.jpg\n",
      "html_to_table error 03624.jpg\n",
      "html_to_table error 02992.jpg\n",
      "html_to_table error 04445.jpg\n",
      "html_to_table error 02899.jpg\n",
      "html_to_table error 02889.jpg\n",
      "html_to_table error 03176.jpg\n",
      "html_to_table error 03330.jpg\n",
      "html_to_table error 03550.jpg\n",
      "html_to_table error 04567.jpg\n",
      "html_to_table error 03581.jpg\n"
     ]
    },
    {
     "name": "stderr",
     "output_type": "stream",
     "text": [
      "100%|██████████| 1184/1184 [00:02<00:00, 513.57it/s]"
     ]
    },
    {
     "name": "stdout",
     "output_type": "stream",
     "text": [
      "html_to_table error 04466.jpg\n",
      "html_to_table error 04877.jpg\n",
      "html_to_table error 03289.jpg\n",
      "html_to_table_error_cnt 196\n",
      "format_table_error_cnt 1\n"
     ]
    },
    {
     "name": "stderr",
     "output_type": "stream",
     "text": [
      "\n"
     ]
    }
   ],
   "source": [
    "# result_file = \"./output/structure_result/test_A/structure_master_results_0.pkl\"\n",
    "# result_file_dir = os.path.dirname(result_file)\n",
    "\n",
    "DATASET = \"test_A_jpg480max_wire\"\n",
    "PRED_PKL_DIR = f\"../output/structure_result/test_A_jpg480max_wire_10fold1_valid97.58\"\n",
    "# 输出路径\n",
    "pred_save_dir = f\"./output/structure_result/{DATASET}-pred.json\"\n",
    "if os.path.exists(pred_save_dir):\n",
    "    shutil.rmtree(pred_save_dir)\n",
    "Path(pred_save_dir).mkdir(parents=True, exist_ok=True)\n",
    "\n",
    "\n",
    "def check_1(table):\n",
    "    layout = table['layout']\n",
    "    num = layout.max() + 1\n",
    "    if num > 16:\n",
    "        return\n",
    "    assert np.all(layout != -1)\n",
    "\n",
    "pkls = sorted(glob(os.path.join(PRED_PKL_DIR, \"structure_master_results_*.pkl\")))\n",
    "html_to_table_error_cnt = 0\n",
    "format_table_error_cnt = 0\n",
    "for result_file in pkls:\n",
    "    with open(result_file, 'rb') as f:\n",
    "        result_data = pickle.load(f)\n",
    "\n",
    "    for imgname, result in tqdm(result_data.items()):\n",
    "        img_id = imgname.split(\".\")[0]\n",
    "\n",
    "        bboxes = remove_empty_bboxes(result['bbox'])\n",
    "        tokens_list = format_tokens(result['text'])\n",
    "\n",
    "        html = get_html(tokens_list, bboxes) # use pred data -> html format\n",
    "        \n",
    "        try:\n",
    "            table = html_to_table(html, check=True)\n",
    "        except:\n",
    "            html_to_table_error_cnt += 1\n",
    "            print(\"html_to_table error\", imgname)\n",
    "\n",
    "            table = html_to_table(html, check=False)\n",
    "            try:\n",
    "                table_new = format_table(table)\n",
    "            except:\n",
    "                format_table_error_cnt += 1\n",
    "                print(\"format_table error\", imgname)\n",
    "                print(result['text'])\n",
    "                ### 去除layout中的-1\n",
    "                table = format_table_1(table)\n",
    "                table_new = format_table(table)\n",
    "\n",
    "            save_path = os.path.join(pred_save_dir, f'{img_id}-pred.json')\n",
    "\n",
    "            json.dump(table_new, open(save_path, 'w'), indent=4, ensure_ascii=False)\n",
    "\n",
    "print(\"html_to_table_error_cnt\", html_to_table_error_cnt)\n",
    "print(\"format_table_error_cnt\", format_table_error_cnt)\n"
   ]
  },
  {
   "cell_type": "code",
   "execution_count": null,
   "metadata": {},
   "outputs": [],
   "source": []
  }
 ],
 "metadata": {
  "kernelspec": {
   "display_name": "py3.9_torch1.9",
   "language": "python",
   "name": "python3"
  },
  "language_info": {
   "codemirror_mode": {
    "name": "ipython",
    "version": 3
   },
   "file_extension": ".py",
   "mimetype": "text/x-python",
   "name": "python",
   "nbconvert_exporter": "python",
   "pygments_lexer": "ipython3",
   "version": "3.9.16"
  },
  "orig_nbformat": 4
 },
 "nbformat": 4,
 "nbformat_minor": 2
}
