{
 "cells": [
  {
   "attachments": {},
   "cell_type": "markdown",
   "metadata": {},
   "source": [
    "预测结果可视化"
   ]
  },
  {
   "cell_type": "code",
   "execution_count": 1,
   "metadata": {},
   "outputs": [],
   "source": [
    "TRAINSET_PNG2JPG  = False\n",
    "TESTSET_PNG2JPG   = True\n",
    "TRAINSET_JPG_JSON = False\n",
    "TESTSET_JPG_JSON  = False"
   ]
  },
  {
   "attachments": {},
   "cell_type": "markdown",
   "metadata": {},
   "source": [
    "### Step1. 训练集PNG转JPG，长边缩放至512"
   ]
  },
  {
   "cell_type": "code",
   "execution_count": 2,
   "metadata": {},
   "outputs": [],
   "source": [
    "import cv2\n",
    "import os\n",
    "import matplotlib.pyplot as plt\n",
    "import matplotlib.patches as patches\n",
    "from PIL import Image\n",
    "from glob import glob\n",
    "import json\n",
    "import numpy as np\n",
    "from pathlib import Path\n",
    "from tqdm import tqdm\n",
    "\n",
    "\n",
    "\n",
    "# 数据集名称\n",
    "dataset = \"train\"\n",
    "dataset_root = \"/media/ubuntu/Date12/TableStruct/data/\"\n",
    "# 输入数据目录\n",
    "train_png_dir  = os.path.join(dataset_root, dataset)\n",
    "# 输出\n",
    "train_jpg_dir  = os.path.join(dataset_root, f\"{dataset}_jpg\")\n",
    "jpg_json_path  = os.path.join(dataset_root, f\"{dataset}_jpg.json\")\n",
    "Path(train_jpg_dir).mkdir(parents=True, exist_ok=True)\n",
    "\n",
    "\n",
    "if TRAINSET_PNG2JPG:\n",
    "    jpg_infos = dict()\n",
    "    for img_path in tqdm(glob(os.path.join(train_png_dir, \"*.png\"))):\n",
    "        img_file = os.path.basename(img_path)\n",
    "        img_id = img_file.split(\".\")[0]\n",
    "        jpg_img_path = os.path.join(train_jpg_dir, img_file.replace(\".png\", \".jpg\"))\n",
    "        img = cv2.imread(img_path)\n",
    "\n",
    "        scale = 1.0\n",
    "        oriwidth, oriheight = width, height = img.shape[1], img.shape[0]\n",
    "\n",
    "        if height > 512 and width > 512:\n",
    "            # 短边缩小至512，需要注意极端宽高比情况\n",
    "            if width >= height:\n",
    "                scale = 512.0 / height\n",
    "                height = 512 \n",
    "                width = round(width * scale)\n",
    "                img = cv2.resize(img, (width, height), interpolation=cv2.INTER_AREA)\n",
    "            else:\n",
    "                scale = 512.0 / width\n",
    "                width = 512 \n",
    "                height = round(height * scale)\n",
    "                img = cv2.resize(img, (width, height), interpolation=cv2.INTER_AREA)\n",
    "        elif height < 512 and width < 512:\n",
    "            # 短边放大至512，需要注意极端宽高比情况\n",
    "            if height >= width:\n",
    "                scale = 512.0 / width\n",
    "                width = 512 \n",
    "                height = round(height * scale)\n",
    "                img = cv2.resize(img, (width, height), interpolation=cv2.INTER_LINEAR)\n",
    "            else:\n",
    "                scale = 512.0 / height\n",
    "                height = 512 \n",
    "                width = round(width * scale)\n",
    "                img = cv2.resize(img, (width, height), interpolation=cv2.INTER_LINEAR)\n",
    "        jpg_infos[img_id] = dict(oriwidth=oriwidth, oriheight=oriheight, width=width, height=height, scale=scale)\n",
    "        cv2.imwrite(jpg_img_path, img)\n",
    "\n",
    "    json.dump(jpg_infos, open(jpg_json_path, \"w\"), indent=4)\n"
   ]
  },
  {
   "attachments": {},
   "cell_type": "markdown",
   "metadata": {},
   "source": [
    "### Step2. 测试集PNG转JPG，长边缩放至512"
   ]
  },
  {
   "cell_type": "code",
   "execution_count": 3,
   "metadata": {},
   "outputs": [
    {
     "name": "stderr",
     "output_type": "stream",
     "text": [
      "100%|██████████| 5187/5187 [08:43<00:00,  9.91it/s]\n"
     ]
    }
   ],
   "source": [
    "# 数据集名称\n",
    "dataset = \"test_A\"\n",
    "dataset_root = \"/media/ubuntu/Date12/TableStruct/data/\"\n",
    "# 输入数据目录\n",
    "test_png_dir  = os.path.join(dataset_root, dataset)\n",
    "# 输出\n",
    "test_jpg_dir  = os.path.join(dataset_root, f\"{dataset}_jpg\")\n",
    "jpg_json_path  = os.path.join(dataset_root, f\"{dataset}_jpg.json\")\n",
    "Path(test_jpg_dir).mkdir(parents=True, exist_ok=True)\n",
    "\n",
    "\n",
    "if TESTSET_PNG2JPG:\n",
    "    jpg_infos = dict()\n",
    "    for img_path in tqdm(glob(os.path.join(test_png_dir, \"*.png\"))):\n",
    "        img_file = os.path.basename(img_path)\n",
    "        img_id = img_file.split(\".\")[0]\n",
    "        jpg_img_path = os.path.join(test_jpg_dir, img_file.replace(\".png\", \".jpg\"))\n",
    "        img = cv2.imread(img_path)\n",
    "\n",
    "        scale = 1.0\n",
    "        oriwidth, oriheight = width, height = img.shape[1], img.shape[0]\n",
    "\n",
    "        if height > 512 and width > 512:\n",
    "            # 短边缩小至512，需要注意极端宽高比情况\n",
    "            if width >= height:\n",
    "                scale = 512.0 / height\n",
    "                height = 512 \n",
    "                width = round(width * scale)\n",
    "                img = cv2.resize(img, (width, height), interpolation=cv2.INTER_AREA)\n",
    "            else:\n",
    "                scale = 512.0 / width\n",
    "                width = 512 \n",
    "                height = round(height * scale)\n",
    "                img = cv2.resize(img, (width, height), interpolation=cv2.INTER_AREA)\n",
    "        elif height < 512 and width < 512:\n",
    "            # 短边放大至512，需要注意极端宽高比情况\n",
    "            if height >= width:\n",
    "                scale = 512.0 / width\n",
    "                width = 512 \n",
    "                height = round(height * scale)\n",
    "                img = cv2.resize(img, (width, height), interpolation=cv2.INTER_LINEAR)\n",
    "            else:\n",
    "                scale = 512.0 / height\n",
    "                height = 512 \n",
    "                width = round(width * scale)\n",
    "                img = cv2.resize(img, (width, height), interpolation=cv2.INTER_LINEAR)\n",
    "        jpg_infos[img_id] = dict(oriwidth=oriwidth, oriheight=oriheight, width=width, height=height, scale=scale)\n",
    "        cv2.imwrite(jpg_img_path, img)\n",
    "\n",
    "    json.dump(jpg_infos, open(jpg_json_path, \"w\"), indent=4)"
   ]
  },
  {
   "attachments": {},
   "cell_type": "markdown",
   "metadata": {},
   "source": [
    "### Step3. 训练集JSON坐标标注按比例缩放"
   ]
  },
  {
   "cell_type": "code",
   "execution_count": 4,
   "metadata": {},
   "outputs": [],
   "source": [
    "\n",
    "# 数据集名称\n",
    "dataset = \"train\"\n",
    "dataset_root = \"/media/ubuntu/Date12/TableStruct/data/\"\n",
    "# 输入数据目录\n",
    "train_json_dir  = os.path.join(dataset_root, dataset)\n",
    "# 输出\n",
    "train_jpg_dir  = os.path.join(dataset_root, f\"{dataset}_jpg\")\n",
    "jpg_json_path  = os.path.join(dataset_root, f\"{dataset}_jpg.json\")\n",
    "Path(train_jpg_dir).mkdir(parents=True, exist_ok=True)\n",
    "\n",
    "def segmentation_scale(segmentations, scale):\n",
    "    ret = []\n",
    "    for seg in segmentations:\n",
    "        seg = np.array(seg) * scale\n",
    "        seg = seg.astype(np.int32).tolist()\n",
    "        ret.append(seg)\n",
    "    return ret\n",
    "\n",
    "if TRAINSET_JPG_JSON:\n",
    "    img_infos = json.load(open(jpg_json_path, \"r\"))\n",
    "    for json_path in tqdm(glob(os.path.join(train_json_dir, \"*.json\"))):\n",
    "        json_file = os.path.basename(json_path)\n",
    "        img_id = json_file.split(\".\")[0]\n",
    "        jpg_json_path = os.path.join(train_jpg_dir, json_file)\n",
    "\n",
    "        info = json.load(open(json_path, \"r\"))\n",
    "        scale = img_infos[img_id][\"scale\"]\n",
    "\n",
    "        info[\"row\"]  = segmentation_scale(info[\"row\"], scale)\n",
    "        info[\"col\"]  = segmentation_scale(info[\"col\"], scale)\n",
    "        info[\"line\"] = segmentation_scale(info[\"line\"], scale)\n",
    "        info[\"cell\"] = segmentation_scale(info[\"cell\"], scale)\n",
    "\n",
    "        json.dump(info, open(jpg_json_path, \"w\"))"
   ]
  }
 ],
 "metadata": {
  "kernelspec": {
   "display_name": "py3.9_torch1.9",
   "language": "python",
   "name": "python3"
  },
  "language_info": {
   "codemirror_mode": {
    "name": "ipython",
    "version": 3
   },
   "file_extension": ".py",
   "mimetype": "text/x-python",
   "name": "python",
   "nbconvert_exporter": "python",
   "pygments_lexer": "ipython3",
   "version": "3.9.16"
  },
  "orig_nbformat": 4
 },
 "nbformat": 4,
 "nbformat_minor": 2
}
